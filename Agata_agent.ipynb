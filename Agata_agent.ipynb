{
  "nbformat": 4,
  "nbformat_minor": 0,
  "metadata": {
    "colab": {
      "provenance": []
    },
    "kernelspec": {
      "name": "python3",
      "display_name": "Python 3"
    },
    "language_info": {
      "name": "python"
    }
  },
  "cells": [
    {
      "cell_type": "markdown",
      "source": [
        "Weights & Biases Inference [docs](https://docs.wandb.ai/guides/inference/)"
      ],
      "metadata": {
        "id": "lc7GKwVJ23R6"
      }
    },
    {
      "cell_type": "markdown",
      "source": [
        "##Imports + API keys"
      ],
      "metadata": {
        "id": "g1huUI69O3bx"
      }
    },
    {
      "cell_type": "code",
      "source": [
        "!pip install exa-py\n",
        "!pip install wandb\n",
        "!pip install weave"
      ],
      "metadata": {
        "colab": {
          "base_uri": "https://localhost:8080/"
        },
        "collapsed": true,
        "id": "9hK_PEje-0S-",
        "outputId": "cb7f1092-e981-4510-ba1d-165b61f3278e"
      },
      "execution_count": 1,
      "outputs": [
        {
          "output_type": "stream",
          "name": "stdout",
          "text": [
            "Requirement already satisfied: exa-py in /usr/local/lib/python3.12/dist-packages (1.16.1)\n",
            "Requirement already satisfied: httpcore>=1.0.9 in /usr/local/lib/python3.12/dist-packages (from exa-py) (1.0.9)\n",
            "Requirement already satisfied: httpx>=0.28.1 in /usr/local/lib/python3.12/dist-packages (from exa-py) (0.28.1)\n",
            "Requirement already satisfied: openai>=1.48 in /usr/local/lib/python3.12/dist-packages (from exa-py) (1.109.1)\n",
            "Requirement already satisfied: pydantic>=2.10.6 in /usr/local/lib/python3.12/dist-packages (from exa-py) (2.11.10)\n",
            "Requirement already satisfied: python-dotenv>=1.0.1 in /usr/local/lib/python3.12/dist-packages (from exa-py) (1.1.1)\n",
            "Requirement already satisfied: requests>=2.32.3 in /usr/local/lib/python3.12/dist-packages (from exa-py) (2.32.4)\n",
            "Requirement already satisfied: typing-extensions>=4.12.2 in /usr/local/lib/python3.12/dist-packages (from exa-py) (4.15.0)\n",
            "Requirement already satisfied: certifi in /usr/local/lib/python3.12/dist-packages (from httpcore>=1.0.9->exa-py) (2025.10.5)\n",
            "Requirement already satisfied: h11>=0.16 in /usr/local/lib/python3.12/dist-packages (from httpcore>=1.0.9->exa-py) (0.16.0)\n",
            "Requirement already satisfied: anyio in /usr/local/lib/python3.12/dist-packages (from httpx>=0.28.1->exa-py) (4.11.0)\n",
            "Requirement already satisfied: idna in /usr/local/lib/python3.12/dist-packages (from httpx>=0.28.1->exa-py) (3.10)\n",
            "Requirement already satisfied: distro<2,>=1.7.0 in /usr/local/lib/python3.12/dist-packages (from openai>=1.48->exa-py) (1.9.0)\n",
            "Requirement already satisfied: jiter<1,>=0.4.0 in /usr/local/lib/python3.12/dist-packages (from openai>=1.48->exa-py) (0.11.0)\n",
            "Requirement already satisfied: sniffio in /usr/local/lib/python3.12/dist-packages (from openai>=1.48->exa-py) (1.3.1)\n",
            "Requirement already satisfied: tqdm>4 in /usr/local/lib/python3.12/dist-packages (from openai>=1.48->exa-py) (4.67.1)\n",
            "Requirement already satisfied: annotated-types>=0.6.0 in /usr/local/lib/python3.12/dist-packages (from pydantic>=2.10.6->exa-py) (0.7.0)\n",
            "Requirement already satisfied: pydantic-core==2.33.2 in /usr/local/lib/python3.12/dist-packages (from pydantic>=2.10.6->exa-py) (2.33.2)\n",
            "Requirement already satisfied: typing-inspection>=0.4.0 in /usr/local/lib/python3.12/dist-packages (from pydantic>=2.10.6->exa-py) (0.4.2)\n",
            "Requirement already satisfied: charset_normalizer<4,>=2 in /usr/local/lib/python3.12/dist-packages (from requests>=2.32.3->exa-py) (3.4.3)\n",
            "Requirement already satisfied: urllib3<3,>=1.21.1 in /usr/local/lib/python3.12/dist-packages (from requests>=2.32.3->exa-py) (2.5.0)\n",
            "Requirement already satisfied: wandb in /usr/local/lib/python3.12/dist-packages (0.22.2)\n",
            "Requirement already satisfied: click>=8.0.1 in /usr/local/lib/python3.12/dist-packages (from wandb) (8.3.0)\n",
            "Requirement already satisfied: gitpython!=3.1.29,>=1.0.0 in /usr/local/lib/python3.12/dist-packages (from wandb) (3.1.45)\n",
            "Requirement already satisfied: packaging in /usr/local/lib/python3.12/dist-packages (from wandb) (25.0)\n",
            "Requirement already satisfied: platformdirs in /usr/local/lib/python3.12/dist-packages (from wandb) (4.5.0)\n",
            "Requirement already satisfied: protobuf!=4.21.0,!=5.28.0,<7,>=3.19.0 in /usr/local/lib/python3.12/dist-packages (from wandb) (5.29.5)\n",
            "Requirement already satisfied: pydantic<3 in /usr/local/lib/python3.12/dist-packages (from wandb) (2.11.10)\n",
            "Requirement already satisfied: pyyaml in /usr/local/lib/python3.12/dist-packages (from wandb) (6.0.3)\n",
            "Requirement already satisfied: requests<3,>=2.0.0 in /usr/local/lib/python3.12/dist-packages (from wandb) (2.32.4)\n",
            "Requirement already satisfied: sentry-sdk>=2.0.0 in /usr/local/lib/python3.12/dist-packages (from wandb) (2.40.0)\n",
            "Requirement already satisfied: typing-extensions<5,>=4.8 in /usr/local/lib/python3.12/dist-packages (from wandb) (4.15.0)\n",
            "Requirement already satisfied: gitdb<5,>=4.0.1 in /usr/local/lib/python3.12/dist-packages (from gitpython!=3.1.29,>=1.0.0->wandb) (4.0.12)\n",
            "Requirement already satisfied: annotated-types>=0.6.0 in /usr/local/lib/python3.12/dist-packages (from pydantic<3->wandb) (0.7.0)\n",
            "Requirement already satisfied: pydantic-core==2.33.2 in /usr/local/lib/python3.12/dist-packages (from pydantic<3->wandb) (2.33.2)\n",
            "Requirement already satisfied: typing-inspection>=0.4.0 in /usr/local/lib/python3.12/dist-packages (from pydantic<3->wandb) (0.4.2)\n",
            "Requirement already satisfied: charset_normalizer<4,>=2 in /usr/local/lib/python3.12/dist-packages (from requests<3,>=2.0.0->wandb) (3.4.3)\n",
            "Requirement already satisfied: idna<4,>=2.5 in /usr/local/lib/python3.12/dist-packages (from requests<3,>=2.0.0->wandb) (3.10)\n",
            "Requirement already satisfied: urllib3<3,>=1.21.1 in /usr/local/lib/python3.12/dist-packages (from requests<3,>=2.0.0->wandb) (2.5.0)\n",
            "Requirement already satisfied: certifi>=2017.4.17 in /usr/local/lib/python3.12/dist-packages (from requests<3,>=2.0.0->wandb) (2025.10.5)\n",
            "Requirement already satisfied: smmap<6,>=3.0.1 in /usr/local/lib/python3.12/dist-packages (from gitdb<5,>=4.0.1->gitpython!=3.1.29,>=1.0.0->wandb) (5.0.2)\n",
            "Requirement already satisfied: weave in /usr/local/lib/python3.12/dist-packages (0.52.9)\n",
            "Requirement already satisfied: click in /usr/local/lib/python3.12/dist-packages (from weave) (8.3.0)\n",
            "Requirement already satisfied: diskcache==5.6.3 in /usr/local/lib/python3.12/dist-packages (from weave) (5.6.3)\n",
            "Requirement already satisfied: eval-type-backport in /usr/local/lib/python3.12/dist-packages (from weave) (0.2.2)\n",
            "Requirement already satisfied: gql[aiohttp,requests] in /usr/local/lib/python3.12/dist-packages (from weave) (4.0.0)\n",
            "Requirement already satisfied: jsonschema>=4.23.0 in /usr/local/lib/python3.12/dist-packages (from weave) (4.25.1)\n",
            "Requirement already satisfied: packaging>=21.0 in /usr/local/lib/python3.12/dist-packages (from weave) (25.0)\n",
            "Requirement already satisfied: polyfile-weave in /usr/local/lib/python3.12/dist-packages (from weave) (0.5.7)\n",
            "Requirement already satisfied: pydantic<2.12.0,>=2.0.0 in /usr/local/lib/python3.12/dist-packages (from weave) (2.11.10)\n",
            "Requirement already satisfied: sentry-sdk<3.0.0,>=2.0.0 in /usr/local/lib/python3.12/dist-packages (from weave) (2.40.0)\n",
            "Requirement already satisfied: tenacity!=8.4.0,>=8.3.0 in /usr/local/lib/python3.12/dist-packages (from weave) (8.5.0)\n",
            "Requirement already satisfied: wandb>=0.17.1 in /usr/local/lib/python3.12/dist-packages (from weave) (0.22.2)\n",
            "Requirement already satisfied: attrs>=22.2.0 in /usr/local/lib/python3.12/dist-packages (from jsonschema>=4.23.0->weave) (25.4.0)\n",
            "Requirement already satisfied: jsonschema-specifications>=2023.03.6 in /usr/local/lib/python3.12/dist-packages (from jsonschema>=4.23.0->weave) (2025.9.1)\n",
            "Requirement already satisfied: referencing>=0.28.4 in /usr/local/lib/python3.12/dist-packages (from jsonschema>=4.23.0->weave) (0.36.2)\n",
            "Requirement already satisfied: rpds-py>=0.7.1 in /usr/local/lib/python3.12/dist-packages (from jsonschema>=4.23.0->weave) (0.27.1)\n",
            "Requirement already satisfied: annotated-types>=0.6.0 in /usr/local/lib/python3.12/dist-packages (from pydantic<2.12.0,>=2.0.0->weave) (0.7.0)\n",
            "Requirement already satisfied: pydantic-core==2.33.2 in /usr/local/lib/python3.12/dist-packages (from pydantic<2.12.0,>=2.0.0->weave) (2.33.2)\n",
            "Requirement already satisfied: typing-extensions>=4.12.2 in /usr/local/lib/python3.12/dist-packages (from pydantic<2.12.0,>=2.0.0->weave) (4.15.0)\n",
            "Requirement already satisfied: typing-inspection>=0.4.0 in /usr/local/lib/python3.12/dist-packages (from pydantic<2.12.0,>=2.0.0->weave) (0.4.2)\n",
            "Requirement already satisfied: urllib3>=1.26.11 in /usr/local/lib/python3.12/dist-packages (from sentry-sdk<3.0.0,>=2.0.0->weave) (2.5.0)\n",
            "Requirement already satisfied: certifi in /usr/local/lib/python3.12/dist-packages (from sentry-sdk<3.0.0,>=2.0.0->weave) (2025.10.5)\n",
            "Requirement already satisfied: gitpython!=3.1.29,>=1.0.0 in /usr/local/lib/python3.12/dist-packages (from wandb>=0.17.1->weave) (3.1.45)\n",
            "Requirement already satisfied: platformdirs in /usr/local/lib/python3.12/dist-packages (from wandb>=0.17.1->weave) (4.5.0)\n",
            "Requirement already satisfied: protobuf!=4.21.0,!=5.28.0,<7,>=3.19.0 in /usr/local/lib/python3.12/dist-packages (from wandb>=0.17.1->weave) (5.29.5)\n",
            "Requirement already satisfied: pyyaml in /usr/local/lib/python3.12/dist-packages (from wandb>=0.17.1->weave) (6.0.3)\n",
            "Requirement already satisfied: requests<3,>=2.0.0 in /usr/local/lib/python3.12/dist-packages (from wandb>=0.17.1->weave) (2.32.4)\n",
            "Requirement already satisfied: graphql-core<3.3,>=3.2 in /usr/local/lib/python3.12/dist-packages (from gql[aiohttp,requests]->weave) (3.2.6)\n",
            "Requirement already satisfied: yarl<2.0,>=1.6 in /usr/local/lib/python3.12/dist-packages (from gql[aiohttp,requests]->weave) (1.22.0)\n",
            "Requirement already satisfied: backoff<3.0,>=1.11.1 in /usr/local/lib/python3.12/dist-packages (from gql[aiohttp,requests]->weave) (2.2.1)\n",
            "Requirement already satisfied: anyio<5,>=3.0 in /usr/local/lib/python3.12/dist-packages (from gql[aiohttp,requests]->weave) (4.11.0)\n",
            "Requirement already satisfied: aiohttp<4,>=3.11.2 in /usr/local/lib/python3.12/dist-packages (from gql[aiohttp,requests]->weave) (3.13.0)\n",
            "Requirement already satisfied: requests_toolbelt<2,>=1.0.0 in /usr/local/lib/python3.12/dist-packages (from gql[aiohttp,requests]->weave) (1.0.0)\n",
            "Requirement already satisfied: abnf~=2.2.0 in /usr/local/lib/python3.12/dist-packages (from polyfile-weave->weave) (2.2.0)\n",
            "Requirement already satisfied: chardet>=5.0.0 in /usr/local/lib/python3.12/dist-packages (from polyfile-weave->weave) (5.2.0)\n",
            "Requirement already satisfied: cint>=1.0.0 in /usr/local/lib/python3.12/dist-packages (from polyfile-weave->weave) (1.0.0)\n",
            "Requirement already satisfied: fickling>=0.0.8 in /usr/local/lib/python3.12/dist-packages (from polyfile-weave->weave) (0.1.4)\n",
            "Requirement already satisfied: graphviz>=0.20.1 in /usr/local/lib/python3.12/dist-packages (from polyfile-weave->weave) (0.21)\n",
            "Requirement already satisfied: intervaltree>=2.4.0 in /usr/local/lib/python3.12/dist-packages (from polyfile-weave->weave) (3.1.0)\n",
            "Requirement already satisfied: jinja2>=2.1.0 in /usr/local/lib/python3.12/dist-packages (from polyfile-weave->weave) (3.1.6)\n",
            "Requirement already satisfied: kaitaistruct~=0.10 in /usr/local/lib/python3.12/dist-packages (from polyfile-weave->weave) (0.11)\n",
            "Requirement already satisfied: networkx>=2.6.3 in /usr/local/lib/python3.12/dist-packages (from polyfile-weave->weave) (3.5)\n",
            "Requirement already satisfied: pdfminer.six<=20250506,>=20220524 in /usr/local/lib/python3.12/dist-packages (from polyfile-weave->weave) (20250506)\n",
            "Requirement already satisfied: Pillow>=5.0.0 in /usr/local/lib/python3.12/dist-packages (from polyfile-weave->weave) (11.3.0)\n",
            "Requirement already satisfied: setuptools>=80.9.0 in /usr/local/lib/python3.12/dist-packages (from polyfile-weave->weave) (80.9.0)\n",
            "Requirement already satisfied: aiohappyeyeballs>=2.5.0 in /usr/local/lib/python3.12/dist-packages (from aiohttp<4,>=3.11.2->gql[aiohttp,requests]->weave) (2.6.1)\n",
            "Requirement already satisfied: aiosignal>=1.4.0 in /usr/local/lib/python3.12/dist-packages (from aiohttp<4,>=3.11.2->gql[aiohttp,requests]->weave) (1.4.0)\n",
            "Requirement already satisfied: frozenlist>=1.1.1 in /usr/local/lib/python3.12/dist-packages (from aiohttp<4,>=3.11.2->gql[aiohttp,requests]->weave) (1.8.0)\n",
            "Requirement already satisfied: multidict<7.0,>=4.5 in /usr/local/lib/python3.12/dist-packages (from aiohttp<4,>=3.11.2->gql[aiohttp,requests]->weave) (6.7.0)\n",
            "Requirement already satisfied: propcache>=0.2.0 in /usr/local/lib/python3.12/dist-packages (from aiohttp<4,>=3.11.2->gql[aiohttp,requests]->weave) (0.3.2)\n",
            "Requirement already satisfied: idna>=2.8 in /usr/local/lib/python3.12/dist-packages (from anyio<5,>=3.0->gql[aiohttp,requests]->weave) (3.10)\n",
            "Requirement already satisfied: sniffio>=1.1 in /usr/local/lib/python3.12/dist-packages (from anyio<5,>=3.0->gql[aiohttp,requests]->weave) (1.3.1)\n",
            "Requirement already satisfied: stdlib_list~=0.11.1 in /usr/local/lib/python3.12/dist-packages (from fickling>=0.0.8->polyfile-weave->weave) (0.11.1)\n",
            "Requirement already satisfied: gitdb<5,>=4.0.1 in /usr/local/lib/python3.12/dist-packages (from gitpython!=3.1.29,>=1.0.0->wandb>=0.17.1->weave) (4.0.12)\n",
            "Requirement already satisfied: sortedcontainers<3.0,>=2.0 in /usr/local/lib/python3.12/dist-packages (from intervaltree>=2.4.0->polyfile-weave->weave) (2.4.0)\n",
            "Requirement already satisfied: MarkupSafe>=2.0 in /usr/local/lib/python3.12/dist-packages (from jinja2>=2.1.0->polyfile-weave->weave) (3.0.3)\n",
            "Requirement already satisfied: charset-normalizer>=2.0.0 in /usr/local/lib/python3.12/dist-packages (from pdfminer.six<=20250506,>=20220524->polyfile-weave->weave) (3.4.3)\n",
            "Requirement already satisfied: cryptography>=36.0.0 in /usr/local/lib/python3.12/dist-packages (from pdfminer.six<=20250506,>=20220524->polyfile-weave->weave) (43.0.3)\n",
            "Requirement already satisfied: cffi>=1.12 in /usr/local/lib/python3.12/dist-packages (from cryptography>=36.0.0->pdfminer.six<=20250506,>=20220524->polyfile-weave->weave) (2.0.0)\n",
            "Requirement already satisfied: smmap<6,>=3.0.1 in /usr/local/lib/python3.12/dist-packages (from gitdb<5,>=4.0.1->gitpython!=3.1.29,>=1.0.0->wandb>=0.17.1->weave) (5.0.2)\n",
            "Requirement already satisfied: pycparser in /usr/local/lib/python3.12/dist-packages (from cffi>=1.12->cryptography>=36.0.0->pdfminer.six<=20250506,>=20220524->polyfile-weave->weave) (2.23)\n"
          ]
        }
      ]
    },
    {
      "cell_type": "code",
      "source": [
        "# Global Configuration & Setup\n",
        "import inspect\n",
        "import json\n",
        "import os\n",
        "import requests\n",
        "import weave\n",
        "from enum import Enum\n",
        "from pydantic import BaseModel, Field\n",
        "from rich.pretty import pprint\n",
        "from typing import Any, Callable, Dict, List, get_type_hints\n",
        "from exa_py import Exa\n",
        "from datetime import datetime\n"
      ],
      "metadata": {
        "id": "BEiKMVKS8slD"
      },
      "execution_count": 2,
      "outputs": []
    },
    {
      "cell_type": "code",
      "source": [
        "OPENAI_API_KEY=\"XXXA\",\n",
        "EXA_API_KEY=\"XXX\"\n",
        "WANDB_API_KEY=\"XXX\""
      ],
      "metadata": {
        "id": "I19MZnJVBzcL"
      },
      "execution_count": 3,
      "outputs": []
    },
    {
      "cell_type": "code",
      "source": [
        "weave.init(\"wandb-applied-ai-team/fc-session\")"
      ],
      "metadata": {
        "colab": {
          "base_uri": "https://localhost:8080/",
          "height": 277
        },
        "id": "vmGZXORMUy8f",
        "outputId": "c378e692-7efc-49cb-b884-269ac21e5af5"
      },
      "execution_count": 4,
      "outputs": [
        {
          "output_type": "stream",
          "name": "stderr",
          "text": [
            "\u001b[36m\u001b[1mweave\u001b[0m: Please login to Weights & Biases (https://wandb.ai) to continue...\n",
            "/usr/local/lib/python3.12/dist-packages/notebook/notebookapp.py:191: SyntaxWarning: invalid escape sequence '\\/'\n",
            "  | |_| | '_ \\/ _` / _` |  _/ -_)\n"
          ]
        },
        {
          "output_type": "display_data",
          "data": {
            "text/plain": [
              "<IPython.core.display.Javascript object>"
            ],
            "application/javascript": [
              "\n",
              "        window._wandbApiKey = new Promise((resolve, reject) => {\n",
              "            function loadScript(url) {\n",
              "            return new Promise(function(resolve, reject) {\n",
              "                let newScript = document.createElement(\"script\");\n",
              "                newScript.onerror = reject;\n",
              "                newScript.onload = resolve;\n",
              "                document.body.appendChild(newScript);\n",
              "                newScript.src = url;\n",
              "            });\n",
              "            }\n",
              "            loadScript(\"https://cdn.jsdelivr.net/npm/postmate/build/postmate.min.js\").then(() => {\n",
              "            const iframe = document.createElement('iframe')\n",
              "            iframe.style.cssText = \"width:0;height:0;border:none\"\n",
              "            document.body.appendChild(iframe)\n",
              "            const handshake = new Postmate({\n",
              "                container: iframe,\n",
              "                url: 'https://wandb.ai/authorize'\n",
              "            });\n",
              "            const timeout = setTimeout(() => reject(\"Couldn't auto authenticate\"), 5000)\n",
              "            handshake.then(function(child) {\n",
              "                child.on('authorize', data => {\n",
              "                    clearTimeout(timeout)\n",
              "                    resolve(data)\n",
              "                });\n",
              "            });\n",
              "            })\n",
              "        });\n",
              "    "
            ]
          },
          "metadata": {}
        },
        {
          "output_type": "stream",
          "name": "stderr",
          "text": [
            "\u001b[34m\u001b[1mwandb\u001b[0m: Logging into wandb.ai. (Learn how to deploy a W&B server locally: https://wandb.me/wandb-server)\n",
            "\u001b[34m\u001b[1mwandb\u001b[0m: You can find your API key in your browser here: https://wandb.ai/authorize?ref=weave\n",
            "wandb: Paste an API key from your profile and hit enter:"
          ]
        },
        {
          "name": "stdout",
          "output_type": "stream",
          "text": [
            " ··········\n"
          ]
        },
        {
          "output_type": "stream",
          "name": "stderr",
          "text": [
            "\u001b[34m\u001b[1mwandb\u001b[0m: \u001b[33mWARNING\u001b[0m If you're specifying your api key in code, ensure this code is not shared publicly.\n",
            "\u001b[34m\u001b[1mwandb\u001b[0m: \u001b[33mWARNING\u001b[0m Consider setting the WANDB_API_KEY environment variable, or running `wandb login` from the command line.\n",
            "\u001b[34m\u001b[1mwandb\u001b[0m: No netrc file found, creating one.\n",
            "\u001b[34m\u001b[1mwandb\u001b[0m: Appending key for api.wandb.ai to your netrc file: /root/.netrc\n",
            "\u001b[34m\u001b[1mwandb\u001b[0m: Currently logged in as: \u001b[33magatamlyn\u001b[0m (\u001b[33mwandb-applied-ai-team\u001b[0m) to \u001b[32mhttps://api.wandb.ai\u001b[0m. Use \u001b[1m`wandb login --relogin`\u001b[0m to force relogin\n",
            "\u001b[36m\u001b[1mweave\u001b[0m: Logged in as Weights & Biases user: agatamlyn.\n",
            "\u001b[36m\u001b[1mweave\u001b[0m: View Weave data at https://wandb.ai/wandb-applied-ai-team/fc-session/weave\n"
          ]
        },
        {
          "output_type": "execute_result",
          "data": {
            "text/plain": [
              "<weave.trace.weave_client.WeaveClient at 0x782df2623920>"
            ]
          },
          "metadata": {},
          "execution_count": 4
        }
      ]
    },
    {
      "cell_type": "markdown",
      "source": [
        "##Helper functions"
      ],
      "metadata": {
        "id": "DcFtYhvCO9Bw"
      }
    },
    {
      "cell_type": "code",
      "source": [
        "def generate_tool_schema(func: Callable) -> dict:\n",
        "    \"\"\"Given a Python function, generate a tool-compatible JSON schema.\n",
        "    Handles basic types and Enums. Assumes docstrings are formatted for arg descriptions.\n",
        "    \"\"\"\n",
        "    signature = inspect.signature(func)\n",
        "    parameters = signature.parameters\n",
        "    type_hints = get_type_hints(func)\n",
        "\n",
        "    schema = {\n",
        "        \"type\": \"function\",\n",
        "        \"function\": {\n",
        "            \"name\": func.__name__,\n",
        "            \"description\": inspect.getdoc(func).split(\"\\\\n\")[0] if inspect.getdoc(func) else \"\",\n",
        "            \"parameters\": {\n",
        "                \"type\": \"object\",\n",
        "                \"properties\": {},\n",
        "                \"required\": [],\n",
        "            },\n",
        "        },\n",
        "    }\n",
        "\n",
        "    docstring = inspect.getdoc(func)\n",
        "    param_descriptions = {}\n",
        "    if docstring:\n",
        "        args_section = False\n",
        "        current_param = None\n",
        "        for line in docstring.split('\\\\n'):\n",
        "            line_stripped = line.strip()\n",
        "            if line_stripped.lower().startswith((\"args:\", \"arguments:\", \"parameters:\")):\n",
        "                args_section = True\n",
        "                continue\n",
        "            if args_section:\n",
        "                if \":\" in line_stripped:\n",
        "                    param_name, desc = line_stripped.split(\":\", 1)\n",
        "                    param_descriptions[param_name.strip()] = desc.strip()\n",
        "                elif line_stripped and not line_stripped.startswith(\" \"): # Heuristic: end of args section\n",
        "                     args_section = False\n",
        "\n",
        "    for name, param in parameters.items():\n",
        "        is_required = param.default == inspect.Parameter.empty\n",
        "        param_type = type_hints.get(name, Any)\n",
        "        json_type = \"string\"\n",
        "        param_schema = {}\n",
        "\n",
        "        # Basic type mapping\n",
        "        if param_type == str: json_type = \"string\"\n",
        "        elif param_type == int: json_type = \"integer\"\n",
        "        elif param_type == float: json_type = \"number\"\n",
        "        elif param_type == bool: json_type = \"boolean\"\n",
        "        elif hasattr(param_type, '__origin__') and param_type.__origin__ is list: # Handle List[type]\n",
        "             item_type = param_type.__args__[0] if param_type.__args__ else Any\n",
        "             if item_type == str: param_schema = {\"type\": \"array\", \"items\": {\"type\": \"string\"}}\n",
        "             elif item_type == int: param_schema = {\"type\": \"array\", \"items\": {\"type\": \"integer\"}}\n",
        "             # Add more list item types if needed\n",
        "             else: param_schema = {\"type\": \"array\", \"items\": {\"type\": \"string\"}} # Default list item type\n",
        "        elif hasattr(param_type, \"__members__\") and issubclass(param_type, Enum): # Handle Enum\n",
        "             json_type = \"string\"\n",
        "             param_schema[\"enum\"] = [e.value for e in param_type]\n",
        "\n",
        "        if not param_schema: # If not set by List or Enum\n",
        "            param_schema[\"type\"] = json_type\n",
        "\n",
        "        param_schema[\"description\"] = param_descriptions.get(name, \"\")\n",
        "\n",
        "        if param.default != inspect.Parameter.empty and param.default is not None:\n",
        "             param_schema[\"default\"] = param.default # Note: OpenAI schema doesn't officially use default, but useful metadata\n",
        "\n",
        "        schema[\"function\"][\"parameters\"][\"properties\"][name] = param_schema\n",
        "        if is_required:\n",
        "            schema[\"function\"][\"parameters\"][\"required\"].append(name)\n",
        "    return schema"
      ],
      "metadata": {
        "id": "A2spvM-m81GJ"
      },
      "execution_count": 5,
      "outputs": []
    },
    {
      "cell_type": "code",
      "source": [
        "@weave.op\n",
        "def call_model(model_name: str, messages: List[Dict[str, Any]], **kwargs) -> str:\n",
        "    \"Call a model with the given messages and kwargs.\"\n",
        "    response = client.chat.completions.create(\n",
        "        model=model_name,\n",
        "        messages=messages,\n",
        "        **kwargs\n",
        "    )\n",
        "\n",
        "    return response.choices[0].message"
      ],
      "metadata": {
        "id": "v2777D3DLcEZ"
      },
      "execution_count": 6,
      "outputs": []
    },
    {
      "cell_type": "code",
      "source": [
        "def function_tool(func: Callable) -> Callable:\n",
        "    \"\"\"Attaches a tool schema to the function and marks it as a tool.\n",
        "    Call this *after* defining your function: my_func = function_tool(my_func)\n",
        "    \"\"\"\n",
        "    try:\n",
        "        func.tool_schema = generate_tool_schema(func)\n",
        "        func.is_tool = True # Mark it as a tool\n",
        "    except Exception as e:\n",
        "        print(f\"Error processing tool {func.__name__}: {e}\")\n",
        "        # Optionally raise or mark as failed\n",
        "        func.tool_schema = None\n",
        "        func.is_tool = False\n",
        "    return func\n",
        "\n",
        "def get_tool(tools: list[Callable], name: str) -> Callable:\n",
        "    for t in tools:\n",
        "        if t.__name__ == name:\n",
        "            return t\n",
        "    raise KeyError(f\"No tool with name {name} found\")\n",
        "\n",
        "ToolCall = []\n",
        "\n",
        "@weave.op\n",
        "def perform_tool_calls(tools: list[Callable], tool_calls: list[ToolCall]) -> list[dict]:\n",
        "    \"Perform the tool calls and return the messages with the tool call results\"\n",
        "    messages = []\n",
        "    for tool_call in tool_calls:\n",
        "        print(f\"Performing tool call: {tool_call.function.name}\")\n",
        "        print(f\"  - Args: {tool_call.function.arguments}\")\n",
        "        function_name = tool_call.function.name\n",
        "        function_args = json.loads(tool_call.function.arguments)\n",
        "        tool = get_tool(tools, function_name)\n",
        "        tool_response = tool(**function_args)\n",
        "        print(f\"  - Response: {tool_response}\")\n",
        "        messages.append({\n",
        "            \"tool_call_id\": tool_call.id,\n",
        "            \"role\": \"tool\",\n",
        "            \"content\": str(tool_response),\n",
        "        })\n",
        "    return messages\n",
        "\n",
        "class AgentState(BaseModel):\n",
        "    \"\"\"Manages the state of the agent.\"\"\"\n",
        "    messages: List[Dict[str, Any]] = Field(default_factory=list)\n",
        "    step: int = Field(default=0)\n",
        "    final_assistant_content: str | None = None # Populated at the end of a run\n",
        "\n",
        "\n"
      ],
      "metadata": {
        "id": "ehkN-eK08kLS"
      },
      "execution_count": 7,
      "outputs": []
    },
    {
      "cell_type": "code",
      "source": [
        "def get_today_str() -> str:\n",
        "    \"\"\"Get current date in a human-readable format.\"\"\"\n",
        "    return datetime.now().strftime(\"%a %b %-d, %Y\")"
      ],
      "metadata": {
        "id": "l7Pc1RavUyx0"
      },
      "execution_count": 8,
      "outputs": []
    },
    {
      "cell_type": "markdown",
      "source": [
        "##Prompts"
      ],
      "metadata": {
        "id": "nH2oK-UlTaOp"
      }
    },
    {
      "cell_type": "code",
      "source": [
        "DEEP_RESEARCH_AGENT_PROMPT = \"\"\"\n",
        "  You are a research assistant conducting research on the user's input topic. For context, today's date is {date}.                                                                                                        │\n",
        "\n",
        "  <Task>\n",
        "  Your job is to use tools to gather information about the user's input topic.\n",
        "  You can use any of the tools provided to you to find resources that can help answer the research question.\n",
        "  You can call these tools in series or in parallel, your research is conducted in a tool-calling loop.\n",
        "  </Task>\n",
        "\n",
        "  <Available Tools>\n",
        "  You have access to two main tools:\n",
        "  1. **clarification**: For asking user clarifying questions if needed. If you have clarifying questions start with this.\n",
        "  2. **planning**: For planning the research.\n",
        "  2. **exa_search**: For conducting web searches to gather information\n",
        "  2. **think_tool**: For reflection and strategic planning during research\n",
        "\n",
        "  **CRITICAL: Use think_tool after each search to reflect on results and plan next steps**\n",
        "  </Available Tools>\n",
        "\n",
        "  <Instructions>\n",
        "  Think like a human researcher with limited time. Follow these steps:\n",
        "\n",
        "  1. **Read the question carefully** - What specific information does the user need?\n",
        "  2. **Start with broader searches** - Use broad, comprehensive queries first\n",
        "  3. **After each search, pause and assess** - Do I have enough to answer? What's still missing?\n",
        "  4. **Execute narrower searches as you gather information** - Fill in the gaps\n",
        "  5. **Stop when you can answer confidently** - Don't keep searching for perfection\n",
        "  </Instructions>\n",
        "\n",
        "  <Hard Limits>\n",
        "  **Tool Call Budgets** (Prevent excessive searching):\n",
        "  - **Simple queries**: Use 2-3 search tool calls maximum\n",
        "  - **Complex queries**: Use up to 5 search tool calls maximum\n",
        "  - **Always stop**: After 5 search tool calls if you cannot find the right sources\n",
        "\n",
        "  **Stop Immediately When**:\n",
        "  - You can answer the user's question comprehensively\n",
        "  - You have 3+ relevant examples/sources for the question\n",
        "  - Your last 2 searches returned similar information\n",
        "  </Hard Limits>\n",
        "\n",
        "  <Show Your Thinking>\n",
        "  After each search tool call, use think_tool to analyze the results:\n",
        "  - What key information did I find?\n",
        "  - What's missing?\n",
        "  - Do I have enough to answer the question comprehensively?\n",
        "  - Should I search more or provide my answer?\n",
        "  </Show Your Thinking>\n",
        "\"\"\""
      ],
      "metadata": {
        "id": "Pr67sUm2TZmk"
      },
      "execution_count": 9,
      "outputs": []
    },
    {
      "cell_type": "markdown",
      "source": [
        "##Tools"
      ],
      "metadata": {
        "id": "m9fR1uLAPQER"
      }
    },
    {
      "cell_type": "code",
      "source": [
        "@weave.op\n",
        "@function_tool\n",
        "def planning(plan: str) -> str:\n",
        "  \"\"\"Tool for planning the research.\n",
        "\n",
        "  Use this tool as the first step of the research.\n",
        "\n",
        "  Your plan should include:\n",
        "  1. Short analysis of user request.\n",
        "  2. Sub-queries broken down from users request, for example: if the query is 'what are 3 heaviest pokemons and their weight combined' the sub queries should be 'what are 3 heaviest pokemons' 'pokemon1 weight', 'pokemon2 weight', 'pokemon3 weight'.\n",
        "\n",
        "  Args:\n",
        "    plan: plan for the research.\n",
        "  \"\"\"\n",
        "\n",
        "  #return f\"The plan: {plan}\"\n"
      ],
      "metadata": {
        "id": "58zgUvgb9Qb0"
      },
      "execution_count": 10,
      "outputs": []
    },
    {
      "cell_type": "code",
      "source": [
        "@weave.op\n",
        "@function_tool\n",
        "def clarification(clarifying_questions):\n",
        "  \"\"\"                                                                                                                                                                                                               │                                                                                                                 │\n",
        "  Use this tool to ask clarifying questions to the user.\n",
        "  IMPORTANT: If you can see in the messages history that you have already asked a clarifying question, you almost always do not need to ask another one. Only ask another question if ABSOLUTELY NECESSARY.\n",
        "\n",
        "  If there are acronyms, abbreviations, or unknown terms, ask the user to clarify.\n",
        "  If you need to ask a question, follow these guidelines:\n",
        "  - Be concise while gathering all necessary information\n",
        "  - Make sure to gather all the information needed to carry out the research task in a concise, well-structured manner.\n",
        "  - Use bullet points or numbered lists if appropriate for clarity. Make sure that this uses markdown formatting and will be rendered correctly if the string output is passed to a markdown renderer.\n",
        "  - Don't ask for unnecessary information, or information that the user has already provided. If you can see that the user has already provided the information, do not ask for it again.\n",
        "\n",
        "  This tool will return the user clarifications.\n",
        "  \"\"\"\n",
        "  output = input(clarifying_questions)\n",
        "  return output\n",
        "# put time out"
      ],
      "metadata": {
        "id": "hoa3s0hVXkGd"
      },
      "execution_count": 11,
      "outputs": []
    },
    {
      "cell_type": "code",
      "source": [
        "exa = Exa(api_key = EXA_API_KEY)\n",
        "\n",
        "@weave.op\n",
        "@function_tool\n",
        "def exa_search(query: str) -> json:\n",
        "  \"\"\"Tool for web searching.\n",
        "\n",
        "  Use this tool to search the web for any information needed.\n",
        "\n",
        "  Args:\n",
        "    query: query to search the internet\n",
        "\n",
        "  Returns:\n",
        "    results: returns top 5 results with the summaries of the pages\n",
        "  \"\"\"\n",
        "  result = exa.search_and_contents(\n",
        "  query,\n",
        "  type = \"fast\",\n",
        "  num_results = 5,\n",
        "  summary = True,\n",
        ")\n",
        "  return result\n",
        "\n",
        "#summary to be done by our LLM\n",
        "\n",
        "#result = exa_search(\"what is the capital of france?\")\n",
        "#print(result)\n"
      ],
      "metadata": {
        "id": "NRwgw5OJ-SR_"
      },
      "execution_count": 12,
      "outputs": []
    },
    {
      "cell_type": "code",
      "source": [
        "@weave.op\n",
        "@function_tool\n",
        "def think_tool(reflection: str) -> str:\n",
        "    \"\"\"Tool for strategic reflection on research progress and decision-making.\n",
        "\n",
        "    Use this tool after each search to analyze results and plan next steps systematically.\n",
        "    This creates a deliberate pause in the research workflow for quality decision-making.\n",
        "\n",
        "    When to use:\n",
        "    - After receiving search results: What key information did I find?\n",
        "    - Before deciding next steps: Do I have enough to answer comprehensively?\n",
        "    - When assessing research gaps: What specific information am I still missing?\n",
        "    - Before concluding research: Can I provide a complete answer now?\n",
        "\n",
        "    Reflection should address:\n",
        "    1. Analysis of current findings - What concrete information have I gathered?\n",
        "    2. Gap assessment - What crucial information is still missing?\n",
        "    3. Quality evaluation - Do I have sufficient evidence/examples for a good answer?\n",
        "    4. Strategic decision - Should I continue searching or provide my answer?\n",
        "\n",
        "    Args:\n",
        "        reflection: Your detailed reflection on research progress, findings, gaps, and next steps\n",
        "    \"\"\"\n",
        "    #return f\"Reflection recorded: {reflection}\""
      ],
      "metadata": {
        "id": "la2QI_1VPzCG"
      },
      "execution_count": 13,
      "outputs": []
    },
    {
      "cell_type": "code",
      "source": [
        "ToolCall = [clarification, planning, exa_search, think_tool]"
      ],
      "metadata": {
        "id": "Hk8FWy25KxqV"
      },
      "execution_count": 14,
      "outputs": []
    },
    {
      "cell_type": "markdown",
      "source": [
        "##Agent"
      ],
      "metadata": {
        "id": "Si6BmYXWPs4d"
      }
    },
    {
      "cell_type": "code",
      "source": [
        "class DeepResearchAgent:\n",
        "    \"\"\"A deep research agent class with tracing, state, and tool processing.\"\"\"\n",
        "    def __init__(self, model_name: str, system_message: str, tools: List[Callable]):\n",
        "        self.model_name = model_name\n",
        "        self.system_message = system_message\n",
        "        self.tools = [function_tool(t) for t in tools] # add schemas to the tools\n",
        "\n",
        "    @weave.op(name=\"DeepResearchAgent.step\") # Trace each step\n",
        "    def step(self, state: AgentState) -> AgentState:\n",
        "        step = state.step + 1\n",
        "        messages = state.messages\n",
        "        final_assistant_content = None\n",
        "        try:\n",
        "            # call model with tools\n",
        "            response = call_model(\n",
        "                model_name=self.model_name,\n",
        "                messages=messages,\n",
        "                tools=[t.tool_schema for t in self.tools])\n",
        "\n",
        "            # add the response to the messages\n",
        "            messages.append(response.model_dump())\n",
        "\n",
        "            # if the LLM requested tool calls, perform them\n",
        "            if response.tool_calls:\n",
        "                print(\"LLM requested tool calls:\")\n",
        "                # perform the tool calls\n",
        "                tool_outputs = perform_tool_calls(tools=[clarification, planning, think_tool, exa_search], tool_calls=response.tool_calls)\n",
        "                messages.extend(tool_outputs)\n",
        "\n",
        "            # LLM gave content response\n",
        "            else:\n",
        "                messages.append(response.model_dump())\n",
        "                final_assistant_content = response.content\n",
        "        except Exception as e:\n",
        "            print(f\"ERROR in Agent Step: {e}\")\n",
        "            # Add an error message to history to indicate failure\n",
        "            messages.append({\"role\": \"assistant\", \"content\": f\"Agent error in step: {str(e)}\"})\n",
        "            final_assistant_content = f\"Agent error in step {step}: {str(e)}\"\n",
        "        return AgentState(messages=messages, step=step, final_assistant_content=final_assistant_content)\n",
        "\n",
        "    @weave.op(name=\"DeepResearchAgent.run\")\n",
        "    def run(self, user_prompt: str, max_turns: int = 10) -> AgentState:\n",
        "        state = AgentState(messages=[\n",
        "            {\"role\": \"system\", \"content\": self.system_message},\n",
        "            {\"role\": \"user\", \"content\": user_prompt}])\n",
        "        for _ in range(max_turns):\n",
        "            print(f\"--- Agent Loop Turn {state.step}/{max_turns} ---\")\n",
        "            state = self.step(state)\n",
        "            if state.final_assistant_content:\n",
        "                return state\n",
        "        return state"
      ],
      "metadata": {
        "id": "QmTupblVPiWp"
      },
      "execution_count": 15,
      "outputs": []
    },
    {
      "cell_type": "markdown",
      "source": [
        "##Run"
      ],
      "metadata": {
        "id": "vd2u5T11PvOx"
      }
    },
    {
      "cell_type": "code",
      "source": [
        "if __name__ == \"__main__\":\n",
        "\n",
        "\tagent = DeepResearchAgent(\n",
        "\t\tmodel_name=\"gpt-5-mini\",\n",
        "\t\tsystem_message=DEEP_RESEARCH_AGENT_PROMPT.format(date=get_today_str()),\n",
        "\t\ttools=[clarification, planning, think_tool, exa_search]\n",
        "\t)\n",
        "\tstate = agent.run(user_prompt=\"What is the best city to visit in Europe? Ask me clarifying questions\")\n",
        "\tprint(f\"Final response: {state.final_assistant_content}\")"
      ],
      "metadata": {
        "colab": {
          "base_uri": "https://localhost:8080/"
        },
        "collapsed": true,
        "id": "8oCz5d7fCMy8",
        "outputId": "ee73b8d9-ce48-4b4e-8c5a-d338ed2c54ab"
      },
      "execution_count": 16,
      "outputs": [
        {
          "output_type": "stream",
          "name": "stdout",
          "text": [
            "--- Agent Loop Turn 0/10 ---\n",
            "ERROR in Agent Step: name 'client' is not defined\n",
            "Final response: Agent error in step 1: name 'client' is not defined\n"
          ]
        }
      ]
    },
    {
      "cell_type": "markdown",
      "source": [
        "clarify before plan, only clarify once, max 3 questions\n",
        "state"
      ],
      "metadata": {
        "id": "vss0xaodfAxJ"
      }
    },
    {
      "cell_type": "markdown",
      "source": [],
      "metadata": {
        "id": "6_5IL_dXexSz"
      }
    }
  ]
}