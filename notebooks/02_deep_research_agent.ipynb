{
  "cells": [
    {
      "cell_type": "markdown",
      "metadata": {
        "id": "lc7GKwVJ23R6"
      },
      "source": [
        "# Building a Deep Research Agent \n",
        "\n",
        "<!--- @wandbcode{fc-london-workshop-2025} -->\n",
        "\n",
        "This script will walk you through building on top of our simple tool calling agent to evolve it to a full Deep Research Agent. \n",
        "We will cover: \n",
        "1. Prompting strategies \n",
        "2. Multi-tool agents designg\n",
        "3. Compacting conversations \n",
        "\n",
        "Docs: \n",
        "- Weights & Biases Inference [docs](https://docs.wandb.ai/inference)\n",
        "- Weave [docs](https://docs.wandb.ai/weave)\n",
        "- Exa [docs](https://docs.exa.ai/reference/search)"
      ]
    },
    {
      "cell_type": "markdown",
      "metadata": {
        "id": "g1huUI69O3bx"
      },
      "source": [
        "## Imports + API keys\n",
        "\n",
        "Our Deep Research Agent will actually still only use 2 services: \n",
        "1. W&B for inference and tracking \n",
        "2. Exa for web search "
      ]
    },
    {
      "cell_type": "code",
      "execution_count": 1,
      "metadata": {
        "colab": {
          "base_uri": "https://localhost:8080/"
        },
        "collapsed": true,
        "id": "9hK_PEje-0S-",
        "outputId": "62505f66-0072-40e2-e24e-601778a14d60"
      },
      "outputs": [],
      "source": [
        "#if you are running this on colab, uncomment the following line and run it\n",
        "#!uv pip install exa-py weave openai"
      ]
    },
    {
      "cell_type": "code",
      "execution_count": 2,
      "metadata": {},
      "outputs": [],
      "source": [
        "# auto reload and reload ext\n",
        "%load_ext autoreload\n",
        "%autoreload 2"
      ]
    },
    {
      "cell_type": "code",
      "execution_count": 3,
      "metadata": {
        "id": "BEiKMVKS8slD"
      },
      "outputs": [],
      "source": [
        "# Global Configuration & Setup\n",
        "import json\n",
        "import os\n",
        "import weave\n",
        "import openai\n",
        "from pydantic import BaseModel, Field\n",
        "from typing import Any, Callable, Dict, List\n",
        "from exa_py import Exa\n",
        "from datetime import datetime\n"
      ]
    },
    {
      "cell_type": "code",
      "execution_count": 4,
      "metadata": {
        "id": "Hslss_PdY992"
      },
      "outputs": [],
      "source": [
        "#if you are running this on colab, uncomment the following lines and run it\n",
        "#from google.colab import userdata\n",
        "#EXA_API_KEY=userdata.get('EXA_API_KEY')\n",
        "#OPENAI_API_KEY=userdata.get('OPENAI_API_KEY')\n",
        "#WANDB_API_KEY=userdata.get('WANDB_API_KEY')\n",
        "\n",
        "# if you use .env file, uncomment the following lines and run it\n",
        "from dotenv import load_dotenv\n",
        "load_dotenv()\n",
        "EXA_API_KEY=os.getenv('EXA_API_KEY')\n",
        "OPENAI_API_KEY=os.getenv('OPENAI_API_KEY')\n",
        "WANDB_API_KEY=os.getenv('WANDB_API_KEY')\n"
      ]
    },
    {
      "cell_type": "code",
      "execution_count": 6,
      "metadata": {
        "id": "29IL8eNR73wn"
      },
      "outputs": [
        {
          "data": {
            "text/html": [
              "<pre style=\"white-space:pre;overflow-x:auto;line-height:normal;font-family:Menlo,'DejaVu Sans Mono',consolas,'Courier New',monospace\">/Users/agatam/deep-research-bot/.venv/lib/python3.12/site-packages/rich/live.py:256: UserWarning: install \n",
              "\"ipywidgets\" for Jupyter support\n",
              "  warnings.warn('install \"ipywidgets\" for Jupyter support')\n",
              "</pre>\n"
            ],
            "text/plain": [
              "/Users/agatam/deep-research-bot/.venv/lib/python3.12/site-packages/rich/live.py:256: UserWarning: install \n",
              "\"ipywidgets\" for Jupyter support\n",
              "  warnings.warn('install \"ipywidgets\" for Jupyter support')\n"
            ]
          },
          "metadata": {},
          "output_type": "display_data"
        },
        {
          "data": {
            "text/html": [
              "<pre style=\"white-space:pre;overflow-x:auto;line-height:normal;font-family:Menlo,'DejaVu Sans Mono',consolas,'Courier New',monospace\"></pre>\n"
            ],
            "text/plain": []
          },
          "metadata": {},
          "output_type": "display_data"
        },
        {
          "name": "stderr",
          "output_type": "stream",
          "text": [
            "\u001b[36m\u001b[1mweave\u001b[0m: Logged in as Weights & Biases user: agatamlyn.\n",
            "\u001b[36m\u001b[1mweave\u001b[0m: View Weave data at https://wandb.ai/wandb-applied-ai-team/london-workshop-2025/weave\n"
          ]
        },
        {
          "data": {
            "text/plain": [
              "<weave.trace.weave_client.WeaveClient at 0x10f26e2a0>"
            ]
          },
          "execution_count": 6,
          "metadata": {},
          "output_type": "execute_result"
        },
        {
          "name": "stderr",
          "output_type": "stream",
          "text": [
            "\u001b[36m\u001b[1mweave\u001b[0m: retry_attempt\n"
          ]
        }
      ],
      "source": [
        "MODEL_SMALL = \"Qwen/Qwen3-235B-A22B-Instruct-2507\"\n",
        "MODEL_MEDIUM = \"zai-org/GLM-4.5\"\n",
        "MODEL_LARGE = \"moonshotai/Kimi-K2-Instruct\"\n",
        "MODEL_SMALL_CONTEXT = \"OpenPipe/Qwen3-14B-Instruct\"\n",
        "\n",
        "WANDB_ENTITY = \"wandb-applied-ai-team\"\n",
        "WANDB_PROJECT = \"london-workshop-2025\"\n",
        "\n",
        "oai_client = openai.OpenAI(\n",
        "    base_url='https://api.inference.wandb.ai/v1',\n",
        "    api_key=os.getenv(\"WANDB_API_KEY\"),\n",
        "    project=f\"{WANDB_ENTITY}/{WANDB_PROJECT}\")\n",
        "\n",
        "exa_client = Exa(api_key=os.getenv(\"EXA_API_KEY\"))\n",
        "\n",
        "weave.init(\"wandb-applied-ai-team/london-workshop-2025\")"
      ]
    },
    {
      "cell_type": "markdown",
      "metadata": {
        "id": "DcFtYhvCO9Bw"
      },
      "source": [
        "## Helper functions"
      ]
    },
    {
      "cell_type": "code",
      "execution_count": 8,
      "metadata": {},
      "outputs": [],
      "source": [
        "# these are the same functions we have covered in the notebook 01_simple_tool_calling_agent.ipynb so lets just import them here\n",
        "from deep_research_bot.utils import function_tool, perform_tool_calls\n",
        "\n",
        "# this is the same call_model function from notebook 01_simple_tool_calling_agent.ipynb\n",
        "@weave.op\n",
        "def call_model(model_name: str, messages: List[Dict[str, Any]], **kwargs) -> str:\n",
        "    \"Call a model with the given messages and kwargs.\"\n",
        "    response = oai_client.chat.completions.create(\n",
        "        model=model_name,\n",
        "        messages=messages,\n",
        "        **kwargs\n",
        "    )\n",
        "\n",
        "    return response.choices[0].message\n",
        "\n",
        "# new, simple function to get the current date which can help the agent ground the research in the current time\n",
        "def get_today_str() -> str:\n",
        "    \"\"\"Get current date in a human-readable format.\"\"\"\n",
        "    return datetime.now().strftime(\"%a %b %-d, %Y\")"
      ]
    },
    {
      "cell_type": "markdown",
      "metadata": {
        "id": "nH2oK-UlTaOp"
      },
      "source": [
        "## Prompts\n",
        "\n",
        "When writing a prompt for a Deep Research Agent you should still follow the same principles as for any other LLM prompt by giving it its role, the task and well formating the whole prompt. \n",
        "What is different is the list and description of the tools available to the agent. "
      ]
    },
    {
      "cell_type": "code",
      "execution_count": 9,
      "metadata": {
        "id": "Pr67sUm2TZmk"
      },
      "outputs": [],
      "source": [
        "DEEP_RESEARCH_AGENT_PROMPT = \"\"\"\n",
        "  You are a research assistant conducting research on the user's input topic. For context, today's date is {date}.                                                                                                        │\n",
        "\n",
        "  <Task>\n",
        "  Your job is to use tools to gather information about the user's input topic and write a blog post as an answer.\n",
        "  You can use any of the tools provided to you to find resources that can help answer the research question.\n",
        "  You can call these tools in series or in parallel, your research is conducted in a tool-calling loop.\n",
        "  Your response should be a thorough answer to the user's question, citing sources and reasoning, providing an overview of the facts or any gaps in the subject.\n",
        "  </Task>\n",
        "\n",
        "  <Available Tools>\n",
        "  You have access to the following tools:\n",
        "  1. **clarification_tool**: For asking user clarifying questions if needed. If you have clarifying questions start with this.\n",
        "  2. **planning_tool**: For planning the research.\n",
        "  2. **exa_search**: For conducting web searches to gather information\n",
        "  2. **think_tool**: For reflection and strategic planning during research\n",
        "\n",
        "  **CRITICAL: Use think_tool after each search to reflect on results and plan next steps**\n",
        "  </Available Tools>\n",
        "\n",
        "  <Instructions>\n",
        "  Think like a human researcher with limited time. Follow these steps:\n",
        "  1. **Read the question carefully** - What specific information does the user need?\n",
        "  2. **Start with broader searches** - Use broad, comprehensive queries first\n",
        "  3. **After each search, pause and assess** - Do I have enough to answer? What's still missing?\n",
        "  4. **Execute narrower searches as you gather information** - Fill in the gaps\n",
        "  5. **Stop when you can answer confidently** - Don't keep searching for perfection\n",
        "  6. **Provide an answer** - At the end, always provide the answer from your research.\n",
        "  7. **Write a blog post style answer** - Write a blog post style answer that is indepth, well structured,easy to understand and engaging.\n",
        "  </Instructions>\n",
        "\n",
        "  **Stop Immediately When**:\n",
        "  - You can answer the user's question comprehensively\n",
        "  - You have 3+ relevant examples/sources for the question\n",
        "  - Your last 2 searches returned similar information\n",
        "  </Hard Limits>\n",
        "\n",
        "  <Show Your Thinking>\n",
        "  After each search tool call, use think_tool to analyze the results:\n",
        "  - What key information did I find?\n",
        "  - What's missing?\n",
        "  - Do I have enough to answer the question comprehensively?\n",
        "  - Should I search more or provide my answer?\n",
        "  </Show Your Thinking>\n",
        "\"\"\""
      ]
    },
    {
      "cell_type": "markdown",
      "metadata": {
        "id": "m9fR1uLAPQER"
      },
      "source": [
        "## Tools\n",
        "\n",
        "Thomas already introduced our first tool the `exa_search` tool so we will import it from our `tools.py` instead of redefining it. "
      ]
    },
    {
      "cell_type": "code",
      "execution_count": 10,
      "metadata": {},
      "outputs": [],
      "source": [
        "# import the exa_search tool Thomas introduced in the previous notebook 01_simple_tool_calling_agent.ipynb\n",
        "from deep_research_bot.tools import exa_search_and_refine\n",
        "exa_search = exa_search_and_refine"
      ]
    },
    {
      "cell_type": "markdown",
      "metadata": {},
      "source": [
        "Next we will add 3 new tools to upgrade this agent from a simple search agent to a deep research one. "
      ]
    },
    {
      "cell_type": "markdown",
      "metadata": {},
      "source": [
        "### Clarification tool\n",
        "If you have used another deep research service, like ChatGPT Deep Research, you will be familiar with the first step which is the clarifications questions. Users oftentime submit a one sentance request which often lacks the necessary information to provide them a deep answer that will really answer what they were looking for. \n",
        "\n",
        "In the case of ChatGPT, these questions are mandatory and happen every time you create a new Deep Research request, in our case we actually give the agent the choice to call the tool if it thinks it needs more information to get started. "
      ]
    },
    {
      "cell_type": "code",
      "execution_count": 11,
      "metadata": {},
      "outputs": [],
      "source": [
        "@weave.op\n",
        "@function_tool\n",
        "def clarification_tool(clarifying_questions: str) -> str:\n",
        "  \"\"\"Use this tool to ask clarifying questions to the user.\n",
        "  \n",
        "  IMPORTANT: If you can see in the messages history that you have already asked a clarifying question, you almost always do not need to ask another one. Only ask another question if ABSOLUTELY NECESSARY.\n",
        "\n",
        "  If there are acronyms, abbreviations, or unknown terms, ask the user to clarify.\n",
        "  If you need to ask a question, follow these guidelines:\n",
        "  - Be concise while gathering all necessary information.\n",
        "  - Only ask max 3 questions.\n",
        "  - Make sure to gather all the information needed to carry out the research task in a concise, well-structured manner.\n",
        "  - Use bullet points or numbered lists if appropriate for clarity. Make sure that this uses markdown formatting and will be rendered correctly if the string output is passed to a markdown renderer.\n",
        "  - Don't ask for unnecessary information, or information that the user has already provided. If you can see that the user has already provided the information, do not ask for it again.\n",
        "\n",
        "  This tool will return the user clarifications.\n",
        "  Args: \n",
        "    clarifying_questions: Your questions to the user as a single string. Be concise while gathering all necessary information. Only ask max 3 questions. Use bullet points or numbered lists if appropriate for clarity with markdown formatting. Don't ask for unnecessary information, or information that the user has already provided. If there are acronyms, abbreviations, or unknown terms, ask the user to clarify. This tool will return the user clarifications.\n",
        "  \"\"\"\n",
        "  output = input(clarifying_questions)\n",
        "  return output\n"
      ]
    },
    {
      "cell_type": "markdown",
      "metadata": {},
      "source": [
        "Later on in the evaluations, this tool will be skipped as the benchmark we are using does not accomodate agents asking follow up questions. This is an example where evaluating with generic benchmarks does not fit every use case. "
      ]
    },
    {
      "cell_type": "markdown",
      "metadata": {},
      "source": [
        "### Planning tool\n",
        "Another tool we will make available for the agent is the planning tool. The agent should use this tool to analyze the users query and break it down into subqueries.\n",
        "\n",
        "Again we are giving the agent the freedom to use the tool if necessary, however we prompt it and assume it will use the tool. \n",
        "\n",
        "As you can see this tool technically does not return anything when called, it is not using any external service or function. The argument 'plan' that the agent needs to provide is the actual output, when calling a tool the agent fills in the arguments, meaning the action of calling the tool makes the agent come up with the plan. We could return the plan at the end but it would just duplicate the outputs. "
      ]
    },
    {
      "cell_type": "code",
      "execution_count": 12,
      "metadata": {
        "id": "58zgUvgb9Qb0"
      },
      "outputs": [],
      "source": [
        "@weave.op\n",
        "@function_tool\n",
        "def planning_tool(plan: str) -> str:\n",
        "  \"\"\"Tool for planning the research.\n",
        "\n",
        "  If there are no clarifying questions, use this tool as the first step of the research.\n",
        "\n",
        "  Args:\n",
        "    plan: A comprehensive research plan as a single string. Include: (1) Short analysis of user request, (2) Sub-queries broken down from the user's request (e.g., for 'what are 3 heaviest pokemons and their weight combined' -> subqueries: 'what are 3 heaviest pokemons', 'pokemon1 weight', 'pokemon2 weight', 'pokemon3 weight'), and (3) Research approach. Format this as structured text within the parameter.\n",
        "  \"\"\""
      ]
    },
    {
      "cell_type": "markdown",
      "metadata": {},
      "source": [
        "### Example: using planning tool\n"
      ]
    },
    {
      "cell_type": "code",
      "execution_count": 17,
      "metadata": {},
      "outputs": [
        {
          "name": "stdout",
          "output_type": "stream",
          "text": [
            "{\n",
            "  \"content\": null,\n",
            "  \"refusal\": null,\n",
            "  \"role\": \"assistant\",\n",
            "  \"annotations\": null,\n",
            "  \"audio\": null,\n",
            "  \"function_call\": null,\n",
            "  \"tool_calls\": [\n",
            "    {\n",
            "      \"id\": \"chatcmpl-tool-2b83490058ec4196864759dd4b08d9d9\",\n",
            "      \"function\": {\n",
            "        \"arguments\": \"{\\\"plan\\\": \\\"1. Analysis of User Request:\\\\n   - The user is looking for tickets to pop concerts in Amsterdam between May and August 2025.\\\\n   - The focus is on pop music events, specifically concerts, not festivals or other music genres.\\\\n   - The timeframe is clear: May to August 2025.\\\\n   - The location is Amsterdam, Netherlands.\\\\n\\\\n2. Sub-queries:\\\\n   - Identify major pop concerts scheduled in Amsterdam from May to August 2025.\\\\n   - Find official ticketing platforms or venues in Amsterdam that list pop concerts.\\\\n   - Extract ticket availability, pricing, and purchase options for the identified concerts.\\\\n   - Verify the genre of each concert to ensure it falls under 'pop'.\\\\n\\\\n3. Research Approach:\\\\n   - Start by searching for concert schedules from major venues in Amsterdam (e.g., AFAS Live, Ziggo Dome, Melkweg) and ticketing platforms (e.g., Ticketmaster.nl, Eventim.nl).\\\\n   - Use search queries focused on pop concerts in Amsterdam for the specified timeframe.\\\\n   - Cross-reference multiple sources to ensure accuracy and comprehensiveness.\\\\n   - Compile a list of concerts with details on dates, venues, ticket availability, and pricing.\\\\n   - Present the findings to the user with options for purchasing tickets.\\\"}\",\n",
            "        \"name\": \"planning_tool\"\n",
            "      },\n",
            "      \"type\": \"function\"\n",
            "    }\n",
            "  ],\n",
            "  \"reasoning_content\": null\n",
            "}\n"
          ]
        }
      ],
      "source": [
        "response = call_model(\n",
        "    model_name=MODEL_SMALL,\n",
        "    messages=[\n",
        "        {\"role\": \"system\", \"content\": \n",
        "        \"\"\"\n",
        "        You are a concert research agent. You research into concert tickets for users. \n",
        "\n",
        "        Tools available: \n",
        "        **planning_tool** : for planning your research \n",
        "        \"\"\"},\n",
        "        {\"role\": \"user\", \"content\": \"Please find tickets for pop concerts in Amsterdam in May-August 2025\"}\n",
        "    ],\n",
        "    tools=[planning_tool.tool_schema]\n",
        ")\n",
        "print(json.dumps(response.model_dump(), indent=2))"
      ]
    },
    {
      "cell_type": "markdown",
      "metadata": {},
      "source": [
        "After you run the above cell, in the `tool_calls` above you can see that the `planning_tool` was called with argument `plan` aready."
      ]
    },
    {
      "cell_type": "markdown",
      "metadata": {},
      "source": [
        "### Think tool \n",
        "The agent should call this tool after each search. This tool will allow the agent to think about the current finidings, identify gaps in the research and decide if further research is neccessary. \n",
        "This tool should prevent agent running in loops, researching until it hits the max steps.\n",
        "\n",
        "Putting the reflection as argument and nothing being returned is the same setup as the `planning_tool`.  "
      ]
    },
    {
      "cell_type": "code",
      "execution_count": 18,
      "metadata": {
        "id": "la2QI_1VPzCG"
      },
      "outputs": [],
      "source": [
        "@weave.op\n",
        "@function_tool\n",
        "def think_tool(reflection: str) -> str:\n",
        "    \"\"\"Tool for strategic reflection on research progress and decision-making.\n",
        "\n",
        "    Use this tool after each search to analyze results and plan next steps systematically.\n",
        "    This creates a deliberate pause in the research workflow for quality decision-making.\n",
        "\n",
        "    When to use:\n",
        "    - After receiving search results: What key information did I find?\n",
        "    - Before deciding next steps: Do I have enough to answer comprehensively?\n",
        "    - When assessing research gaps: What specific information am I still missing?\n",
        "    - Before concluding research: Can I provide a complete answer now?\n",
        "\n",
        "    Reflection should address:\n",
        "    1. Analysis of current findings - What concrete information have I gathered?\n",
        "    2. Gap assessment - What crucial information is still missing?\n",
        "    3. Quality evaluation - Do I have sufficient evidence/examples for a good answer?\n",
        "    4. Strategic decision - Should I continue searching or provide my answer?\n",
        "\n",
        "    Args:\n",
        "        reflection: Your detailed reflection as a single string addressing: (1) Analysis of current findings - What concrete information have I gathered? (2) Gap assessment - What crucial information is still missing? (3) Quality evaluation - Do I have sufficient evidence/examples for a good answer? (4) Strategic decision - Should I continue searching or provide my answer? Use after receiving search results, before deciding next steps, when assessing research gaps, or before concluding research.\n",
        "    \"\"\""
      ]
    },
    {
      "cell_type": "code",
      "execution_count": 19,
      "metadata": {
        "id": "Hk8FWy25KxqV"
      },
      "outputs": [],
      "source": [
        "ToolCall = [clarification_tool, planning_tool, exa_search, think_tool]"
      ]
    },
    {
      "cell_type": "markdown",
      "metadata": {
        "id": "Si6BmYXWPs4d"
      },
      "source": [
        "## Agent"
      ]
    },
    {
      "cell_type": "code",
      "execution_count": 21,
      "metadata": {},
      "outputs": [],
      "source": [
        "#we have already covered and created the AgentState class in the previous notebook so lets import it \n",
        "from deep_research_bot.utils import AgentState\n",
        "\n",
        "#we will also reuse the SimpleAgent class from the previous notebook so lets import it \n",
        "from notebooks.sa import SimpleAgent\n"
      ]
    },
    {
      "cell_type": "code",
      "execution_count": 22,
      "metadata": {
        "id": "QmTupblVPiWp"
      },
      "outputs": [],
      "source": [
        "class DeepResearchAgent(SimpleAgent):\n",
        "    pass"
      ]
    },
    {
      "cell_type": "markdown",
      "metadata": {
        "id": "vd2u5T11PvOx"
      },
      "source": [
        "## Run\n",
        "And now we can run our agent! "
      ]
    },
    {
      "cell_type": "code",
      "execution_count": 23,
      "metadata": {
        "colab": {
          "base_uri": "https://localhost:8080/"
        },
        "collapsed": true,
        "id": "8oCz5d7fCMy8",
        "outputId": "2516646f-ac15-449e-f61d-bd2254d297a3"
      },
      "outputs": [
        {
          "name": "stderr",
          "output_type": "stream",
          "text": [
            "\u001b[36m\u001b[1mweave\u001b[0m: Error getting code deps for <function SimpleAgent.run at 0x10fde7b00>: invalid syntax. Perhaps you forgot a comma? (<unknown>, line 211)\n"
          ]
        },
        {
          "data": {
            "text/html": [
              "<pre style=\"white-space:pre;overflow-x:auto;line-height:normal;font-family:Menlo,'DejaVu Sans Mono',consolas,'Courier New',monospace\"><span style=\"color: #00ff00; text-decoration-color: #00ff00\">────────────────────────────────────────────── </span>Agent Loop Turn <span style=\"color: #008080; text-decoration-color: #008080; font-weight: bold\">1</span>/<span style=\"color: #008080; text-decoration-color: #008080; font-weight: bold\">10</span><span style=\"color: #00ff00; text-decoration-color: #00ff00\"> ───────────────────────────────────────────────</span>\n",
              "</pre>\n"
            ],
            "text/plain": [
              "\u001b[92m────────────────────────────────────────────── \u001b[0mAgent Loop Turn \u001b[1;36m1\u001b[0m/\u001b[1;36m10\u001b[0m\u001b[92m ───────────────────────────────────────────────\u001b[0m\n"
            ]
          },
          "metadata": {},
          "output_type": "display_data"
        },
        {
          "name": "stderr",
          "output_type": "stream",
          "text": [
            "\u001b[36m\u001b[1mweave\u001b[0m: Error getting code deps for <function SimpleAgent.step at 0x10fde7560>: invalid syntax. Perhaps you forgot a comma? (<unknown>, line 211)\n"
          ]
        },
        {
          "data": {
            "text/html": [
              "<pre style=\"white-space:pre;overflow-x:auto;line-height:normal;font-family:Menlo,'DejaVu Sans Mono',consolas,'Courier New',monospace\"></pre>\n"
            ],
            "text/plain": []
          },
          "metadata": {},
          "output_type": "display_data"
        },
        {
          "data": {
            "text/html": [
              "<pre style=\"white-space:pre;overflow-x:auto;line-height:normal;font-family:Menlo,'DejaVu Sans Mono',consolas,'Courier New',monospace\"><span style=\"color: #008080; text-decoration-color: #008080\">╭─────────────────────────────────────────────────────────────────────────────────────────────────────────────────╮</span>\n",
              "<span style=\"color: #008080; text-decoration-color: #008080\">│</span> <span style=\"color: #008080; text-decoration-color: #008080; font-weight: bold\">🔧 Tool Call:</span> planning_tool                                                                                     <span style=\"color: #008080; text-decoration-color: #008080\">│</span>\n",
              "<span style=\"color: #008080; text-decoration-color: #008080\">│</span>                                                                                                                 <span style=\"color: #008080; text-decoration-color: #008080\">│</span>\n",
              "<span style=\"color: #008080; text-decoration-color: #008080\">│</span> <span style=\"color: #7f7f7f; text-decoration-color: #7f7f7f\">Args: {\"plan\": \"Research plan for \\\"healthiest vegan milk alternative\\\":\\n\\nAnalysis: User wants to know which </span> <span style=\"color: #008080; text-decoration-color: #008080\">│</span>\n",
              "<span style=\"color: #008080; text-decoration-color: #008080\">│</span> <span style=\"color: #7f7f7f; text-decoration-color: #7f7f7f\">vegan milk alternative is the \\\"healthiest\\\" - this requires evaluating nutritional profiles, health benefits, </span> <span style=\"color: #008080; text-decoration-color: #008080\">│</span>\n",
              "<span style=\"color: #008080; text-decoration-color: #008080\">│</span> <span style=\"color: #7f7f7f; text-decoration-color: #7f7f7f\">and potential drawbacks of different plant-based milks.\\n\\nSub-queries:\\n- Nutritional comparison of major </span>     <span style=\"color: #008080; text-decoration-color: #008080\">│</span>\n",
              "<span style=\"color: #008080; text-decoration-color: #008080\">│</span> <span style=\"color: #7f7f7f; text-decoration-color: #7f7f7f\">vegan milk types (soy, almond, oat, coconut, rice, cashew, hemp)\\n- Protein content across plant milks\\n- </span>      <span style=\"color: #008080; text-decoration-color: #008080\">│</span>\n",
              "<span style=\"color: #008080; text-decoration-color: #008080\">│</span> <span style=\"color: #7f7f7f; text-decoration-color: #7f7f7f\">Calcium and vitamin fortification levels\\n- Added sugars and preservatives in commercial brands\\n- Allergen </span>    <span style=\"color: #008080; text-decoration-color: #008080\">│</span>\n",
              "<span style=\"color: #008080; text-decoration-color: #008080\">│</span> <span style=\"color: #7f7f7f; text-decoration-color: #7f7f7f\">considerations and special dietary needs\\n- Environmental impact as health factor\\n- Expert nutritionist </span>       <span style=\"color: #008080; text-decoration-color: #008080\">│</span>\n",
              "<span style=\"color: #008080; text-decoration-color: #008080\">│</span> <span style=\"color: #7f7f7f; text-decoration-color: #7f7f7f\">recommendations and studies\\n- Potential health concerns (thyroid function, additives, etc.)\\n\\nResearch </span>       <span style=\"color: #008080; text-decoration-color: #008080\">│</span>\n",
              "<span style=\"color: #008080; text-decoration-color: #008080\">│</span> <span style=\"color: #7f7f7f; text-decoration-color: #7f7f7f\">approach:\\n1. Start with comprehensive comparison of major plant milk types\\n2. Focus on key health metrics: </span>   <span style=\"color: #008080; text-decoration-color: #008080\">│</span>\n",
              "<span style=\"color: #008080; text-decoration-color: #008080\">│</span> <span style=\"color: #7f7f7f; text-decoration-color: #7f7f7f\">protein, nutrients, additives, processing\\n3. Look for evidence-based nutritionist and medical </span>                 <span style=\"color: #008080; text-decoration-color: #008080\">│</span>\n",
              "<span style=\"color: #008080; text-decoration-color: #008080\">│</span> <span style=\"color: #7f7f7f; text-decoration-color: #7f7f7f\">recommendations\\n4. Identify any consensus on \\\"healthiest\\\" choice or top contenders\\n5. Present findings with</span> <span style=\"color: #008080; text-decoration-color: #008080\">│</span>\n",
              "<span style=\"color: #008080; text-decoration-color: #008080\">│</span> <span style=\"color: #7f7f7f; text-decoration-color: #7f7f7f\">nuance around individual needs\"}</span>                                                                                <span style=\"color: #008080; text-decoration-color: #008080\">│</span>\n",
              "<span style=\"color: #008080; text-decoration-color: #008080\">│</span>                                                                                                                 <span style=\"color: #008080; text-decoration-color: #008080\">│</span>\n",
              "<span style=\"color: #008080; text-decoration-color: #008080\">│</span> <span style=\"color: #008000; text-decoration-color: #008000\">✓</span> planning_tool executed successfully                                                                           <span style=\"color: #008080; text-decoration-color: #008080\">│</span>\n",
              "<span style=\"color: #008080; text-decoration-color: #008080\">╰─────────────────────────────────────────────────────────────────────────────────────────────────────────────────╯</span>\n",
              "</pre>\n"
            ],
            "text/plain": [
              "\u001b[36m╭─────────────────────────────────────────────────────────────────────────────────────────────────────────────────╮\u001b[0m\n",
              "\u001b[36m│\u001b[0m \u001b[1;36m🔧 Tool Call:\u001b[0m planning_tool                                                                                     \u001b[36m│\u001b[0m\n",
              "\u001b[36m│\u001b[0m                                                                                                                 \u001b[36m│\u001b[0m\n",
              "\u001b[36m│\u001b[0m \u001b[2mArgs: {\"plan\": \"Research plan for \\\"healthiest vegan milk alternative\\\":\\n\\nAnalysis: User wants to know which \u001b[0m \u001b[36m│\u001b[0m\n",
              "\u001b[36m│\u001b[0m \u001b[2mvegan milk alternative is the \\\"healthiest\\\" - this requires evaluating nutritional profiles, health benefits, \u001b[0m \u001b[36m│\u001b[0m\n",
              "\u001b[36m│\u001b[0m \u001b[2mand potential drawbacks of different plant-based milks.\\n\\nSub-queries:\\n- Nutritional comparison of major \u001b[0m     \u001b[36m│\u001b[0m\n",
              "\u001b[36m│\u001b[0m \u001b[2mvegan milk types (soy, almond, oat, coconut, rice, cashew, hemp)\\n- Protein content across plant milks\\n- \u001b[0m      \u001b[36m│\u001b[0m\n",
              "\u001b[36m│\u001b[0m \u001b[2mCalcium and vitamin fortification levels\\n- Added sugars and preservatives in commercial brands\\n- Allergen \u001b[0m    \u001b[36m│\u001b[0m\n",
              "\u001b[36m│\u001b[0m \u001b[2mconsiderations and special dietary needs\\n- Environmental impact as health factor\\n- Expert nutritionist \u001b[0m       \u001b[36m│\u001b[0m\n",
              "\u001b[36m│\u001b[0m \u001b[2mrecommendations and studies\\n- Potential health concerns (thyroid function, additives, etc.)\\n\\nResearch \u001b[0m       \u001b[36m│\u001b[0m\n",
              "\u001b[36m│\u001b[0m \u001b[2mapproach:\\n1. Start with comprehensive comparison of major plant milk types\\n2. Focus on key health metrics: \u001b[0m   \u001b[36m│\u001b[0m\n",
              "\u001b[36m│\u001b[0m \u001b[2mprotein, nutrients, additives, processing\\n3. Look for evidence-based nutritionist and medical \u001b[0m                 \u001b[36m│\u001b[0m\n",
              "\u001b[36m│\u001b[0m \u001b[2mrecommendations\\n4. Identify any consensus on \\\"healthiest\\\" choice or top contenders\\n5. Present findings with\u001b[0m \u001b[36m│\u001b[0m\n",
              "\u001b[36m│\u001b[0m \u001b[2mnuance around individual needs\"}\u001b[0m                                                                                \u001b[36m│\u001b[0m\n",
              "\u001b[36m│\u001b[0m                                                                                                                 \u001b[36m│\u001b[0m\n",
              "\u001b[36m│\u001b[0m \u001b[32m✓\u001b[0m planning_tool executed successfully                                                                           \u001b[36m│\u001b[0m\n",
              "\u001b[36m╰─────────────────────────────────────────────────────────────────────────────────────────────────────────────────╯\u001b[0m\n"
            ]
          },
          "metadata": {},
          "output_type": "display_data"
        },
        {
          "data": {
            "text/html": [
              "<pre style=\"white-space:pre;overflow-x:auto;line-height:normal;font-family:Menlo,'DejaVu Sans Mono',consolas,'Courier New',monospace\"><span style=\"color: #00ff00; text-decoration-color: #00ff00\">────────────────────────────────────────────── </span>Agent Loop Turn <span style=\"color: #008080; text-decoration-color: #008080; font-weight: bold\">2</span>/<span style=\"color: #008080; text-decoration-color: #008080; font-weight: bold\">10</span><span style=\"color: #00ff00; text-decoration-color: #00ff00\"> ───────────────────────────────────────────────</span>\n",
              "</pre>\n"
            ],
            "text/plain": [
              "\u001b[92m────────────────────────────────────────────── \u001b[0mAgent Loop Turn \u001b[1;36m2\u001b[0m/\u001b[1;36m10\u001b[0m\u001b[92m ───────────────────────────────────────────────\u001b[0m\n"
            ]
          },
          "metadata": {},
          "output_type": "display_data"
        },
        {
          "data": {
            "text/html": [
              "<pre style=\"white-space:pre;overflow-x:auto;line-height:normal;font-family:Menlo,'DejaVu Sans Mono',consolas,'Courier New',monospace\">Refining result <span style=\"color: #008080; text-decoration-color: #008080; font-weight: bold\">1</span>\n",
              "</pre>\n"
            ],
            "text/plain": [
              "Refining result \u001b[1;36m1\u001b[0m\n"
            ]
          },
          "metadata": {},
          "output_type": "display_data"
        },
        {
          "data": {
            "text/html": [
              "<pre style=\"white-space:pre;overflow-x:auto;line-height:normal;font-family:Menlo,'DejaVu Sans Mono',consolas,'Courier New',monospace\">Refining result <span style=\"color: #008080; text-decoration-color: #008080; font-weight: bold\">2</span>\n",
              "</pre>\n"
            ],
            "text/plain": [
              "Refining result \u001b[1;36m2\u001b[0m\n"
            ]
          },
          "metadata": {},
          "output_type": "display_data"
        },
        {
          "data": {
            "text/html": [
              "<pre style=\"white-space:pre;overflow-x:auto;line-height:normal;font-family:Menlo,'DejaVu Sans Mono',consolas,'Courier New',monospace\">Refining result <span style=\"color: #008080; text-decoration-color: #008080; font-weight: bold\">3</span>\n",
              "</pre>\n"
            ],
            "text/plain": [
              "Refining result \u001b[1;36m3\u001b[0m\n"
            ]
          },
          "metadata": {},
          "output_type": "display_data"
        },
        {
          "data": {
            "text/html": [
              "<pre style=\"white-space:pre;overflow-x:auto;line-height:normal;font-family:Menlo,'DejaVu Sans Mono',consolas,'Courier New',monospace\">Refining result <span style=\"color: #008080; text-decoration-color: #008080; font-weight: bold\">4</span>\n",
              "</pre>\n"
            ],
            "text/plain": [
              "Refining result \u001b[1;36m4\u001b[0m\n"
            ]
          },
          "metadata": {},
          "output_type": "display_data"
        },
        {
          "name": "stderr",
          "output_type": "stream",
          "text": [
            "\u001b[36m\u001b[1mweave\u001b[0m: retry_attempt\n"
          ]
        },
        {
          "data": {
            "text/html": [
              "<pre style=\"white-space:pre;overflow-x:auto;line-height:normal;font-family:Menlo,'DejaVu Sans Mono',consolas,'Courier New',monospace\">Refining result <span style=\"color: #008080; text-decoration-color: #008080; font-weight: bold\">5</span>\n",
              "</pre>\n"
            ],
            "text/plain": [
              "Refining result \u001b[1;36m5\u001b[0m\n"
            ]
          },
          "metadata": {},
          "output_type": "display_data"
        },
        {
          "data": {
            "text/html": [
              "<pre style=\"white-space:pre;overflow-x:auto;line-height:normal;font-family:Menlo,'DejaVu Sans Mono',consolas,'Courier New',monospace\"></pre>\n"
            ],
            "text/plain": []
          },
          "metadata": {},
          "output_type": "display_data"
        },
        {
          "data": {
            "text/html": [
              "<pre style=\"white-space:pre;overflow-x:auto;line-height:normal;font-family:Menlo,'DejaVu Sans Mono',consolas,'Courier New',monospace\"><span style=\"color: #008080; text-decoration-color: #008080\">╭─────────────────────────────────────────────────────────────────────────────────────────────────────────────────╮</span>\n",
              "<span style=\"color: #008080; text-decoration-color: #008080\">│</span> <span style=\"color: #008080; text-decoration-color: #008080; font-weight: bold\">🔧 Tool Call:</span> exa_search_and_refine                                                                             <span style=\"color: #008080; text-decoration-color: #008080\">│</span>\n",
              "<span style=\"color: #008080; text-decoration-color: #008080\">│</span>                                                                                                                 <span style=\"color: #008080; text-decoration-color: #008080\">│</span>\n",
              "<span style=\"color: #008080; text-decoration-color: #008080\">│</span> <span style=\"color: #7f7f7f; text-decoration-color: #7f7f7f\">Args: {\"query\": \"healthiest vegan milk alternative nutritional comparison soy almond oat nutritionist </span>          <span style=\"color: #008080; text-decoration-color: #008080\">│</span>\n",
              "<span style=\"color: #008080; text-decoration-color: #008080\">│</span> <span style=\"color: #7f7f7f; text-decoration-color: #7f7f7f\">recommendations 2024\", \"num_results\": 5}</span>                                                                        <span style=\"color: #008080; text-decoration-color: #008080\">│</span>\n",
              "<span style=\"color: #008080; text-decoration-color: #008080\">│</span>                                                                                                                 <span style=\"color: #008080; text-decoration-color: #008080\">│</span>\n",
              "<span style=\"color: #008080; text-decoration-color: #008080\">│</span> <span style=\"color: #008000; text-decoration-color: #008000\">✓</span> Found 5 results                                                                                               <span style=\"color: #008080; text-decoration-color: #008080\">│</span>\n",
              "<span style=\"color: #008080; text-decoration-color: #008080\">╰─────────────────────────────────────────────────────────────────────────────────────────────────────────────────╯</span>\n",
              "</pre>\n"
            ],
            "text/plain": [
              "\u001b[36m╭─────────────────────────────────────────────────────────────────────────────────────────────────────────────────╮\u001b[0m\n",
              "\u001b[36m│\u001b[0m \u001b[1;36m🔧 Tool Call:\u001b[0m exa_search_and_refine                                                                             \u001b[36m│\u001b[0m\n",
              "\u001b[36m│\u001b[0m                                                                                                                 \u001b[36m│\u001b[0m\n",
              "\u001b[36m│\u001b[0m \u001b[2mArgs: {\"query\": \"healthiest vegan milk alternative nutritional comparison soy almond oat nutritionist \u001b[0m          \u001b[36m│\u001b[0m\n",
              "\u001b[36m│\u001b[0m \u001b[2mrecommendations 2024\", \"num_results\": 5}\u001b[0m                                                                        \u001b[36m│\u001b[0m\n",
              "\u001b[36m│\u001b[0m                                                                                                                 \u001b[36m│\u001b[0m\n",
              "\u001b[36m│\u001b[0m \u001b[32m✓\u001b[0m Found 5 results                                                                                               \u001b[36m│\u001b[0m\n",
              "\u001b[36m╰─────────────────────────────────────────────────────────────────────────────────────────────────────────────────╯\u001b[0m\n"
            ]
          },
          "metadata": {},
          "output_type": "display_data"
        },
        {
          "data": {
            "text/html": [
              "<pre style=\"white-space:pre;overflow-x:auto;line-height:normal;font-family:Menlo,'DejaVu Sans Mono',consolas,'Courier New',monospace\"><span style=\"color: #00ff00; text-decoration-color: #00ff00\">────────────────────────────────────────────── </span>Agent Loop Turn <span style=\"color: #008080; text-decoration-color: #008080; font-weight: bold\">3</span>/<span style=\"color: #008080; text-decoration-color: #008080; font-weight: bold\">10</span><span style=\"color: #00ff00; text-decoration-color: #00ff00\"> ───────────────────────────────────────────────</span>\n",
              "</pre>\n"
            ],
            "text/plain": [
              "\u001b[92m────────────────────────────────────────────── \u001b[0mAgent Loop Turn \u001b[1;36m3\u001b[0m/\u001b[1;36m10\u001b[0m\u001b[92m ───────────────────────────────────────────────\u001b[0m\n"
            ]
          },
          "metadata": {},
          "output_type": "display_data"
        },
        {
          "data": {
            "text/html": [
              "<pre style=\"white-space:pre;overflow-x:auto;line-height:normal;font-family:Menlo,'DejaVu Sans Mono',consolas,'Courier New',monospace\"></pre>\n"
            ],
            "text/plain": []
          },
          "metadata": {},
          "output_type": "display_data"
        },
        {
          "data": {
            "text/html": [
              "<pre style=\"white-space:pre;overflow-x:auto;line-height:normal;font-family:Menlo,'DejaVu Sans Mono',consolas,'Courier New',monospace\"><span style=\"color: #008080; text-decoration-color: #008080\">╭─────────────────────────────────────────────────────────────────────────────────────────────────────────────────╮</span>\n",
              "<span style=\"color: #008080; text-decoration-color: #008080\">│</span> <span style=\"color: #008080; text-decoration-color: #008080; font-weight: bold\">🔧 Tool Call:</span> think_tool                                                                                        <span style=\"color: #008080; text-decoration-color: #008080\">│</span>\n",
              "<span style=\"color: #008080; text-decoration-color: #008080\">│</span>                                                                                                                 <span style=\"color: #008080; text-decoration-color: #008080\">│</span>\n",
              "<span style=\"color: #008080; text-decoration-color: #008080\">│</span> <span style=\"color: #7f7f7f; text-decoration-color: #7f7f7f\">Args: {\"reflection\": \"I've gathered excellent information from 5 reputable sources (EatingWell, TODAY.com, Food</span> <span style=\"color: #008080; text-decoration-color: #008080\">│</span>\n",
              "<span style=\"color: #008080; text-decoration-color: #008080\">│</span> <span style=\"color: #7f7f7f; text-decoration-color: #7f7f7f\">Network, Healthline, and Mayo Clinic), all updated in 2024-2025. Here's my analysis:\\n\\n**Key Findings:**\\n1. </span>  <span style=\"color: #008080; text-decoration-color: #008080\">│</span>\n",
              "<span style=\"color: #008080; text-decoration-color: #008080\">│</span> <span style=\"color: #7f7f7f; text-decoration-color: #7f7f7f\">**Consensus on soy milk**: All sources agree soy milk is the healthiest overall due to its high protein content</span> <span style=\"color: #008080; text-decoration-color: #008080\">│</span>\n",
              "<span style=\"color: #008080; text-decoration-color: #008080\">│</span> <span style=\"color: #7f7f7f; text-decoration-color: #7f7f7f\">(7-8g per cup) and complete amino acid profile\\n2. **Clear nutritional hierarchy**: Soy &gt; Oat &gt; Almond in terms</span> <span style=\"color: #008080; text-decoration-color: #008080\">│</span>\n",
              "<span style=\"color: #008080; text-decoration-color: #008080\">│</span> <span style=\"color: #7f7f7f; text-decoration-color: #7f7f7f\">of overall nutrition\\n3. **Individual considerations**: Each has pros/cons based on dietary needs\\n\\n**Missing </span> <span style=\"color: #008080; text-decoration-color: #008080\">│</span>\n",
              "<span style=\"color: #008080; text-decoration-color: #008080\">│</span> <span style=\"color: #7f7f7f; text-decoration-color: #7f7f7f\">elements to explore:**\\n- Additional plant milk types (pea, hemp, rice)\\n- Specific processing concerns </span>        <span style=\"color: #008080; text-decoration-color: #008080\">│</span>\n",
              "<span style=\"color: #008080; text-decoration-color: #008080\">│</span> <span style=\"color: #7f7f7f; text-decoration-color: #7f7f7f\">(additives like carrageenan)\\n- Sustainability considerations\\n- Preparation tips for consumers\\n\\n**Quality </span>   <span style=\"color: #008080; text-decoration-color: #008080\">│</span>\n",
              "<span style=\"color: #008080; text-decoration-color: #008080\">│</span> <span style=\"color: #7f7f7f; text-decoration-color: #7f7f7f\">assessment**: I have strong, consistent evidence from multiple nutritionist sources. The data is comprehensive </span> <span style=\"color: #008080; text-decoration-color: #008080\">│</span>\n",
              "<span style=\"color: #008080; text-decoration-color: #008080\">│</span> <span style=\"color: #7f7f7f; text-decoration-color: #7f7f7f\">and recent.\\n\\n**Strategic decision**: I have enough to provide a thorough answer, but a quick search for </span>      <span style=\"color: #008080; text-decoration-color: #008080\">│</span>\n",
              "<span style=\"color: #008080; text-decoration-color: #008080\">│</span> <span style=\"color: #7f7f7f; text-decoration-color: #7f7f7f\">additional plant milk types and practical guidance would make this more complete for consumers.\"}</span>               <span style=\"color: #008080; text-decoration-color: #008080\">│</span>\n",
              "<span style=\"color: #008080; text-decoration-color: #008080\">│</span>                                                                                                                 <span style=\"color: #008080; text-decoration-color: #008080\">│</span>\n",
              "<span style=\"color: #008080; text-decoration-color: #008080\">│</span> <span style=\"color: #008000; text-decoration-color: #008000\">✓</span> think_tool executed successfully                                                                              <span style=\"color: #008080; text-decoration-color: #008080\">│</span>\n",
              "<span style=\"color: #008080; text-decoration-color: #008080\">╰─────────────────────────────────────────────────────────────────────────────────────────────────────────────────╯</span>\n",
              "</pre>\n"
            ],
            "text/plain": [
              "\u001b[36m╭─────────────────────────────────────────────────────────────────────────────────────────────────────────────────╮\u001b[0m\n",
              "\u001b[36m│\u001b[0m \u001b[1;36m🔧 Tool Call:\u001b[0m think_tool                                                                                        \u001b[36m│\u001b[0m\n",
              "\u001b[36m│\u001b[0m                                                                                                                 \u001b[36m│\u001b[0m\n",
              "\u001b[36m│\u001b[0m \u001b[2mArgs: {\"reflection\": \"I've gathered excellent information from 5 reputable sources (EatingWell, TODAY.com, Food\u001b[0m \u001b[36m│\u001b[0m\n",
              "\u001b[36m│\u001b[0m \u001b[2mNetwork, Healthline, and Mayo Clinic), all updated in 2024-2025. Here's my analysis:\\n\\n**Key Findings:**\\n1. \u001b[0m  \u001b[36m│\u001b[0m\n",
              "\u001b[36m│\u001b[0m \u001b[2m**Consensus on soy milk**: All sources agree soy milk is the healthiest overall due to its high protein content\u001b[0m \u001b[36m│\u001b[0m\n",
              "\u001b[36m│\u001b[0m \u001b[2m(7-8g per cup) and complete amino acid profile\\n2. **Clear nutritional hierarchy**: Soy > Oat > Almond in terms\u001b[0m \u001b[36m│\u001b[0m\n",
              "\u001b[36m│\u001b[0m \u001b[2mof overall nutrition\\n3. **Individual considerations**: Each has pros/cons based on dietary needs\\n\\n**Missing \u001b[0m \u001b[36m│\u001b[0m\n",
              "\u001b[36m│\u001b[0m \u001b[2melements to explore:**\\n- Additional plant milk types (pea, hemp, rice)\\n- Specific processing concerns \u001b[0m        \u001b[36m│\u001b[0m\n",
              "\u001b[36m│\u001b[0m \u001b[2m(additives like carrageenan)\\n- Sustainability considerations\\n- Preparation tips for consumers\\n\\n**Quality \u001b[0m   \u001b[36m│\u001b[0m\n",
              "\u001b[36m│\u001b[0m \u001b[2massessment**: I have strong, consistent evidence from multiple nutritionist sources. The data is comprehensive \u001b[0m \u001b[36m│\u001b[0m\n",
              "\u001b[36m│\u001b[0m \u001b[2mand recent.\\n\\n**Strategic decision**: I have enough to provide a thorough answer, but a quick search for \u001b[0m      \u001b[36m│\u001b[0m\n",
              "\u001b[36m│\u001b[0m \u001b[2madditional plant milk types and practical guidance would make this more complete for consumers.\"}\u001b[0m               \u001b[36m│\u001b[0m\n",
              "\u001b[36m│\u001b[0m                                                                                                                 \u001b[36m│\u001b[0m\n",
              "\u001b[36m│\u001b[0m \u001b[32m✓\u001b[0m think_tool executed successfully                                                                              \u001b[36m│\u001b[0m\n",
              "\u001b[36m╰─────────────────────────────────────────────────────────────────────────────────────────────────────────────────╯\u001b[0m\n"
            ]
          },
          "metadata": {},
          "output_type": "display_data"
        },
        {
          "data": {
            "text/html": [
              "<pre style=\"white-space:pre;overflow-x:auto;line-height:normal;font-family:Menlo,'DejaVu Sans Mono',consolas,'Courier New',monospace\"><span style=\"color: #00ff00; text-decoration-color: #00ff00\">────────────────────────────────────────────── </span>Agent Loop Turn <span style=\"color: #008080; text-decoration-color: #008080; font-weight: bold\">4</span>/<span style=\"color: #008080; text-decoration-color: #008080; font-weight: bold\">10</span><span style=\"color: #00ff00; text-decoration-color: #00ff00\"> ───────────────────────────────────────────────</span>\n",
              "</pre>\n"
            ],
            "text/plain": [
              "\u001b[92m────────────────────────────────────────────── \u001b[0mAgent Loop Turn \u001b[1;36m4\u001b[0m/\u001b[1;36m10\u001b[0m\u001b[92m ───────────────────────────────────────────────\u001b[0m\n"
            ]
          },
          "metadata": {},
          "output_type": "display_data"
        },
        {
          "data": {
            "text/html": [
              "<pre style=\"white-space:pre;overflow-x:auto;line-height:normal;font-family:Menlo,'DejaVu Sans Mono',consolas,'Courier New',monospace\">Refining result <span style=\"color: #008080; text-decoration-color: #008080; font-weight: bold\">1</span>\n",
              "</pre>\n"
            ],
            "text/plain": [
              "Refining result \u001b[1;36m1\u001b[0m\n"
            ]
          },
          "metadata": {},
          "output_type": "display_data"
        },
        {
          "data": {
            "text/html": [
              "<pre style=\"white-space:pre;overflow-x:auto;line-height:normal;font-family:Menlo,'DejaVu Sans Mono',consolas,'Courier New',monospace\">Refining result <span style=\"color: #008080; text-decoration-color: #008080; font-weight: bold\">2</span>\n",
              "</pre>\n"
            ],
            "text/plain": [
              "Refining result \u001b[1;36m2\u001b[0m\n"
            ]
          },
          "metadata": {},
          "output_type": "display_data"
        },
        {
          "data": {
            "text/html": [
              "<pre style=\"white-space:pre;overflow-x:auto;line-height:normal;font-family:Menlo,'DejaVu Sans Mono',consolas,'Courier New',monospace\">Refining result <span style=\"color: #008080; text-decoration-color: #008080; font-weight: bold\">3</span>\n",
              "</pre>\n"
            ],
            "text/plain": [
              "Refining result \u001b[1;36m3\u001b[0m\n"
            ]
          },
          "metadata": {},
          "output_type": "display_data"
        },
        {
          "data": {
            "text/html": [
              "<pre style=\"white-space:pre;overflow-x:auto;line-height:normal;font-family:Menlo,'DejaVu Sans Mono',consolas,'Courier New',monospace\">Refining result <span style=\"color: #008080; text-decoration-color: #008080; font-weight: bold\">4</span>\n",
              "</pre>\n"
            ],
            "text/plain": [
              "Refining result \u001b[1;36m4\u001b[0m\n"
            ]
          },
          "metadata": {},
          "output_type": "display_data"
        },
        {
          "data": {
            "text/html": [
              "<pre style=\"white-space:pre;overflow-x:auto;line-height:normal;font-family:Menlo,'DejaVu Sans Mono',consolas,'Courier New',monospace\"></pre>\n"
            ],
            "text/plain": []
          },
          "metadata": {},
          "output_type": "display_data"
        },
        {
          "data": {
            "text/html": [
              "<pre style=\"white-space:pre;overflow-x:auto;line-height:normal;font-family:Menlo,'DejaVu Sans Mono',consolas,'Courier New',monospace\"><span style=\"color: #008080; text-decoration-color: #008080\">╭─────────────────────────────────────────────────────────────────────────────────────────────────────────────────╮</span>\n",
              "<span style=\"color: #008080; text-decoration-color: #008080\">│</span> <span style=\"color: #008080; text-decoration-color: #008080; font-weight: bold\">🔧 Tool Call:</span> exa_search_and_refine                                                                             <span style=\"color: #008080; text-decoration-color: #008080\">│</span>\n",
              "<span style=\"color: #008080; text-decoration-color: #008080\">│</span>                                                                                                                 <span style=\"color: #008080; text-decoration-color: #008080\">│</span>\n",
              "<span style=\"color: #008080; text-decoration-color: #008080\">│</span> <span style=\"color: #7f7f7f; text-decoration-color: #7f7f7f\">Args: {\"num_results\": 4, \"query\": \"healthiest vegan milk alternative pea milk hemp milk rice milk comparison </span>   <span style=\"color: #008080; text-decoration-color: #008080\">│</span>\n",
              "<span style=\"color: #008080; text-decoration-color: #008080\">│</span> <span style=\"color: #7f7f7f; text-decoration-color: #7f7f7f\">nutritionist recommendations additives carrageenan\"}</span>                                                            <span style=\"color: #008080; text-decoration-color: #008080\">│</span>\n",
              "<span style=\"color: #008080; text-decoration-color: #008080\">│</span>                                                                                                                 <span style=\"color: #008080; text-decoration-color: #008080\">│</span>\n",
              "<span style=\"color: #008080; text-decoration-color: #008080\">│</span> <span style=\"color: #008000; text-decoration-color: #008000\">✓</span> Found 4 results                                                                                               <span style=\"color: #008080; text-decoration-color: #008080\">│</span>\n",
              "<span style=\"color: #008080; text-decoration-color: #008080\">╰─────────────────────────────────────────────────────────────────────────────────────────────────────────────────╯</span>\n",
              "</pre>\n"
            ],
            "text/plain": [
              "\u001b[36m╭─────────────────────────────────────────────────────────────────────────────────────────────────────────────────╮\u001b[0m\n",
              "\u001b[36m│\u001b[0m \u001b[1;36m🔧 Tool Call:\u001b[0m exa_search_and_refine                                                                             \u001b[36m│\u001b[0m\n",
              "\u001b[36m│\u001b[0m                                                                                                                 \u001b[36m│\u001b[0m\n",
              "\u001b[36m│\u001b[0m \u001b[2mArgs: {\"num_results\": 4, \"query\": \"healthiest vegan milk alternative pea milk hemp milk rice milk comparison \u001b[0m   \u001b[36m│\u001b[0m\n",
              "\u001b[36m│\u001b[0m \u001b[2mnutritionist recommendations additives carrageenan\"}\u001b[0m                                                            \u001b[36m│\u001b[0m\n",
              "\u001b[36m│\u001b[0m                                                                                                                 \u001b[36m│\u001b[0m\n",
              "\u001b[36m│\u001b[0m \u001b[32m✓\u001b[0m Found 4 results                                                                                               \u001b[36m│\u001b[0m\n",
              "\u001b[36m╰─────────────────────────────────────────────────────────────────────────────────────────────────────────────────╯\u001b[0m\n"
            ]
          },
          "metadata": {},
          "output_type": "display_data"
        },
        {
          "data": {
            "text/html": [
              "<pre style=\"white-space:pre;overflow-x:auto;line-height:normal;font-family:Menlo,'DejaVu Sans Mono',consolas,'Courier New',monospace\"><span style=\"color: #00ff00; text-decoration-color: #00ff00\">────────────────────────────────────────────── </span>Agent Loop Turn <span style=\"color: #008080; text-decoration-color: #008080; font-weight: bold\">5</span>/<span style=\"color: #008080; text-decoration-color: #008080; font-weight: bold\">10</span><span style=\"color: #00ff00; text-decoration-color: #00ff00\"> ───────────────────────────────────────────────</span>\n",
              "</pre>\n"
            ],
            "text/plain": [
              "\u001b[92m────────────────────────────────────────────── \u001b[0mAgent Loop Turn \u001b[1;36m5\u001b[0m/\u001b[1;36m10\u001b[0m\u001b[92m ───────────────────────────────────────────────\u001b[0m\n"
            ]
          },
          "metadata": {},
          "output_type": "display_data"
        },
        {
          "data": {
            "text/html": [
              "<pre style=\"white-space:pre;overflow-x:auto;line-height:normal;font-family:Menlo,'DejaVu Sans Mono',consolas,'Courier New',monospace\"></pre>\n"
            ],
            "text/plain": []
          },
          "metadata": {},
          "output_type": "display_data"
        },
        {
          "data": {
            "text/html": [
              "<pre style=\"white-space:pre;overflow-x:auto;line-height:normal;font-family:Menlo,'DejaVu Sans Mono',consolas,'Courier New',monospace\"><span style=\"color: #008080; text-decoration-color: #008080\">╭─────────────────────────────────────────────────────────────────────────────────────────────────────────────────╮</span>\n",
              "<span style=\"color: #008080; text-decoration-color: #008080\">│</span> <span style=\"color: #008080; text-decoration-color: #008080; font-weight: bold\">🔧 Tool Call:</span> think_tool                                                                                        <span style=\"color: #008080; text-decoration-color: #008080\">│</span>\n",
              "<span style=\"color: #008080; text-decoration-color: #008080\">│</span>                                                                                                                 <span style=\"color: #008080; text-decoration-color: #008080\">│</span>\n",
              "<span style=\"color: #008080; text-decoration-color: #008080\">│</span> <span style=\"color: #7f7f7f; text-decoration-color: #7f7f7f\">Args: {\"reflection\": \"Now I have a comprehensive picture from 9 authoritative sources. My research is complete </span> <span style=\"color: #008080; text-decoration-color: #008080\">│</span>\n",
              "<span style=\"color: #008080; text-decoration-color: #008080\">│</span> <span style=\"color: #7f7f7f; text-decoration-color: #7f7f7f\">enough to provide a thorough answer.\\n\\n**Complete analysis of findings:**\\n\\n**Healthiest rankings </span>            <span style=\"color: #008080; text-decoration-color: #008080\">│</span>\n",
              "<span style=\"color: #008080; text-decoration-color: #008080\">│</span> <span style=\"color: #7f7f7f; text-decoration-color: #7f7f7f\">established:**\\n1. **Soy milk** - Universal consensus as healthiest overall (protein, complete amino acids, </span>    <span style=\"color: #008080; text-decoration-color: #008080\">│</span>\n",
              "<span style=\"color: #008080; text-decoration-color: #008080\">│</span> <span style=\"color: #7f7f7f; text-decoration-color: #7f7f7f\">nutrients)\\n2. **Pea milk** - Strong runner-up (comparable protein to soy, fewer allergen concerns)\\n3. **Hemp </span> <span style=\"color: #008080; text-decoration-color: #008080\">│</span>\n",
              "<span style=\"color: #008080; text-decoration-color: #008080\">│</span> <span style=\"color: #7f7f7f; text-decoration-color: #7f7f7f\">milk** - Best for healthy fats (omega-3s), moderate protein\\n4. **Oat milk** - Good fiber, creamy texture but </span>  <span style=\"color: #008080; text-decoration-color: #008080\">│</span>\n",
              "<span style=\"color: #008080; text-decoration-color: #008080\">│</span> <span style=\"color: #7f7f7f; text-decoration-color: #7f7f7f\">higher carbs\\n5. **Almond milk** - Lowest calories but very low protein\\n6. **Rice milk** - Lowest protein, </span>    <span style=\"color: #008080; text-decoration-color: #008080\">│</span>\n",
              "<span style=\"color: #008080; text-decoration-color: #008080\">│</span> <span style=\"color: #7f7f7f; text-decoration-color: #7f7f7f\">highest carbs/sugar, arsenic concerns\\n\\n**Key health factors identified:**\\n- Protein content is the #1 </span>       <span style=\"color: #008080; text-decoration-color: #008080\">│</span>\n",
              "<span style=\"color: #008080; text-decoration-color: #008080\">│</span> <span style=\"color: #7f7f7f; text-decoration-color: #7f7f7f\">differentiator\\n- Fortification with calcium, B12, vitamin D is crucial\\n- Added sugars and additives </span>          <span style=\"color: #008080; text-decoration-color: #008080\">│</span>\n",
              "<span style=\"color: #008080; text-decoration-color: #008080\">│</span> <span style=\"color: #7f7f7f; text-decoration-color: #7f7f7f\">(carrageenan) are major concerns\\n- Allergen considerations (soy, nuts, gluten)\\n- Heavy metal/toxin concerns </span>  <span style=\"color: #008080; text-decoration-color: #008080\">│</span>\n",
              "<span style=\"color: #008080; text-decoration-color: #008080\">│</span> <span style=\"color: #7f7f7f; text-decoration-color: #7f7f7f\">vary by type\\n\\n**I have enough information to write a comprehensive blog post that addresses the user's </span>       <span style=\"color: #008080; text-decoration-color: #008080\">│</span>\n",
              "<span style=\"color: #008080; text-decoration-color: #008080\">│</span> <span style=\"color: #7f7f7f; text-decoration-color: #7f7f7f\">question thoroughly while providing practical guidance.\"}</span>                                                       <span style=\"color: #008080; text-decoration-color: #008080\">│</span>\n",
              "<span style=\"color: #008080; text-decoration-color: #008080\">│</span>                                                                                                                 <span style=\"color: #008080; text-decoration-color: #008080\">│</span>\n",
              "<span style=\"color: #008080; text-decoration-color: #008080\">│</span> <span style=\"color: #008000; text-decoration-color: #008000\">✓</span> think_tool executed successfully                                                                              <span style=\"color: #008080; text-decoration-color: #008080\">│</span>\n",
              "<span style=\"color: #008080; text-decoration-color: #008080\">╰─────────────────────────────────────────────────────────────────────────────────────────────────────────────────╯</span>\n",
              "</pre>\n"
            ],
            "text/plain": [
              "\u001b[36m╭─────────────────────────────────────────────────────────────────────────────────────────────────────────────────╮\u001b[0m\n",
              "\u001b[36m│\u001b[0m \u001b[1;36m🔧 Tool Call:\u001b[0m think_tool                                                                                        \u001b[36m│\u001b[0m\n",
              "\u001b[36m│\u001b[0m                                                                                                                 \u001b[36m│\u001b[0m\n",
              "\u001b[36m│\u001b[0m \u001b[2mArgs: {\"reflection\": \"Now I have a comprehensive picture from 9 authoritative sources. My research is complete \u001b[0m \u001b[36m│\u001b[0m\n",
              "\u001b[36m│\u001b[0m \u001b[2menough to provide a thorough answer.\\n\\n**Complete analysis of findings:**\\n\\n**Healthiest rankings \u001b[0m            \u001b[36m│\u001b[0m\n",
              "\u001b[36m│\u001b[0m \u001b[2mestablished:**\\n1. **Soy milk** - Universal consensus as healthiest overall (protein, complete amino acids, \u001b[0m    \u001b[36m│\u001b[0m\n",
              "\u001b[36m│\u001b[0m \u001b[2mnutrients)\\n2. **Pea milk** - Strong runner-up (comparable protein to soy, fewer allergen concerns)\\n3. **Hemp \u001b[0m \u001b[36m│\u001b[0m\n",
              "\u001b[36m│\u001b[0m \u001b[2mmilk** - Best for healthy fats (omega-3s), moderate protein\\n4. **Oat milk** - Good fiber, creamy texture but \u001b[0m  \u001b[36m│\u001b[0m\n",
              "\u001b[36m│\u001b[0m \u001b[2mhigher carbs\\n5. **Almond milk** - Lowest calories but very low protein\\n6. **Rice milk** - Lowest protein, \u001b[0m    \u001b[36m│\u001b[0m\n",
              "\u001b[36m│\u001b[0m \u001b[2mhighest carbs/sugar, arsenic concerns\\n\\n**Key health factors identified:**\\n- Protein content is the #1 \u001b[0m       \u001b[36m│\u001b[0m\n",
              "\u001b[36m│\u001b[0m \u001b[2mdifferentiator\\n- Fortification with calcium, B12, vitamin D is crucial\\n- Added sugars and additives \u001b[0m          \u001b[36m│\u001b[0m\n",
              "\u001b[36m│\u001b[0m \u001b[2m(carrageenan) are major concerns\\n- Allergen considerations (soy, nuts, gluten)\\n- Heavy metal/toxin concerns \u001b[0m  \u001b[36m│\u001b[0m\n",
              "\u001b[36m│\u001b[0m \u001b[2mvary by type\\n\\n**I have enough information to write a comprehensive blog post that addresses the user's \u001b[0m       \u001b[36m│\u001b[0m\n",
              "\u001b[36m│\u001b[0m \u001b[2mquestion thoroughly while providing practical guidance.\"}\u001b[0m                                                       \u001b[36m│\u001b[0m\n",
              "\u001b[36m│\u001b[0m                                                                                                                 \u001b[36m│\u001b[0m\n",
              "\u001b[36m│\u001b[0m \u001b[32m✓\u001b[0m think_tool executed successfully                                                                              \u001b[36m│\u001b[0m\n",
              "\u001b[36m╰─────────────────────────────────────────────────────────────────────────────────────────────────────────────────╯\u001b[0m\n"
            ]
          },
          "metadata": {},
          "output_type": "display_data"
        },
        {
          "data": {
            "text/html": [
              "<pre style=\"white-space:pre;overflow-x:auto;line-height:normal;font-family:Menlo,'DejaVu Sans Mono',consolas,'Courier New',monospace\"><span style=\"color: #00ff00; text-decoration-color: #00ff00\">────────────────────────────────────────────── </span>Agent Loop Turn <span style=\"color: #008080; text-decoration-color: #008080; font-weight: bold\">6</span>/<span style=\"color: #008080; text-decoration-color: #008080; font-weight: bold\">10</span><span style=\"color: #00ff00; text-decoration-color: #00ff00\"> ───────────────────────────────────────────────</span>\n",
              "</pre>\n"
            ],
            "text/plain": [
              "\u001b[92m────────────────────────────────────────────── \u001b[0mAgent Loop Turn \u001b[1;36m6\u001b[0m/\u001b[1;36m10\u001b[0m\u001b[92m ───────────────────────────────────────────────\u001b[0m\n"
            ]
          },
          "metadata": {},
          "output_type": "display_data"
        },
        {
          "name": "stdout",
          "output_type": "stream",
          "text": [
            "Final response: # The Great Plant Milk Debate: Which Vegan Alternative is Actually the Healthiest?\n",
            "\n",
            "Walk down any grocery store dairy aisle today and you'll be greeted by a rainbow of cartons promising everything from \"extra creamy\" to \"protein-packed\" plant-based milks. But with so many options shouting for your attention, how do you actually determine which one is the healthiest choice for your body?\n",
            "\n",
            "After diving deep into the latest 2024-2025 nutritionist recommendations, scientific studies, and nutritional analyses, the plant milk landscape reveals some fascinating insights. Spoiler alert: while there's no single \"perfect\" milk for everyone, one clear winner emerges when it comes to overall nutritional value.\n",
            "\n",
            "## Meet the Contenders: A Complete Nutritional Breakdown\n",
            "\n",
            "Let's start by understanding what we're actually comparing. Each plant milk brings a unique nutritional profile to the table:\n",
            "\n",
            "### **Soy Milk – The Protein Powerhouse**\n",
            "- **Protein**: 7-8g per cup (highest among plant milks)\n",
            "- **Calories**: 80-100 per cup\n",
            "- **Key strengths**: Complete amino acid profile, naturally contains isoflavones linked to reduced cancer risk\n",
            "- **Fortified with**: Calcium, vitamin D, B12\n",
            "\n",
            "### **Pea Milk – The New Kid on the Block**\n",
            "- **Protein**: 8g per cup (comparable to dairy milk)\n",
            "- **Calories**: 130 per cup\n",
            "- **Key strengths**: Allergen-friendly, sustainable production, excellent protein quality\n",
            "- **Fortified with**: Calcium (often 50% more than dairy), vitamin D, B12\n",
            "\n",
            "### **Almond Milk – The Calorie Counter's Friend**\n",
            "- **Protein**: 1g per cup (very low)\n",
            "- **Calories**: 39-41 per cup (unsweetened)\n",
            "- **Key strengths**: Rich in vitamin E, lowest calorie option\n",
            "- **Fortified with**: Calcium, vitamin D (protein content remains very low)\n",
            "\n",
            "### **Oat Milk – The Creamy Indulgence**\n",
            "- **Protein**: 3g per cup\n",
            "- **Calories**: 120 per cup\n",
            "- **Key strengths**: High in beta-glucan fiber, creamy texture perfect for coffee\n",
            "- **Fortified with**: Calcium, B12, riboflavin\n",
            "\n",
            "### **Hemp Milk – The Omega-3 Champion**\n",
            "- **Protein**: 2-3g per cup\n",
            "- **Calories**: 60 per cup\n",
            "- **Key strengths**: Rich in omega-3 fatty acids, complete protein\n",
            "- **Fortified with**: Calcium, vitamin D\n",
            "\n",
            "### **Rice Milk – The Allergy Safe Choice**\n",
            "- **Protein**: 1g per cup (lowest)\n",
            "- **Calories**: 101 per cup\n",
            "- **Key strengths**: Hypoallergenic, safe for virtually all allergies\n",
            "- **Warning**: Higher in arsenic, highest carbohydrate content\n",
            "\n",
            "## The Shocking Truth About Additives\n",
            "\n",
            "Before we crown our winner, there's a critical factor that many consumers miss: additives and processing concerns.\n",
            "\n",
            "**Carrageenan Alert**: This seaweed-derived thickener, found in many commercial plant milks, has been linked to gut inflammation in some studies. The research is mixed—regulatory agencies consider it safe, but nutritionists recommend avoiding it if you have digestive sensitivities. Always check the label!\n",
            "\n",
            "**Heavy Metal Concerns**: Recent studies have revealed varying levels of heavy metals across plant milk types:\n",
            "- **Rice milk**: Consistently shows arsenic contamination\n",
            "- **Almond and oat milk**: Moderate cadmium levels in some samples\n",
            "- **Hemp milk**: Lowest overall toxin risk\n",
            "- **Soy and pea milk**: Moderate risk levels, vary by source\n",
            "\n",
            "## The Verdict: And the Healthiest Plant Milk Is...\n",
            "\n",
            "**Unsweetened Soy Milk** takes the crown as the healthiest overall vegan milk alternative, according to virtually every major nutritionist and dietitian group in 2024.\n",
            "\n",
            "### Here's why soy milk consistently wins:\n",
            "\n",
            "**🥇 Protein Perfection**: At 7-8g per cup, it provides the closest nutritional match to dairy milk's protein content. The protein is also a \"complete\" protein, containing all essential amino acids.\n",
            "\n",
            "**🛡️ Health Benefits**: Recent 2024 studies have definitively debunked the old myth linking soy to breast cancer. Instead, research shows soy consumption is associated with a *decreased* risk of certain cancers and improved heart health.\n",
            "\n",
            "**🧬 Nutrient Density**: When fortified (which most commercial brands are), soy milk provides comparable levels of calcium, vitamin D, and vitamin B12 to dairy milk.\n",
            "\n",
            "**♻️ The USDA Recognition**: The Dietary Guidelines for Americans specifically recognize soy milk as the only official dairy alternative due to its nutrient profile similarity to cow's milk.\n",
            "\n",
            "## But Wait – Your Personal Health Goals Matter\n",
            "\n",
            "While soy milk wins overall, your specific needs might point you toward different options:\n",
            "\n",
            "**For Maximum Protein**: **Pea milk** is actually equivalent to soy milk in protein content (8g per cup) and is allergen-friendly for those avoiding soy or nuts.\n",
            "\n",
            "**For Heart Health**: **Hemp milk** provides the best balance of omega-3 and omega-6 fatty acids, supporting cardiovascular function.\n",
            "\n",
            "**For Weight Management**: **Unsweetened almond milk** offers the lowest calorie count while providing vitamin E benefits.\n",
            "\n",
            "**For Fiber**: **Oat milk** contains beta-glucan fiber that helps lower cholesterol levels, though it's higher in carbohydrates.\n",
            "\n",
            "**For Allergies**: **Rice milk** is virtually hypoallergenic but should be used sparingly due to arsenic concerns.\n",
            "\n",
            "## The Shopping Checklist for Health-Conscious Plant Milk Buyers\n",
            "\n",
            "Next time you're standing in that overwhelming aisle, here's your foolproof strategy:\n",
            "\n",
            "✅ **Choose unsweetened varieties** – Save yourself 12-20g of added sugar per serving  \n",
            "✅ **Look for \"fortified with calcium, vitamin D, and B12\"** on the label  \n",
            "✅ **Check the protein content** – Aim for at least 6g per cup for real nutritional value  \n",
            "✅ **Read the ingredients** – Avoid carrageenan if you're sensitive to additives  \n",
            "✅ **Consider organic** – Reduces pesticide exposure, especially important for soy\n",
            "\n",
            "## The Bottom Line: Making It Work for You\n",
            "\n",
            "The healthiest vegan milk alternative is **unsweetened, fortified soy milk** – but the \"best\" choice ultimately depends on your individual health needs, taste preferences, and any allergies or dietary restrictions.\n",
            "\n",
            "Think of plant milks as you would any other food group: variety is beneficial, processing should be minimal, and your specific nutritional needs should guide your final choice. Whether you choose soy, pea, hemp, or oat milk, you're already making a positive step by moving away from dairy for digestive, ethical, or environmental reasons.\n",
            "\n",
            "The key is being an informed consumer who reads labels and understands what you're actually pouring into your morning coffee. In the end, the healthiest milk is the one you'll actually enjoy drinking – just make sure it's working as hard for your body as your taste buds.\n"
          ]
        }
      ],
      "source": [
        "if __name__ == \"__main__\":\n",
        "\n",
        "\tagent = DeepResearchAgent(\n",
        "\t\tmodel_name=MODEL_LARGE,\n",
        "\t\tsystem_message=DEEP_RESEARCH_AGENT_PROMPT.format(date=get_today_str()),\n",
        "\t\ttools=[clarification_tool, planning_tool, think_tool, exa_search]\n",
        "\t)\n",
        "\tstate = agent.run(user_prompt=\"What type of vegan milk alternative is the healthiest?\")\n",
        "\tprint(f\"Final response: {state.final_assistant_content}\")"
      ]
    },
    {
      "cell_type": "markdown",
      "metadata": {
        "id": "6_5IL_dXexSz"
      },
      "source": [
        "## Context engineering\n",
        "\n",
        "\n"
      ]
    },
    {
      "cell_type": "markdown",
      "metadata": {},
      "source": [
        "**Context rot**\n",
        "\n",
        "Context rot in LLMs is the degradation of relevance and accuracy in a model’s responses as its context window fills with outdated, redundant, or tangential information from the ongoing conversation. Even though we are seeing higher and higher context windows in the newer LLMs, the issue of context rot prevails.  \n",
        "\n",
        "There are a few techinqiues that help manage the context window: \n",
        "- **Compaction**: Summarizing and compressing conversation history to fit within the context window while preserving essential details for continuity.\n",
        "- **Structured note-taking**: Persistently storing key information outside the context window so the agent can recall and build upon it later.\n",
        "- **Sub-agent architectures**: Using specialized sub-agents for focused tasks that return concise summaries to a main coordinating agent, improving efficiency and clarity.\n",
        "\n",
        "In today's session we will crearte a simple compaction function for our agent. \n"
      ]
    },
    {
      "cell_type": "markdown",
      "metadata": {},
      "source": [
        "### Token counting \n",
        "\n",
        "To figure out if the conversation needs compacting we first need to a function to count the tokens.\n",
        "\n",
        "In this simple example we will use a quick estimation method by countin characters and assuming 4 character -> 1 token conversion. \n",
        "\n",
        "For a real token count you could use for example the tiktoken library. "
      ]
    },
    {
      "cell_type": "code",
      "execution_count": null,
      "metadata": {},
      "outputs": [],
      "source": [
        "def estimate_token_count(messages: List[Dict[str, Any]]) -> int:\n",
        "    \"\"\"\n",
        "    Estimate token count for messages using character-based heuristic.\n",
        "    \n",
        "    Args:\n",
        "        messages: List of message dictionaries\n",
        "    \n",
        "    Returns:\n",
        "        int: Estimated token count\n",
        "    \n",
        "    How it works:\n",
        "    - Converts messages to JSON string\n",
        "    - Uses 4 characters ≈ 1 token rule of thumb\n",
        "    - Adds 10% overhead for message formatting\n",
        "    \n",
        "    Accuracy: Usually within 10-15% of actual token count, which is \n",
        "    sufficient for context window management at 80% threshold.\n",
        "    \n",
        "    Example:\n",
        "        messages = [{\"role\": \"user\", \"content\": \"Hello world\"}]\n",
        "        estimate_token_count(messages)  # Returns ~8 tokens\n",
        "    \"\"\"\n",
        "    total_chars = 0\n",
        "    \n",
        "    for message in messages:\n",
        "        # Convert entire message to string and count characters\n",
        "        # This includes role, content, and any other fields\n",
        "        message_str = json.dumps(message)\n",
        "        total_chars += len(message_str)\n",
        "    \n",
        "    # Rough heuristic: 4 characters ≈ 1 token\n",
        "    base_estimate = total_chars / 4\n",
        "    \n",
        "    # Add 10% overhead for message formatting \n",
        "    # (things like <|start|>assistant, etc.)\n",
        "    with_overhead = base_estimate * 1.1\n",
        "    \n",
        "    return int(with_overhead)"
      ]
    },
    {
      "cell_type": "markdown",
      "metadata": {},
      "source": [
        "### Compaction tool"
      ]
    },
    {
      "cell_type": "markdown",
      "metadata": {},
      "source": [
        "There are two main ways to trigger compaction: \n",
        "1. As a set part of the pipline, every time the conversation goes above 80% -> compact \n",
        "2. Give the compaction function as the tool to agent, pass the token count into context and prompt the agent to keep track and call the compaction tool as needed. \n",
        "\n",
        "We have opted to set a deterministic function in this example. \n",
        "We have created a new `AgentState` where we track the max tokens, estimated tokens already used and the threshold at which we want the compaction to be triggered. \n",
        "\n",
        "The most important function to pay attentio to is `compact_conversation` in this function we defined our strategy on how we will summarize the message history. \n",
        "Strategy:\n",
        "1. Keep the system message (always needed)\n",
        "2. Keep the user request (relevant context and request)\n",
        "3. Summarize everything after\n",
        "\n",
        "The summarization happens with an LLM call, to find out the exact instructions review the system prompt. "
      ]
    },
    {
      "cell_type": "code",
      "execution_count": null,
      "metadata": {},
      "outputs": [],
      "source": [
        "from pydantic import PrivateAttr, BaseModel\n",
        "\n",
        "class AgentStateCompaction(BaseModel):\n",
        "    \"\"\"Enhanced AgentState with context window management and compaction tracking.\"\"\"\n",
        "    messages: List[Dict[str, Any]] = Field(default_factory=list)\n",
        "    step: int = Field(default=0)\n",
        "    final_assistant_content: str | None = None\n",
        "    \n",
        "    # the above 3 are the same as in the AgentState class, we could have inherited from it but we are using BaseModel to make it easier to understand\n",
        "    max_tokens: int = Field(default=5000)\n",
        "    compaction_count: int = Field(default=0)\n",
        "    compact_model_name: str = Field(default=MODEL_LARGE)\n",
        "    _estimated_tokens: int = PrivateAttr(default=0)\n",
        "    _threshold: float = PrivateAttr(default=0.8)\n",
        "\n",
        "    def model_post_init(self, __context: Any) -> None:\n",
        "        self._estimated_tokens = estimate_token_count(self.messages)\n",
        "        tokens_before = self._estimated_tokens\n",
        "\n",
        "        print(f\"Utilization percentage: {self.utilization_percentage()}%\")\n",
        "\n",
        "        if self._estimated_tokens > (self.max_tokens*self._threshold):\n",
        "            print(\"Compacting conversation...\")\n",
        "            self.messages = self.compact_conversation()\n",
        "\n",
        "            self._estimated_tokens = estimate_token_count(self.messages)\n",
        "            \n",
        "            # Calculate token savings\n",
        "            tokens_after = estimate_token_count(self.messages)\n",
        "            tokens_saved = tokens_before - tokens_after\n",
        "            print(f\"   ✓ Saved {tokens_saved:,} tokens ({tokens_before:,} → {tokens_after:,})\")\n",
        "            print(f\"Utilization percentage: {self.utilization_percentage()}%\")\n",
        "\n",
        "\n",
        "    def utilization_percentage(self) -> float: \n",
        "        \"\"\"\n",
        "        Calculate how much of the context window is being used.\n",
        "\n",
        "        Returns: \n",
        "            float: Percentage from 0-100\n",
        "        \"\"\"\n",
        "        if self.max_tokens == 0:\n",
        "            return 0.0\n",
        "        return (self._estimated_tokens / self.max_tokens) * 100\n",
        "    \n",
        "    \n",
        "    @weave.op(name=\"compact\")\n",
        "    def compact_conversation(self) -> list[Dict[str, Any]]:\n",
        "        \"\"\"\n",
        "        Compact the conversation by summarizing older messages.\n",
        "        \"\"\"\n",
        "        messages = self.messages\n",
        "        \n",
        "        # Preserve: system message (index 0), first message with instructions (index 1)\n",
        "        system_msg = messages[0]\n",
        "        request_msg = messages[1]\n",
        "        \n",
        "        # Create a prompt asking for a concise summary\n",
        "        summary_messages =[ \n",
        "        {   \"role\": \"system\",\n",
        "            \"content\": \"\"\"You are compacting a deep research agent's conversation history. \n",
        "            Summarize this research conversation history concisely. \n",
        "            Preserve:\n",
        "            - Key findings from web searches (with source URLs if mentioned)\n",
        "            - Important facts, data points, and statistics\n",
        "            - Research decisions and reasoning\n",
        "            - Any identified gaps or areas needing more investigation\"\"\"},\n",
        "        {   \"role\": \"user\",\n",
        "            \"content\": f\"\"\"\n",
        "            Conversation to summarize:\n",
        "            {json.dumps(messages[1:], indent=2)}\n",
        "            Provide a structured, concise summary.\"\"\"\n",
        "        }\n",
        "        ]\n",
        "        \n",
        "        # Call the model to generate the summary\n",
        "        summary_response = call_model(\n",
        "            model_name=self.compact_model_name,\n",
        "            messages=summary_messages\n",
        "        )\n",
        "        \n",
        "        # Create the compacted message that replaces the old messages\n",
        "        summary_msg = {\n",
        "            \"role\": \"assistant\",\n",
        "            \"content\": f\"# RESEARCH CONTEXT: \\n\\n{summary_response.content}\"\n",
        "        }\n",
        "        \n",
        "        # Build new message history: system + summary + recent messages\n",
        "        new_messages = [system_msg, request_msg, summary_msg] \n",
        "\n",
        "        \n",
        "        # Return a new compacted message history\n",
        "        return new_messages\n"
      ]
    },
    {
      "cell_type": "markdown",
      "metadata": {},
      "source": [
        "### Example 1: Dummy cooking assistant \n",
        "This is a dummy example of a set history of messages that will try compaction function."
      ]
    },
    {
      "cell_type": "code",
      "execution_count": null,
      "metadata": {},
      "outputs": [],
      "source": [
        "messages = [\n",
        "    {\"role\": \"system\", \"content\": \"You are a helpful cooking assistant.\"},\n",
        "    {\"role\": \"user\", \"content\": \"how to prepare vegan carbonara ?\"},\n",
        "    {\"role\": \"assistant\", \"content\": \"\"\"Here’s how to make a **delicious vegan carbonara** — creamy, smoky, and comforting without any animal products.\n",
        "\n",
        "---\n",
        "\n",
        "### 🧂 Ingredients (2–3 servings)\n",
        "\n",
        "#### Sauce:\n",
        "\n",
        "* 150 g silken tofu *(or 1 cup unsweetened soy or oat cream)*\n",
        "* 2 tbsp nutritional yeast\n",
        "* 1 tsp Dijon mustard\n",
        "* 1 tbsp olive oil or vegan butter\n",
        "* 1/4 tsp black salt (Kala Namak) — gives an eggy flavor\n",
        "* 1/4 tsp turmeric *(optional, for color)*\n",
        "* 1 tsp miso paste *(optional, for depth)*\n",
        "* 2 tbsp plant milk (soy, oat, or almond)\n",
        "* Freshly ground black pepper\n",
        "\n",
        "#### “Bacon”:\n",
        "\n",
        "Choose one:\n",
        "\n",
        "* 100 g smoked tempeh, tofu, or seitan strips\n",
        "* or 4–5 chopped mushrooms (portobello or king oyster work well)\n",
        "\n",
        "For flavoring:\n",
        "\n",
        "* 1 tbsp soy sauce or tamari\n",
        "* 1/2 tsp liquid smoke *(or smoked paprika)*\n",
        "* 1 tsp maple syrup\n",
        "\n",
        "#### Pasta:\n",
        "\n",
        "* 250 g spaghetti or tagliatelle\n",
        "* Salt for pasta water\n",
        "\n",
        "---\n",
        "\n",
        "### 👩‍🍳 Instructions\n",
        "\n",
        "1. **Cook the pasta**\n",
        "\n",
        "   * Bring a large pot of salted water to a boil.\n",
        "   * Cook pasta according to package directions until *al dente*.\n",
        "   * Reserve about 1/2 cup of pasta water before draining.\n",
        "\n",
        "2. **Make the “bacon”**\n",
        "\n",
        "   * In a pan, heat a little oil.\n",
        "   * Add your tempeh/tofu/mushrooms and fry until golden.\n",
        "   * Add soy sauce, liquid smoke, and maple syrup.\n",
        "   * Cook for another minute until caramelized and smoky. Set aside.\n",
        "\n",
        "3. **Prepare the sauce**\n",
        "\n",
        "   * Blend all sauce ingredients until smooth and creamy.\n",
        "   * Taste and adjust: add more salt or black salt if you like it more “eggy”.\n",
        "\n",
        "4. **Combine**\n",
        "\n",
        "   * In the same pan, pour the sauce and a splash of pasta water.\n",
        "   * Stir gently over medium heat until thickened (1–2 min).\n",
        "   * Add cooked pasta and “bacon”, tossing to coat evenly.\n",
        "   * Add more pasta water if the sauce gets too thick.\n",
        "\n",
        "5. **Serve**\n",
        "\n",
        "   * Top with freshly ground black pepper, a sprinkle of nutritional yeast, and chopped parsley if desired.\n",
        "\n",
        "---\n",
        "\n",
        "### 🍽️ Tips & Variations\n",
        "\n",
        "* **For extra creaminess**: Blend in 1–2 tbsp cashews (soaked for 15 min in hot water).\n",
        "* **For richness**: Add a touch of vegan parmesan or truffle oil before serving.\n",
        "* **For gluten-free**: Use gluten-free pasta and tamari instead of soy sauce.\n",
        "\n",
        "---\n",
        "\n",
        "Would you like me to tailor it to a specific style — e.g., *Italian authentic*, *high-protein*, or *quick 15-minute version*?\"\"\"\n",
        "}\n",
        "    ]\n",
        "\n",
        "state = AgentStateCompaction(messages=messages, max_tokens=600)\n",
        "\n"
      ]
    },
    {
      "cell_type": "code",
      "execution_count": null,
      "metadata": {},
      "outputs": [],
      "source": [
        "print(state.messages[-1][\"content\"])"
      ]
    },
    {
      "cell_type": "markdown",
      "metadata": {},
      "source": [
        "### Example 2: DeepResearch agent\n",
        "\n",
        "This is exact copy of our DeepResearch agent from above, with only changes being the AgentState changed for our new AgentStateCompaction. \n",
        "Now you can run it and see the compaction happening in a real use case."
      ]
    },
    {
      "cell_type": "code",
      "execution_count": null,
      "metadata": {},
      "outputs": [],
      "source": [
        "class SimpleAgent:\n",
        "    \"\"\"A simple agent class with tracing, state, and tool processing.\"\"\"\n",
        "    def __init__(self, model_name: str, system_message: str, tools: List[Callable]):\n",
        "        self.model_name = model_name\n",
        "        self.system_message = system_message\n",
        "        self.tools = [function_tool(t) for t in tools] # add schemas to the tools\n",
        "    \n",
        "    @weave.op(name=\"SimpleAgent.step\") # Trace each step\n",
        "    def step(self, state: AgentStateCompaction) -> AgentStateCompaction:\n",
        "        step = state.step + 1\n",
        "        messages = state.messages\n",
        "        final_assistant_content = None\n",
        "        try:\n",
        "            # call model with tools\n",
        "            response = call_model(\n",
        "                model_name=self.model_name, \n",
        "                messages=messages, \n",
        "                tools=[t.tool_schema for t in self.tools])\n",
        "\n",
        "            # add the response to the messages\n",
        "            messages.append(response.model_dump())\n",
        "\n",
        "            # if the LLM requested tool calls, perform them\n",
        "            if response.tool_calls:\n",
        "                # perform the tool calls\n",
        "                tool_outputs = perform_tool_calls(tools=self.tools, tool_calls=response.tool_calls)\n",
        "                messages.extend(tool_outputs)\n",
        "\n",
        "            # LLM gave content response\n",
        "            else:\n",
        "                final_assistant_content = response.content\n",
        "        except Exception as e:\n",
        "            # Add an error message to history to indicate failure\n",
        "            messages.append({\"role\": \"assistant\", \"content\": f\"Agent error in step: {str(e)}\"})\n",
        "            final_assistant_content = f\"Agent error in step {step}: {str(e)}\"\n",
        "        return AgentStateCompaction(messages=messages, step=step, final_assistant_content=final_assistant_content, max_tokens=10000)\n",
        "\n",
        "    @weave.op(name=\"SimpleAgent.run\")\n",
        "    def run(self, user_prompt: str, max_turns: int = 10) -> AgentStateCompaction:\n",
        "        state = AgentStateCompaction(messages=[\n",
        "            {\"role\": \"system\", \"content\": self.system_message},\n",
        "            {\"role\": \"user\", \"content\": user_prompt}])\n",
        "        for _ in range(max_turns):\n",
        "            state = self.step(state)\n",
        "            if state.final_assistant_content:\n",
        "                return state\n",
        "        return state\n"
      ]
    },
    {
      "cell_type": "code",
      "execution_count": null,
      "metadata": {},
      "outputs": [],
      "source": [
        "agent = SimpleAgent(\n",
        "    model_name=MODEL_SMALL_CONTEXT,\n",
        "    system_message=DEEP_RESEARCH_AGENT_PROMPT.format(date=get_today_str()),\n",
        "    tools=[clarification_tool, planning_tool, think_tool, exa_search]\n",
        ")\n",
        "\n",
        "#state = AgentStateCompaction(messages=messages)\n",
        "state = agent.run(\n",
        "    user_prompt=\"Trace the evolution from Java Servlets to the Spring Boot framework. Explain the problems each iteration aimed to solve, and detail the core functionalities of the Spring framework along with essential knowledge required for developers working with it.\",\n",
        "    max_turns=15  # Long enough to potentially trigger compaction\n",
        ")\n",
        "\n",
        "print(f\"\\n{'='*80}\")\n",
        "print(f\"FINAL RESPONSE:\")\n",
        "print(f\"{'='*80}\")\n",
        "print(state.final_assistant_content)\n",
        "print(f\"\\n{'='*80}\")\n",
        "print(f\"STATISTICS:\")\n",
        "print(f\"{'='*80}\")\n",
        "print(f\"Final compaction count: {state.compaction_count}\")"
      ]
    },
    {
      "cell_type": "markdown",
      "metadata": {},
      "source": [
        "## Evals \n",
        "\n",
        "An important part of creating any LLM powered application is evaluation. \n",
        "\n",
        "You have run evaluation on the SimpleAgent Thomas has introduced at the beginning of the session using the [deep_research_bench](https://github.com/Ayanami0730/deep_research_bench). Here are the results we got as a benchmark: \n",
        "- comprehensivness: 0.29 \n",
        "- insight: 0.27\n",
        "- instruction_following: 0.32\n",
        "- overall: 0.29 \n",
        "\n",
        "Now we will re-run the same eval on our new DeepResearchAgent and see if we have made any improvements! \n",
        "In our testing we found the metrics improved to: \n",
        "- comprehensivness: 0.39 \n",
        "- insight: 0.37\n",
        "- instruction_following: 0.44\n",
        "- overall: 0.40"
      ]
    },
    {
      "cell_type": "code",
      "execution_count": null,
      "metadata": {},
      "outputs": [],
      "source": [
        "import sys\n",
        "from functools import partial\n",
        "from pathlib import Path\n",
        "\n",
        "# Add project root to Python path\n",
        "project_root = Path.cwd().parent\n",
        "if str(project_root) not in sys.path:\n",
        "    sys.path.insert(0, str(project_root))"
      ]
    },
    {
      "cell_type": "code",
      "execution_count": null,
      "metadata": {},
      "outputs": [],
      "source": [
        "from deep_research_bot.evaluation.eval import run_evaluation\n",
        "from deep_research_bot.evaluation.eval_config import EvalConfig\n",
        "\n",
        "agent = DeepResearchAgent(\n",
        "\t\tmodel_name=MODEL_LARGE,\n",
        "\t\tsystem_message=DEEP_RESEARCH_AGENT_PROMPT.format(date=get_today_str()),\n",
        "\t\ttools=[planning_tool, think_tool, exa_search]\n",
        "        #tools=[exa_search]\n",
        "\t)\n",
        "\n",
        "MAX_TURNS = 10\n",
        "\n",
        "eval_config = EvalConfig(\n",
        "    evaluation_name=f\"DeepResearchAgent_max-turns-{MAX_TURNS}_{agent.model_name.split('/')[-1]}\",\n",
        "    trials=2,\n",
        "    limit=20,\n",
        "    judge_model=\"gpt-4.1-2025-04-14\",\n",
        "    weave_parallelism=4,\n",
        "    queries=project_root / \"data/prompt_data/query.jsonl\",\n",
        "    reference=project_root / \"data/test_data/cleaned_data/reference.jsonl\",\n",
        "    criteria=project_root / \"data/criteria_data/criteria.jsonl\",\n",
        ")\n",
        "\n",
        "results = await run_evaluation(\n",
        "    eval_config=eval_config,\n",
        "    agent_callable=partial(agent.run, max_turns=MAX_TURNS),  # <- partial to limit the number of agent turns\n",
        ")\n",
        "results"
      ]
    }
  ],
  "metadata": {
    "colab": {
      "provenance": []
    },
    "kernelspec": {
      "display_name": ".venv",
      "language": "python",
      "name": "python3"
    },
    "language_info": {
      "codemirror_mode": {
        "name": "ipython",
        "version": 3
      },
      "file_extension": ".py",
      "mimetype": "text/x-python",
      "name": "python",
      "nbconvert_exporter": "python",
      "pygments_lexer": "ipython3",
      "version": "3.12.7"
    },
    "widgets": {
      "application/vnd.jupyter.widget-state+json": {
        "2979e24129fb43f2b26af01503c7dadb": {
          "model_module": "@jupyter-widgets/base",
          "model_module_version": "1.2.0",
          "model_name": "LayoutModel",
          "state": {
            "_model_module": "@jupyter-widgets/base",
            "_model_module_version": "1.2.0",
            "_model_name": "LayoutModel",
            "_view_count": null,
            "_view_module": "@jupyter-widgets/base",
            "_view_module_version": "1.2.0",
            "_view_name": "LayoutView",
            "align_content": null,
            "align_items": null,
            "align_self": null,
            "border": null,
            "bottom": null,
            "display": null,
            "flex": null,
            "flex_flow": null,
            "grid_area": null,
            "grid_auto_columns": null,
            "grid_auto_flow": null,
            "grid_auto_rows": null,
            "grid_column": null,
            "grid_gap": null,
            "grid_row": null,
            "grid_template_areas": null,
            "grid_template_columns": null,
            "grid_template_rows": null,
            "height": null,
            "justify_content": null,
            "justify_items": null,
            "left": null,
            "margin": null,
            "max_height": null,
            "max_width": null,
            "min_height": null,
            "min_width": null,
            "object_fit": null,
            "object_position": null,
            "order": null,
            "overflow": null,
            "overflow_x": null,
            "overflow_y": null,
            "padding": null,
            "right": null,
            "top": null,
            "visibility": null,
            "width": null
          }
        },
        "8e94c428730841c3bdaeaf82eb73381b": {
          "model_module": "@jupyter-widgets/output",
          "model_module_version": "1.0.0",
          "model_name": "OutputModel",
          "state": {
            "_dom_classes": [],
            "_model_module": "@jupyter-widgets/output",
            "_model_module_version": "1.0.0",
            "_model_name": "OutputModel",
            "_view_count": null,
            "_view_module": "@jupyter-widgets/output",
            "_view_module_version": "1.0.0",
            "_view_name": "OutputView",
            "layout": "IPY_MODEL_2979e24129fb43f2b26af01503c7dadb",
            "msg_id": "",
            "outputs": [
              {
                "data": {
                  "text/html": "<pre style=\"white-space:pre;overflow-x:auto;line-height:normal;font-family:Menlo,'DejaVu Sans Mono',consolas,'Courier New',monospace\"></pre>\n",
                  "text/plain": ""
                },
                "metadata": {},
                "output_type": "display_data"
              }
            ]
          }
        }
      }
    }
  },
  "nbformat": 4,
  "nbformat_minor": 0
}
