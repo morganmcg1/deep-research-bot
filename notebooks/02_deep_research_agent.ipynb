{
  "cells": [
    {
      "cell_type": "markdown",
      "metadata": {
        "id": "lc7GKwVJ23R6"
      },
      "source": [
        "# Building a Deep Research Agent \n",
        "\n",
        "<!--- @wandbcode{fc-london-workshop-2025} -->\n",
        "\n",
        "This script will walk you through building on top of our simple tool calling agent to evolve it to a full Deep Research Agent. \n",
        "We will cover: \n",
        "1. Prompting strategies \n",
        "2. Multi-tool agents designg\n",
        "3. Compacting conversations \n",
        "\n",
        "Docs: \n",
        "Weights & Biases Inference [docs](https://docs.wandb.ai/guides/inference/)"
      ]
    },
    {
      "cell_type": "markdown",
      "metadata": {
        "id": "g1huUI69O3bx"
      },
      "source": [
        "## Imports + API keys\n",
        "\n",
        "Our Deep Research Agent will actually still only use 2 services: \n",
        "1. W&B for inference and tracking \n",
        "2. Exa for web search "
      ]
    },
    {
      "cell_type": "code",
      "execution_count": null,
      "metadata": {
        "colab": {
          "base_uri": "https://localhost:8080/"
        },
        "collapsed": true,
        "id": "9hK_PEje-0S-",
        "outputId": "62505f66-0072-40e2-e24e-601778a14d60"
      },
      "outputs": [],
      "source": [
        "#if you are running this on colab, uncomment the following line and run it\n",
        "#!uv pip install exa-py weave openai"
      ]
    },
    {
      "cell_type": "code",
      "execution_count": 27,
      "metadata": {},
      "outputs": [],
      "source": [
        "# auto reload and reload ext\n",
        "%load_ext autoreload\n",
        "%autoreload 2"
      ]
    },
    {
      "cell_type": "code",
      "execution_count": 28,
      "metadata": {
        "id": "BEiKMVKS8slD"
      },
      "outputs": [],
      "source": [
        "# Global Configuration & Setup\n",
        "import json\n",
        "import os\n",
        "import weave\n",
        "import openai\n",
        "from pydantic import BaseModel, Field\n",
        "from typing import Any, Callable, Dict, List\n",
        "from exa_py import Exa\n",
        "from datetime import datetime\n"
      ]
    },
    {
      "cell_type": "code",
      "execution_count": 29,
      "metadata": {
        "id": "Hslss_PdY992"
      },
      "outputs": [],
      "source": [
        "#if you are running this on colab, uncomment the following lines and run it\n",
        "#from google.colab import userdata\n",
        "#EXA_API_KEY=userdata.get('EXA_API_KEY')\n",
        "#OPENAI_API_KEY=userdata.get('OPENAI_API_KEY')\n",
        "#WANDB_API_KEY=userdata.get('WANDB_API_KEY')\n",
        "\n",
        "# if you use .env file, uncomment the following lines and run it\n",
        "from dotenv import load_dotenv\n",
        "load_dotenv()\n",
        "EXA_API_KEY=os.getenv('EXA_API_KEY')\n",
        "OPENAI_API_KEY=os.getenv('OPENAI_API_KEY')\n",
        "WANDB_API_KEY=os.getenv('WANDB_API_KEY')\n"
      ]
    },
    {
      "cell_type": "code",
      "execution_count": 30,
      "metadata": {
        "id": "29IL8eNR73wn"
      },
      "outputs": [
        {
          "data": {
            "text/html": [
              "<pre style=\"white-space:pre;overflow-x:auto;line-height:normal;font-family:Menlo,'DejaVu Sans Mono',consolas,'Courier New',monospace\">/Users/agatam/deep-research-bot/.venv/lib/python3.12/site-packages/rich/live.py:256: UserWarning: install \n",
              "\"ipywidgets\" for Jupyter support\n",
              "  warnings.warn('install \"ipywidgets\" for Jupyter support')\n",
              "</pre>\n"
            ],
            "text/plain": [
              "/Users/agatam/deep-research-bot/.venv/lib/python3.12/site-packages/rich/live.py:256: UserWarning: install \n",
              "\"ipywidgets\" for Jupyter support\n",
              "  warnings.warn('install \"ipywidgets\" for Jupyter support')\n"
            ]
          },
          "metadata": {},
          "output_type": "display_data"
        },
        {
          "data": {
            "text/html": [
              "<pre style=\"white-space:pre;overflow-x:auto;line-height:normal;font-family:Menlo,'DejaVu Sans Mono',consolas,'Courier New',monospace\"></pre>\n"
            ],
            "text/plain": []
          },
          "metadata": {},
          "output_type": "display_data"
        },
        {
          "name": "stderr",
          "output_type": "stream",
          "text": [
            "\u001b[36m\u001b[1mweave\u001b[0m: retry_attempt\n",
            "\u001b[36m\u001b[1mweave\u001b[0m: Logged in as Weights & Biases user: agatamlyn.\n",
            "\u001b[36m\u001b[1mweave\u001b[0m: View Weave data at https://wandb.ai/wandb-applied-ai-team/london-workshop-2025/weave\n"
          ]
        },
        {
          "data": {
            "text/plain": [
              "<weave.trace.weave_client.WeaveClient at 0x10dbfb4a0>"
            ]
          },
          "execution_count": 30,
          "metadata": {},
          "output_type": "execute_result"
        },
        {
          "name": "stderr",
          "output_type": "stream",
          "text": [
            "\u001b[36m\u001b[1mweave\u001b[0m: retry_attempt\n",
            "\u001b[36m\u001b[1mweave\u001b[0m: retry_attempt\n"
          ]
        }
      ],
      "source": [
        "MODEL_SMALL = \"Qwen/Qwen3-235B-A22B-Instruct-2507\"\n",
        "MODEL_MEDIUM = \"zai-org/GLM-4.5\"\n",
        "MODEL_LARGE = \"moonshotai/Kimi-K2-Instruct\"\n",
        "MODEL_SMALL_CONTEXT = \"OpenPipe/Qwen3-14B-Instruct\"\n",
        "\n",
        "WANDB_ENTITY = \"wandb-applied-ai-team\"\n",
        "WANDB_PROJECT = \"london-workshop-2025\"\n",
        "\n",
        "oai_client = openai.OpenAI(\n",
        "    base_url='https://api.inference.wandb.ai/v1',\n",
        "    api_key=os.getenv(\"WANDB_API_KEY\"),\n",
        "    project=f\"{WANDB_ENTITY}/{WANDB_PROJECT}\")\n",
        "\n",
        "exa_client = Exa(api_key=os.getenv(\"EXA_API_KEY\"))\n",
        "\n",
        "weave.init(\"wandb-applied-ai-team/london-workshop-2025\")"
      ]
    },
    {
      "cell_type": "markdown",
      "metadata": {
        "id": "DcFtYhvCO9Bw"
      },
      "source": [
        "## Helper functions"
      ]
    },
    {
      "cell_type": "code",
      "execution_count": null,
      "metadata": {},
      "outputs": [],
      "source": [
        "#these are the same functions we have covered in the notebook 01_simple_tool_calling_agent.ipynb so lets just import them here\n",
        "from deep_research_bot.utils import function_tool, perform_tool_calls\n",
        "\n",
        "#this is the same call_model function from notebook 01_simple_tool_calling_agent.ipynb\n",
        "@weave.op\n",
        "def call_model(model_name: str, messages: List[Dict[str, Any]], **kwargs) -> str:\n",
        "    \"Call a model with the given messages and kwargs.\"\n",
        "    response = oai_client.chat.completions.create(\n",
        "        model=model_name,\n",
        "        messages=messages,\n",
        "        **kwargs\n",
        "    )\n",
        "\n",
        "    return response.choices[0].message\n",
        "\n",
        "# simple function to get the current date which can help the agent ground the research in the current time\n",
        "def get_today_str() -> str:\n",
        "    \"\"\"Get current date in a human-readable format.\"\"\"\n",
        "    return datetime.now().strftime(\"%a %b %-d, %Y\")"
      ]
    },
    {
      "cell_type": "markdown",
      "metadata": {
        "id": "nH2oK-UlTaOp"
      },
      "source": [
        "## Prompts"
      ]
    },
    {
      "cell_type": "code",
      "execution_count": 108,
      "metadata": {
        "id": "Pr67sUm2TZmk"
      },
      "outputs": [],
      "source": [
        "DEEP_RESEARCH_AGENT_PROMPT = \"\"\"\n",
        "  You are a research assistant conducting research on the user's input topic. For context, today's date is {date}.                                                                                                        │\n",
        "\n",
        "  <Task>\n",
        "  Your job is to use tools to gather information about the user's input topic and write a blog post style answer.\n",
        "  You can use any of the tools provided to you to find resources that can help answer the research question.\n",
        "  You can call these tools in series or in parallel, your research is conducted in a tool-calling loop.\n",
        "  Your response should be a thorough answer to the user's question, citing sources and reasoning, providing an overview of the facts or any gaps in the subject.\n",
        "  </Task>\n",
        "\n",
        "  <Available Tools>\n",
        "  You have access to the following tools:\n",
        "  1. **clarification_tool**: For asking user clarifying questions if needed. If you have clarifying questions start with this.\n",
        "  2. **planning_tool**: For planning the research.\n",
        "  2. **exa_search**: For conducting web searches to gather information\n",
        "  2. **think_tool**: For reflection and strategic planning during research\n",
        "\n",
        "  **CRITICAL: Use think_tool after each search to reflect on results and plan next steps**\n",
        "  </Available Tools>\n",
        "\n",
        "  <Instructions>\n",
        "  Think like a human researcher with limited time. Follow these steps:\n",
        "  1. **Read the question carefully** - What specific information does the user need?\n",
        "  2. **Start with broader searches** - Use broad, comprehensive queries first\n",
        "  3. **After each search, pause and assess** - Do I have enough to answer? What's still missing?\n",
        "  4. **Execute narrower searches as you gather information** - Fill in the gaps\n",
        "  5. **Stop when you can answer confidently** - Don't keep searching for perfection\n",
        "  6. **Provide an answer** - At the end, always provide the answer from your research.\n",
        "  7. **Write a blog post style answer** - Write a blog post style answer that is indepth, well structured,easy to understand and engaging.\n",
        "  </Instructions>\n",
        "\n",
        "  **Stop Immediately When**:\n",
        "  - You can answer the user's question comprehensively\n",
        "  - You have 3+ relevant examples/sources for the question\n",
        "  - Your last 2 searches returned similar information\n",
        "  </Hard Limits>\n",
        "\n",
        "  <Show Your Thinking>\n",
        "  After each search tool call, use think_tool to analyze the results:\n",
        "  - What key information did I find?\n",
        "  - What's missing?\n",
        "  - Do I have enough to answer the question comprehensively?\n",
        "  - Should I search more or provide my answer?\n",
        "  </Show Your Thinking>\n",
        "\"\"\""
      ]
    },
    {
      "cell_type": "markdown",
      "metadata": {
        "id": "m9fR1uLAPQER"
      },
      "source": [
        "## Tools\n",
        "\n",
        "Thomas already introduced our first tool the `exa_search` tool so we will import it from our `tools.py` instead of redefining it. "
      ]
    },
    {
      "cell_type": "code",
      "execution_count": null,
      "metadata": {},
      "outputs": [],
      "source": [
        "# import the exa_search tool Thomas introduced in the previous notebook 01_simple_tool_calling_agent.ipynb\n",
        "from deep_research_bot.tools import exa_search_and_refine\n",
        "exa_search = exa_search_and_refine"
      ]
    },
    {
      "cell_type": "markdown",
      "metadata": {},
      "source": [
        "Next we will add 3 new tools to upgrade this agent from a simple search agent to a deep research one. "
      ]
    },
    {
      "cell_type": "markdown",
      "metadata": {},
      "source": [
        "### Clarification tool\n",
        "If you have used another deep research service, like ChatGPT Deep Research, you will be failiar with the first step which is the claryfication questions. Users oftentime submit a one sentance request which often lacks the necessary information to provide them a deep answer that will really answer what they were looking for. \n",
        "\n",
        "In the case of ChatGPT, these questions are mandatory and happen every time you create a new Deep Research request, in our case we actually give the agent the choice to call the tool if it thinks it needs more information to get started. "
      ]
    },
    {
      "cell_type": "code",
      "execution_count": 34,
      "metadata": {},
      "outputs": [],
      "source": [
        "@weave.op\n",
        "@function_tool\n",
        "def clarification_tool(clarifying_questions: str) -> str:\n",
        "  \"\"\"Use this tool to ask clarifying questions to the user.\n",
        "  \n",
        "  IMPORTANT: If you can see in the messages history that you have already asked a clarifying question, you almost always do not need to ask another one. Only ask another question if ABSOLUTELY NECESSARY.\n",
        "\n",
        "  If there are acronyms, abbreviations, or unknown terms, ask the user to clarify.\n",
        "  If you need to ask a question, follow these guidelines:\n",
        "  - Be concise while gathering all necessary information.\n",
        "  - Only ask max 3 questions.\n",
        "  - Make sure to gather all the information needed to carry out the research task in a concise, well-structured manner.\n",
        "  - Use bullet points or numbered lists if appropriate for clarity. Make sure that this uses markdown formatting and will be rendered correctly if the string output is passed to a markdown renderer.\n",
        "  - Don't ask for unnecessary information, or information that the user has already provided. If you can see that the user has already provided the information, do not ask for it again.\n",
        "\n",
        "  This tool will return the user clarifications.\n",
        "  Args: \n",
        "    clarifying_questions: Your questions to the user as a single string. Be concise while gathering all necessary information. Only ask max 3 questions. Use bullet points or numbered lists if appropriate for clarity with markdown formatting. Don't ask for unnecessary information, or information that the user has already provided. If there are acronyms, abbreviations, or unknown terms, ask the user to clarify. This tool will return the user clarifications.\n",
        "  \"\"\"\n",
        "  output = input(clarifying_questions)\n",
        "  return output\n"
      ]
    },
    {
      "cell_type": "markdown",
      "metadata": {},
      "source": [
        "This tool will be skipped in evaluation as the benchmark we are using does not accomodate agents asking follow up questions. This is an example where evaluating with generic benchmarks does not fit every use case. "
      ]
    },
    {
      "cell_type": "markdown",
      "metadata": {},
      "source": [
        "### Planning tool\n",
        "Another tool we will make available for the agent is the planning tool. The agent should use this tool to analyze the users query and break it down into subqueries.\n",
        "\n",
        "Again we are giving the agent the freedom to use the tool if necessary, however we prompt it and assume it will use the tool. \n",
        "\n",
        "#TODO explain why we are not returning anything in this function and how it works"
      ]
    },
    {
      "cell_type": "code",
      "execution_count": 35,
      "metadata": {
        "id": "58zgUvgb9Qb0"
      },
      "outputs": [],
      "source": [
        "@weave.op\n",
        "@function_tool\n",
        "def planning_tool(plan: str) -> str:\n",
        "  \"\"\"Tool for planning the research.\n",
        "\n",
        "  If there are no clarifying questions, use this tool as the first step of the research.\n",
        "\n",
        "  Args:\n",
        "    plan: A comprehensive research plan as a single string. Include: (1) Short analysis of user request, (2) Sub-queries broken down from the user's request (e.g., for 'what are 3 heaviest pokemons and their weight combined' -> subqueries: 'what are 3 heaviest pokemons', 'pokemon1 weight', 'pokemon2 weight', 'pokemon3 weight'), and (3) Research approach. Format this as structured text within the parameter.\n",
        "  \"\"\""
      ]
    },
    {
      "cell_type": "code",
      "execution_count": 36,
      "metadata": {},
      "outputs": [],
      "source": [
        "#TODO create a dummy short LLM with the planning tool call to show how it works "
      ]
    },
    {
      "cell_type": "markdown",
      "metadata": {},
      "source": [
        "### Think tool \n",
        "The agent should call this tool after each search. This tool will allow the agent to think about the current finidings, identify gaps in the research and decide if further research is neccessary. \n",
        "This tool should prevent agent running in loops, researching until it hits the max steps."
      ]
    },
    {
      "cell_type": "code",
      "execution_count": 37,
      "metadata": {
        "id": "la2QI_1VPzCG"
      },
      "outputs": [],
      "source": [
        "@weave.op\n",
        "@function_tool\n",
        "def think_tool(reflection: str) -> str:\n",
        "    \"\"\"Tool for strategic reflection on research progress and decision-making.\n",
        "\n",
        "    Use this tool after each search to analyze results and plan next steps systematically.\n",
        "    This creates a deliberate pause in the research workflow for quality decision-making.\n",
        "\n",
        "    When to use:\n",
        "    - After receiving search results: What key information did I find?\n",
        "    - Before deciding next steps: Do I have enough to answer comprehensively?\n",
        "    - When assessing research gaps: What specific information am I still missing?\n",
        "    - Before concluding research: Can I provide a complete answer now?\n",
        "\n",
        "    Reflection should address:\n",
        "    1. Analysis of current findings - What concrete information have I gathered?\n",
        "    2. Gap assessment - What crucial information is still missing?\n",
        "    3. Quality evaluation - Do I have sufficient evidence/examples for a good answer?\n",
        "    4. Strategic decision - Should I continue searching or provide my answer?\n",
        "\n",
        "    Args:\n",
        "        reflection: Your detailed reflection as a single string addressing: (1) Analysis of current findings - What concrete information have I gathered? (2) Gap assessment - What crucial information is still missing? (3) Quality evaluation - Do I have sufficient evidence/examples for a good answer? (4) Strategic decision - Should I continue searching or provide my answer? Use after receiving search results, before deciding next steps, when assessing research gaps, or before concluding research.\n",
        "    \"\"\""
      ]
    },
    {
      "cell_type": "code",
      "execution_count": 38,
      "metadata": {
        "id": "Hk8FWy25KxqV"
      },
      "outputs": [],
      "source": [
        "ToolCall = [clarification_tool, planning_tool, exa_search, think_tool]"
      ]
    },
    {
      "cell_type": "markdown",
      "metadata": {
        "id": "Si6BmYXWPs4d"
      },
      "source": [
        "## Agent"
      ]
    },
    {
      "cell_type": "code",
      "execution_count": null,
      "metadata": {},
      "outputs": [],
      "source": [
        "#we have already covered and created the AgentState class in the previous notebook so lets import it \n",
        "from deep_research_bot.utils import AgentState "
      ]
    },
    {
      "cell_type": "code",
      "execution_count": null,
      "metadata": {
        "id": "QmTupblVPiWp"
      },
      "outputs": [],
      "source": [
        "#TODO check if it is exactly the same as the SimpleAgent and make agent.py and copy simple agent there and import \n",
        "class DeepResearchAgent:\n",
        "    \"\"\"A deep research agent class with tracing, state, and tool processing.\"\"\"\n",
        "    def __init__(self, model_name: str, system_message: str, tools: List[Callable]):\n",
        "        self.model_name = model_name\n",
        "        self.system_message = system_message\n",
        "        self.tools = [function_tool(t) for t in tools] # add schemas to the tools\n",
        "\n",
        "    @weave.op(name=\"DeepResearchAgent.step\") # Trace each step\n",
        "    def step(self, state: AgentState) -> AgentState:\n",
        "        step = state.step + 1\n",
        "        messages = state.messages\n",
        "        final_assistant_content = None\n",
        "        try:\n",
        "            # call model with tools\n",
        "            response = call_model(\n",
        "                model_name=self.model_name,\n",
        "                messages=messages,\n",
        "                tools=[t.tool_schema for t in self.tools])\n",
        "\n",
        "            # add the response to the messages\n",
        "            messages.append(response.model_dump())\n",
        "\n",
        "            # if the LLM requested tool calls, perform them\n",
        "            if response.tool_calls:\n",
        "                print(\"LLM requested tool calls:\")\n",
        "                # perform the tool calls\n",
        "                tool_outputs = perform_tool_calls(tools=self.tools, tool_calls=response.tool_calls)\n",
        "                messages.extend(tool_outputs)\n",
        "\n",
        "            # LLM gave content response\n",
        "            else:\n",
        "                final_assistant_content = response.content\n",
        "        except Exception as e:\n",
        "            print(f\"ERROR in Agent Step: {e}\")\n",
        "            # Add an error message to history to indicate failure\n",
        "            messages.append({\"role\": \"assistant\", \"content\": f\"Agent error in step: {str(e)}\"})\n",
        "            final_assistant_content = f\"Agent error in step {step}: {str(e)}\"\n",
        "        return AgentState(messages=messages, step=step, final_assistant_content=final_assistant_content)\n",
        "\n",
        "    @weave.op(name=\"DeepResearchAgent.run\")\n",
        "    def run(self, user_prompt: str, max_turns: int = 10) -> AgentState:\n",
        "        state = AgentState(messages=[\n",
        "            {\"role\": \"system\", \"content\": self.system_message},\n",
        "            {\"role\": \"user\", \"content\": user_prompt}])\n",
        "        for _ in range(max_turns):\n",
        "            print(f\"--- Agent Loop Turn {state.step}/{max_turns} ---\")\n",
        "            state = self.step(state)\n",
        "            if state.final_assistant_content:\n",
        "                return state\n",
        "        return state"
      ]
    },
    {
      "cell_type": "markdown",
      "metadata": {
        "id": "vd2u5T11PvOx"
      },
      "source": [
        "## Run"
      ]
    },
    {
      "cell_type": "code",
      "execution_count": null,
      "metadata": {
        "colab": {
          "base_uri": "https://localhost:8080/"
        },
        "collapsed": true,
        "id": "8oCz5d7fCMy8",
        "outputId": "2516646f-ac15-449e-f61d-bd2254d297a3"
      },
      "outputs": [],
      "source": [
        "if __name__ == \"__main__\":\n",
        "\n",
        "\tagent = DeepResearchAgent(\n",
        "\t\tmodel_name=MODEL_LARGE,\n",
        "\t\tsystem_message=DEEP_RESEARCH_AGENT_PROMPT.format(date=get_today_str()),\n",
        "\t\ttools=[clarification_tool, planning_tool, think_tool, exa_search]\n",
        "\t)\n",
        "\tstate = agent.run(user_prompt=\"What type of vegan milk alternative is the healthiest?\")\n",
        "\tprint(f\"Final response: {state.final_assistant_content}\")"
      ]
    },
    {
      "cell_type": "markdown",
      "metadata": {
        "id": "6_5IL_dXexSz"
      },
      "source": [
        "## Context engineering\n",
        "\n",
        "\n"
      ]
    },
    {
      "cell_type": "markdown",
      "metadata": {},
      "source": [
        "**Context rot**\n",
        "\n",
        "Context rot in LLMs is the degradation of relevance and accuracy in a model’s responses as its context window fills with outdated, redundant, or tangential information from the ongoing conversation. Even though we are seeing higher and higher context windows in the newer LLMs, the issue of context rot prevails.  \n",
        "\n",
        "There are a few techinqiues that help manage the context window: \n",
        "- **Compaction**: Summarizing and compressing conversation history to fit within the context window while preserving essential details for continuity.\n",
        "- **Structured note-taking**: Persistently storing key information outside the context window so the agent can recall and build upon it later.\n",
        "- **Sub-agent architectures**: Using specialized sub-agents for focused tasks that return concise summaries to a main coordinating agent, improving efficiency and clarity.\n",
        "\n",
        "In today's session we will crearte a simple compaction function for our agent. \n"
      ]
    },
    {
      "cell_type": "markdown",
      "metadata": {},
      "source": [
        "### Token counting \n",
        "\n",
        "To figure out if the conversation needs compacting we first need to a function to count the tokens.\n",
        "\n",
        "In this simple example we will use a quick estimation method by countin characters and assuming 4 character -> 1 token conversion. \n",
        "\n",
        "For a real token count you could use for example the tiktoken library. "
      ]
    },
    {
      "cell_type": "code",
      "execution_count": 72,
      "metadata": {},
      "outputs": [],
      "source": [
        "def estimate_token_count(messages: List[Dict[str, Any]]) -> int:\n",
        "    \"\"\"\n",
        "    Estimate token count for messages using character-based heuristic.\n",
        "    \n",
        "    Args:\n",
        "        messages: List of message dictionaries\n",
        "    \n",
        "    Returns:\n",
        "        int: Estimated token count\n",
        "    \n",
        "    How it works:\n",
        "    - Converts messages to JSON string\n",
        "    - Uses 4 characters ≈ 1 token rule of thumb\n",
        "    - Adds 10% overhead for message formatting\n",
        "    \n",
        "    Accuracy: Usually within 10-15% of actual token count, which is \n",
        "    sufficient for context window management at 80% threshold.\n",
        "    \n",
        "    Example:\n",
        "        messages = [{\"role\": \"user\", \"content\": \"Hello world\"}]\n",
        "        estimate_token_count(messages)  # Returns ~8 tokens\n",
        "    \"\"\"\n",
        "    total_chars = 0\n",
        "    \n",
        "    for message in messages:\n",
        "        # Convert entire message to string and count characters\n",
        "        # This includes role, content, and any other fields\n",
        "        message_str = json.dumps(message)\n",
        "        total_chars += len(message_str)\n",
        "    \n",
        "    # Rough heuristic: 4 characters ≈ 1 token\n",
        "    base_estimate = total_chars / 4\n",
        "    \n",
        "    # Add 10% overhead for message formatting \n",
        "    # (things like <|start|>assistant, etc.)\n",
        "    with_overhead = base_estimate * 1.1\n",
        "    \n",
        "    return int(with_overhead)"
      ]
    },
    {
      "cell_type": "markdown",
      "metadata": {},
      "source": [
        "### Compaction tool"
      ]
    },
    {
      "cell_type": "markdown",
      "metadata": {},
      "source": [
        "There are two main ways to trigger compaction: \n",
        "1. As a set part of the pipline, every time the conversation goes above 80% -> compact \n",
        "2. Give the compaction function as the tool to agent, pass the token count into context and prompt the agent to keep track and call the compaction tool as needed. \n",
        "\n",
        "We have opted to set a deterministic function in this example. \n",
        "We have created a new AgentState where we track the max tokens, estimated tokens already used and the threshold at which we want the compaction to be triggered. \n",
        "\n",
        "The most important function to pay attentio to is `compact_conversation` in this function we defined our strategy on how we will summarize the message history. \n",
        "Strategy:\n",
        "1. Keep the system message (always needed)\n",
        "2. Keep the user request (relevant context and request)\n",
        "3. Summarize everything after\n",
        "\n",
        "The summarization happens with an LLM call, to find out the exact instructions review the system prompt. "
      ]
    },
    {
      "cell_type": "code",
      "execution_count": null,
      "metadata": {},
      "outputs": [],
      "source": [
        "from pydantic import PrivateAttr, BaseModel\n",
        "\n",
        "class AgentStateCompaction(BaseModel):\n",
        "    \"\"\"Enhanced AgentState with context window management and compaction tracking.\"\"\"\n",
        "    messages: List[Dict[str, Any]] = Field(default_factory=list)\n",
        "    step: int = Field(default=0)\n",
        "    final_assistant_content: str | None = None\n",
        "    \n",
        "    # the above 3 are the same as in the AgentState class, we could have inherited from it but we are using BaseModel to make it easier to understand\n",
        "    max_tokens: int = Field(default=5000)\n",
        "    compaction_count: int = Field(default=0)\n",
        "    compact_model_name: str = Field(default=MODEL_LARGE)\n",
        "    _estimated_tokens: int = PrivateAttr(default=0)\n",
        "    _threshold: float = PrivateAttr(default=0.8)\n",
        "\n",
        "    def model_post_init(self, __context: Any) -> None:\n",
        "        self._estimated_tokens = estimate_token_count(self.messages)\n",
        "        tokens_before = self._estimated_tokens\n",
        "\n",
        "        print(f\"Utilization percentage: {self.utilization_percentage()}%\")\n",
        "\n",
        "        if self._estimated_tokens > (self.max_tokens*self._threshold):\n",
        "            print(\"Compacting conversation...\")\n",
        "            self.messages = self.compact_conversation()\n",
        "\n",
        "            self._estimated_tokens = estimate_token_count(self.messages)\n",
        "            \n",
        "            # Calculate token savings\n",
        "            tokens_after = estimate_token_count(self.messages)\n",
        "            tokens_saved = tokens_before - tokens_after\n",
        "            print(f\"   ✓ Saved {tokens_saved:,} tokens ({tokens_before:,} → {tokens_after:,})\")\n",
        "            print(f\"Utilization percentage: {self.utilization_percentage()}%\")\n",
        "\n",
        "\n",
        "    def utilization_percentage(self) -> float: \n",
        "        \"\"\"\n",
        "        Calculate how much of the context window is being used.\n",
        "\n",
        "        Returns: \n",
        "            float: Percentage from 0-100\n",
        "        \"\"\"\n",
        "        if self.max_tokens == 0:\n",
        "            return 0.0\n",
        "        return (self._estimated_tokens / self.max_tokens) * 100\n",
        "    \n",
        "    \n",
        "    @weave.op(name=\"compact\")\n",
        "    def compact_conversation(self) -> list[Dict[str, Any]]:\n",
        "        \"\"\"\n",
        "        Compact the conversation by summarizing older messages.\n",
        "        \"\"\"\n",
        "        messages = self.messages\n",
        "        \n",
        "        # Preserve: system message (index 0), first message with instructions (index 1)\n",
        "        system_msg = messages[0]\n",
        "        request_msg = messages[1]\n",
        "        \n",
        "        # Create a prompt asking for a concise summary\n",
        "        summary_messages =[ \n",
        "        {   \"role\": \"system\",\n",
        "            \"content\": \"\"\"You are compacting a deep research agent's conversation history. \n",
        "            Summarize this research conversation history concisely. \n",
        "            Preserve:\n",
        "            - Key findings from web searches (with source URLs if mentioned)\n",
        "            - Important facts, data points, and statistics\n",
        "            - Research decisions and reasoning\n",
        "            - Any identified gaps or areas needing more investigation\"\"\"},\n",
        "        {   \"role\": \"user\",\n",
        "            \"content\": f\"\"\"\n",
        "            Conversation to summarize:\n",
        "            {json.dumps(messages[1:], indent=2)}\n",
        "            Provide a structured, concise summary.\"\"\"\n",
        "        }\n",
        "        ]\n",
        "        \n",
        "        # Call the model to generate the summary\n",
        "        summary_response = call_model(\n",
        "            model_name=self.compact_model_name,\n",
        "            messages=summary_messages\n",
        "        )\n",
        "        \n",
        "        # Create the compacted message that replaces the old messages\n",
        "        summary_msg = {\n",
        "            \"role\": \"assistant\",\n",
        "            \"content\": f\"# RESEARCH CONTEXT: \\n\\n{summary_response.content}\"\n",
        "        }\n",
        "        \n",
        "        # Build new message history: system + summary + recent messages\n",
        "        new_messages = [system_msg, request_msg, summary_msg] \n",
        "\n",
        "        \n",
        "        # Return a new compacted message history\n",
        "        return new_messages\n"
      ]
    },
    {
      "cell_type": "markdown",
      "metadata": {},
      "source": [
        "### Example 1: Dummy cooking assistant \n",
        "This is a dummy example of a set history of messages that will try compaction function."
      ]
    },
    {
      "cell_type": "code",
      "execution_count": 103,
      "metadata": {},
      "outputs": [
        {
          "name": "stdout",
          "output_type": "stream",
          "text": [
            "Utilization percentage: 121.16666666666667%\n",
            "Compacting conversation...\n",
            "   ✓ Saved 283 tokens (727 → 444)\n",
            "Utilization percentage: 74.0%\n"
          ]
        }
      ],
      "source": [
        "messages = [\n",
        "    {\"role\": \"system\", \"content\": \"You are a helpful cooking assistant.\"},\n",
        "    {\"role\": \"user\", \"content\": \"how to prepare vegan carbonara ?\"},\n",
        "    {\"role\": \"assistant\", \"content\": \"\"\"Here’s how to make a **delicious vegan carbonara** — creamy, smoky, and comforting without any animal products.\n",
        "\n",
        "---\n",
        "\n",
        "### 🧂 Ingredients (2–3 servings)\n",
        "\n",
        "#### Sauce:\n",
        "\n",
        "* 150 g silken tofu *(or 1 cup unsweetened soy or oat cream)*\n",
        "* 2 tbsp nutritional yeast\n",
        "* 1 tsp Dijon mustard\n",
        "* 1 tbsp olive oil or vegan butter\n",
        "* 1/4 tsp black salt (Kala Namak) — gives an eggy flavor\n",
        "* 1/4 tsp turmeric *(optional, for color)*\n",
        "* 1 tsp miso paste *(optional, for depth)*\n",
        "* 2 tbsp plant milk (soy, oat, or almond)\n",
        "* Freshly ground black pepper\n",
        "\n",
        "#### “Bacon”:\n",
        "\n",
        "Choose one:\n",
        "\n",
        "* 100 g smoked tempeh, tofu, or seitan strips\n",
        "* or 4–5 chopped mushrooms (portobello or king oyster work well)\n",
        "\n",
        "For flavoring:\n",
        "\n",
        "* 1 tbsp soy sauce or tamari\n",
        "* 1/2 tsp liquid smoke *(or smoked paprika)*\n",
        "* 1 tsp maple syrup\n",
        "\n",
        "#### Pasta:\n",
        "\n",
        "* 250 g spaghetti or tagliatelle\n",
        "* Salt for pasta water\n",
        "\n",
        "---\n",
        "\n",
        "### 👩‍🍳 Instructions\n",
        "\n",
        "1. **Cook the pasta**\n",
        "\n",
        "   * Bring a large pot of salted water to a boil.\n",
        "   * Cook pasta according to package directions until *al dente*.\n",
        "   * Reserve about 1/2 cup of pasta water before draining.\n",
        "\n",
        "2. **Make the “bacon”**\n",
        "\n",
        "   * In a pan, heat a little oil.\n",
        "   * Add your tempeh/tofu/mushrooms and fry until golden.\n",
        "   * Add soy sauce, liquid smoke, and maple syrup.\n",
        "   * Cook for another minute until caramelized and smoky. Set aside.\n",
        "\n",
        "3. **Prepare the sauce**\n",
        "\n",
        "   * Blend all sauce ingredients until smooth and creamy.\n",
        "   * Taste and adjust: add more salt or black salt if you like it more “eggy”.\n",
        "\n",
        "4. **Combine**\n",
        "\n",
        "   * In the same pan, pour the sauce and a splash of pasta water.\n",
        "   * Stir gently over medium heat until thickened (1–2 min).\n",
        "   * Add cooked pasta and “bacon”, tossing to coat evenly.\n",
        "   * Add more pasta water if the sauce gets too thick.\n",
        "\n",
        "5. **Serve**\n",
        "\n",
        "   * Top with freshly ground black pepper, a sprinkle of nutritional yeast, and chopped parsley if desired.\n",
        "\n",
        "---\n",
        "\n",
        "### 🍽️ Tips & Variations\n",
        "\n",
        "* **For extra creaminess**: Blend in 1–2 tbsp cashews (soaked for 15 min in hot water).\n",
        "* **For richness**: Add a touch of vegan parmesan or truffle oil before serving.\n",
        "* **For gluten-free**: Use gluten-free pasta and tamari instead of soy sauce.\n",
        "\n",
        "---\n",
        "\n",
        "Would you like me to tailor it to a specific style — e.g., *Italian authentic*, *high-protein*, or *quick 15-minute version*?\"\"\"\n",
        "}\n",
        "    ]\n",
        "\n",
        "state = AgentStateCompaction(messages=messages, max_tokens=600)\n",
        "\n"
      ]
    },
    {
      "cell_type": "code",
      "execution_count": null,
      "metadata": {},
      "outputs": [
        {
          "name": "stdout",
          "output_type": "stream",
          "text": [
            "# RESEARCH CONTEXT: \n",
            "\n",
            "**Summary of vegan carbonara research**\n",
            "\n",
            "Goal: Put together a plant-based version of carbonara that remains creamy, smoky and comforting.\n",
            "\n",
            "Key technique decisions  \n",
            "- Base sauce: Blend silken tofu (150 g) with nutritional yeast (2 Tbsp), Dijon (1 tsp) and black salt (Kala Namak) to get an “eggy” flavor without eggs. Optional cashews or soy/oat cream for extra richness.  \n",
            "- Smoke & chew: Replace pancetta with either (a) smoked tempeh/tofu/seitan strips or (b) caramelized mushrooms; season with soy sauce + liquid smoke + maple syrup.  \n",
            "- Combine off the heat to prevent curdling; loosen sauce with reserved pasta water.\n",
            "\n",
            "Notable data points / flavor drivers  \n",
            "- Black salt (¼ tsp) supplies sulfuric “egg” note; turmeric (¼ tsp) adds yellow color.  \n",
            "- Miso (1 tsp) and freshly cracked pepper deepen umami and mimic traditional spice.  \n",
            "- 250 g dried pasta for 2–3 servings; monitor starchy cooking water for emulsion consistency.\n",
            "\n",
            "Identified gaps / open questions  \n",
            "- No nutritional values calculated—protein, fat, and sodium content could be quantified for health-focused readers.  \n",
            "- Authentic Italian purists might prefer guanciale-specific smoke profile; alternative liquid smoke blends not tested.  \n",
            "- Gluten-free or high-protein variants alluded to but untested in this thread; yield and timing for “15-minute” shortcut version also still undefined.\n"
          ]
        }
      ],
      "source": [
        "print(state.messages[-1][\"content\"])"
      ]
    },
    {
      "cell_type": "markdown",
      "metadata": {},
      "source": [
        "### Example 2: DeepResearch agent\n",
        "\n",
        "This is exact copy of our DeepResearch agent from above, with only changes being the AgentState changed for our new AgentStateCompaction. \n",
        "Now you can run it and see the compaction happening in a real use case."
      ]
    },
    {
      "cell_type": "code",
      "execution_count": 107,
      "metadata": {},
      "outputs": [],
      "source": [
        "class SimpleAgent:\n",
        "    \"\"\"A simple agent class with tracing, state, and tool processing.\"\"\"\n",
        "    def __init__(self, model_name: str, system_message: str, tools: List[Callable]):\n",
        "        self.model_name = model_name\n",
        "        self.system_message = system_message\n",
        "        self.tools = [function_tool(t) for t in tools] # add schemas to the tools\n",
        "    \n",
        "    @weave.op(name=\"SimpleAgent.step\") # Trace each step\n",
        "    def step(self, state: AgentStateCompaction) -> AgentStateCompaction:\n",
        "        step = state.step + 1\n",
        "        messages = state.messages\n",
        "        final_assistant_content = None\n",
        "        try:\n",
        "            # call model with tools\n",
        "            response = call_model(\n",
        "                model_name=self.model_name, \n",
        "                messages=messages, \n",
        "                tools=[t.tool_schema for t in self.tools])\n",
        "\n",
        "            # add the response to the messages\n",
        "            messages.append(response.model_dump())\n",
        "\n",
        "            # if the LLM requested tool calls, perform them\n",
        "            if response.tool_calls:\n",
        "                # perform the tool calls\n",
        "                tool_outputs = perform_tool_calls(tools=self.tools, tool_calls=response.tool_calls)\n",
        "                messages.extend(tool_outputs)\n",
        "\n",
        "            # LLM gave content response\n",
        "            else:\n",
        "                final_assistant_content = response.content\n",
        "        except Exception as e:\n",
        "            # Add an error message to history to indicate failure\n",
        "            messages.append({\"role\": \"assistant\", \"content\": f\"Agent error in step: {str(e)}\"})\n",
        "            final_assistant_content = f\"Agent error in step {step}: {str(e)}\"\n",
        "        return AgentStateCompaction(messages=messages, step=step, final_assistant_content=final_assistant_content, max_tokens=10000)\n",
        "\n",
        "    @weave.op(name=\"SimpleAgent.run\")\n",
        "    def run(self, user_prompt: str, max_turns: int = 10) -> AgentStateCompaction:\n",
        "        state = AgentStateCompaction(messages=[\n",
        "            {\"role\": \"system\", \"content\": self.system_message},\n",
        "            {\"role\": \"user\", \"content\": user_prompt}])\n",
        "        for _ in range(max_turns):\n",
        "            state = self.step(state)\n",
        "            if state.final_assistant_content:\n",
        "                return state\n",
        "        return state\n"
      ]
    },
    {
      "cell_type": "code",
      "execution_count": null,
      "metadata": {},
      "outputs": [
        {
          "name": "stderr",
          "output_type": "stream",
          "text": [
            "\u001b[36m\u001b[1mweave\u001b[0m: Error getting code deps for <function SimpleAgent.run at 0x1249eaac0>: invalid syntax. Perhaps you forgot a comma? (<unknown>, line 699)\n",
            "\u001b[36m\u001b[1mweave\u001b[0m: Error getting code deps for <function SimpleAgent.step at 0x1249e8fe0>: invalid syntax. Perhaps you forgot a comma? (<unknown>, line 699)\n"
          ]
        },
        {
          "name": "stdout",
          "output_type": "stream",
          "text": [
            "Utilization percentage: 16.32%\n"
          ]
        },
        {
          "data": {
            "text/html": [
              "<pre style=\"white-space:pre;overflow-x:auto;line-height:normal;font-family:Menlo,'DejaVu Sans Mono',consolas,'Courier New',monospace\"></pre>\n"
            ],
            "text/plain": []
          },
          "metadata": {},
          "output_type": "display_data"
        },
        {
          "data": {
            "text/html": [
              "<pre style=\"white-space:pre;overflow-x:auto;line-height:normal;font-family:Menlo,'DejaVu Sans Mono',consolas,'Courier New',monospace\"><span style=\"color: #008080; text-decoration-color: #008080\">╭─────────────────────────────────────────────────────────────────────────────────────────────────────────────────╮</span>\n",
              "<span style=\"color: #008080; text-decoration-color: #008080\">│</span> <span style=\"color: #008080; text-decoration-color: #008080; font-weight: bold\">🔧 Tool Call:</span> planning_tool                                                                                     <span style=\"color: #008080; text-decoration-color: #008080\">│</span>\n",
              "<span style=\"color: #008080; text-decoration-color: #008080\">│</span>                                                                                                                 <span style=\"color: #008080; text-decoration-color: #008080\">│</span>\n",
              "<span style=\"color: #008080; text-decoration-color: #008080\">│</span> <span style=\"color: #7f7f7f; text-decoration-color: #7f7f7f\">Args: {\"plan\": \"1. Short analysis of user request: The user wants to trace the evolution from Java Servlets to </span> <span style=\"color: #008080; text-decoration-color: #008080\">│</span>\n",
              "<span style=\"color: #008080; text-decoration-color: #008080\">│</span> <span style=\"color: #7f7f7f; text-decoration-color: #7f7f7f\">Spring Boot, understand the problems each iteration aimed to solve, and detail the core functionalities of the </span> <span style=\"color: #008080; text-decoration-color: #008080\">│</span>\n",
              "<span style=\"color: #008080; text-decoration-color: #008080\">│</span> <span style=\"color: #7f7f7f; text-decoration-color: #7f7f7f\">Spring framework along with essential knowledge for developers working with it.\\n\\n2. Sub-queries broken down </span>  <span style=\"color: #008080; text-decoration-color: #008080\">│</span>\n",
              "<span style=\"color: #008080; text-decoration-color: #008080\">│</span> <span style=\"color: #7f7f7f; text-decoration-color: #7f7f7f\">from the user's request:\\n   - What are Java Servlets and their role in web development?\\n   - What problems </span>   <span style=\"color: #008080; text-decoration-color: #008080\">│</span>\n",
              "<span style=\"color: #008080; text-decoration-color: #008080\">│</span> <span style=\"color: #7f7f7f; text-decoration-color: #7f7f7f\">did Java Servlets face that led to the development of frameworks like Spring?\\n   - What is the Spring </span>         <span style=\"color: #008080; text-decoration-color: #008080\">│</span>\n",
              "<span style=\"color: #008080; text-decoration-color: #008080\">│</span> <span style=\"color: #7f7f7f; text-decoration-color: #7f7f7f\">framework and how did it evolve from Java Servlets?\\n   - What are the core functionalities of the Spring </span>      <span style=\"color: #008080; text-decoration-color: #008080\">│</span>\n",
              "<span style=\"color: #008080; text-decoration-color: #008080\">│</span> <span style=\"color: #7f7f7f; text-decoration-color: #7f7f7f\">framework?\\n   - What are the essential knowledge areas for developers working with the Spring framework?\\n   -</span> <span style=\"color: #008080; text-decoration-color: #008080\">│</span>\n",
              "<span style=\"color: #008080; text-decoration-color: #008080\">│</span> <span style=\"color: #7f7f7f; text-decoration-color: #7f7f7f\">How did Spring Boot emerge as a solution to the limitations of the Spring framework?\\n   - What problems did </span>   <span style=\"color: #008080; text-decoration-color: #008080\">│</span>\n",
              "<span style=\"color: #008080; text-decoration-color: #008080\">│</span> <span style=\"color: #7f7f7f; text-decoration-color: #7f7f7f\">Spring Boot aim to solve, and how does it differ from the traditional Spring framework?\\n\\n3. Research </span>         <span style=\"color: #008080; text-decoration-color: #008080\">│</span>\n",
              "<span style=\"color: #008080; text-decoration-color: #008080\">│</span> <span style=\"color: #7f7f7f; text-decoration-color: #7f7f7f\">approach:\\n   - Start with a broad search on Java Servlets, their role, and limitations.\\n   - Investigate the </span> <span style=\"color: #008080; text-decoration-color: #008080\">│</span>\n",
              "<span style=\"color: #008080; text-decoration-color: #008080\">│</span> <span style=\"color: #7f7f7f; text-decoration-color: #7f7f7f\">emergence of the Spring framework and its core functionalities.\\n   - Explore the evolution of Spring to Spring</span> <span style=\"color: #008080; text-decoration-color: #008080\">│</span>\n",
              "<span style=\"color: #008080; text-decoration-color: #008080\">│</span> <span style=\"color: #7f7f7f; text-decoration-color: #7f7f7f\">Boot, focusing on the problems it aimed to solve.\\n   - Gather information on essential knowledge for </span>          <span style=\"color: #008080; text-decoration-color: #008080\">│</span>\n",
              "<span style=\"color: #008080; text-decoration-color: #008080\">│</span> <span style=\"color: #7f7f7f; text-decoration-color: #7f7f7f\">developers working with the Spring framework.\\n   - Synthesize the information to trace the evolution from Java</span> <span style=\"color: #008080; text-decoration-color: #008080\">│</span>\n",
              "<span style=\"color: #008080; text-decoration-color: #008080\">│</span> <span style=\"color: #7f7f7f; text-decoration-color: #7f7f7f\">Servlets to Spring Boot and provide a comprehensive answer.\"}</span>                                                   <span style=\"color: #008080; text-decoration-color: #008080\">│</span>\n",
              "<span style=\"color: #008080; text-decoration-color: #008080\">│</span>                                                                                                                 <span style=\"color: #008080; text-decoration-color: #008080\">│</span>\n",
              "<span style=\"color: #008080; text-decoration-color: #008080\">│</span> <span style=\"color: #008000; text-decoration-color: #008000\">✓</span> planning_tool executed successfully                                                                           <span style=\"color: #008080; text-decoration-color: #008080\">│</span>\n",
              "<span style=\"color: #008080; text-decoration-color: #008080\">╰─────────────────────────────────────────────────────────────────────────────────────────────────────────────────╯</span>\n",
              "</pre>\n"
            ],
            "text/plain": [
              "\u001b[36m╭─────────────────────────────────────────────────────────────────────────────────────────────────────────────────╮\u001b[0m\n",
              "\u001b[36m│\u001b[0m \u001b[1;36m🔧 Tool Call:\u001b[0m planning_tool                                                                                     \u001b[36m│\u001b[0m\n",
              "\u001b[36m│\u001b[0m                                                                                                                 \u001b[36m│\u001b[0m\n",
              "\u001b[36m│\u001b[0m \u001b[2mArgs: {\"plan\": \"1. Short analysis of user request: The user wants to trace the evolution from Java Servlets to \u001b[0m \u001b[36m│\u001b[0m\n",
              "\u001b[36m│\u001b[0m \u001b[2mSpring Boot, understand the problems each iteration aimed to solve, and detail the core functionalities of the \u001b[0m \u001b[36m│\u001b[0m\n",
              "\u001b[36m│\u001b[0m \u001b[2mSpring framework along with essential knowledge for developers working with it.\\n\\n2. Sub-queries broken down \u001b[0m  \u001b[36m│\u001b[0m\n",
              "\u001b[36m│\u001b[0m \u001b[2mfrom the user's request:\\n   - What are Java Servlets and their role in web development?\\n   - What problems \u001b[0m   \u001b[36m│\u001b[0m\n",
              "\u001b[36m│\u001b[0m \u001b[2mdid Java Servlets face that led to the development of frameworks like Spring?\\n   - What is the Spring \u001b[0m         \u001b[36m│\u001b[0m\n",
              "\u001b[36m│\u001b[0m \u001b[2mframework and how did it evolve from Java Servlets?\\n   - What are the core functionalities of the Spring \u001b[0m      \u001b[36m│\u001b[0m\n",
              "\u001b[36m│\u001b[0m \u001b[2mframework?\\n   - What are the essential knowledge areas for developers working with the Spring framework?\\n   -\u001b[0m \u001b[36m│\u001b[0m\n",
              "\u001b[36m│\u001b[0m \u001b[2mHow did Spring Boot emerge as a solution to the limitations of the Spring framework?\\n   - What problems did \u001b[0m   \u001b[36m│\u001b[0m\n",
              "\u001b[36m│\u001b[0m \u001b[2mSpring Boot aim to solve, and how does it differ from the traditional Spring framework?\\n\\n3. Research \u001b[0m         \u001b[36m│\u001b[0m\n",
              "\u001b[36m│\u001b[0m \u001b[2mapproach:\\n   - Start with a broad search on Java Servlets, their role, and limitations.\\n   - Investigate the \u001b[0m \u001b[36m│\u001b[0m\n",
              "\u001b[36m│\u001b[0m \u001b[2memergence of the Spring framework and its core functionalities.\\n   - Explore the evolution of Spring to Spring\u001b[0m \u001b[36m│\u001b[0m\n",
              "\u001b[36m│\u001b[0m \u001b[2mBoot, focusing on the problems it aimed to solve.\\n   - Gather information on essential knowledge for \u001b[0m          \u001b[36m│\u001b[0m\n",
              "\u001b[36m│\u001b[0m \u001b[2mdevelopers working with the Spring framework.\\n   - Synthesize the information to trace the evolution from Java\u001b[0m \u001b[36m│\u001b[0m\n",
              "\u001b[36m│\u001b[0m \u001b[2mServlets to Spring Boot and provide a comprehensive answer.\"}\u001b[0m                                                   \u001b[36m│\u001b[0m\n",
              "\u001b[36m│\u001b[0m                                                                                                                 \u001b[36m│\u001b[0m\n",
              "\u001b[36m│\u001b[0m \u001b[32m✓\u001b[0m planning_tool executed successfully                                                                           \u001b[36m│\u001b[0m\n",
              "\u001b[36m╰─────────────────────────────────────────────────────────────────────────────────────────────────────────────────╯\u001b[0m\n"
            ]
          },
          "metadata": {},
          "output_type": "display_data"
        },
        {
          "name": "stdout",
          "output_type": "stream",
          "text": [
            "Utilization percentage: 13.320000000000002%\n"
          ]
        },
        {
          "data": {
            "text/html": [
              "<pre style=\"white-space:pre;overflow-x:auto;line-height:normal;font-family:Menlo,'DejaVu Sans Mono',consolas,'Courier New',monospace\">Refining result <span style=\"color: #008080; text-decoration-color: #008080; font-weight: bold\">1</span>\n",
              "</pre>\n"
            ],
            "text/plain": [
              "Refining result \u001b[1;36m1\u001b[0m\n"
            ]
          },
          "metadata": {},
          "output_type": "display_data"
        },
        {
          "data": {
            "text/html": [
              "<pre style=\"white-space:pre;overflow-x:auto;line-height:normal;font-family:Menlo,'DejaVu Sans Mono',consolas,'Courier New',monospace\">Refining result <span style=\"color: #008080; text-decoration-color: #008080; font-weight: bold\">2</span>\n",
              "</pre>\n"
            ],
            "text/plain": [
              "Refining result \u001b[1;36m2\u001b[0m\n"
            ]
          },
          "metadata": {},
          "output_type": "display_data"
        },
        {
          "data": {
            "text/html": [
              "<pre style=\"white-space:pre;overflow-x:auto;line-height:normal;font-family:Menlo,'DejaVu Sans Mono',consolas,'Courier New',monospace\">Refining result <span style=\"color: #008080; text-decoration-color: #008080; font-weight: bold\">3</span>\n",
              "</pre>\n"
            ],
            "text/plain": [
              "Refining result \u001b[1;36m3\u001b[0m\n"
            ]
          },
          "metadata": {},
          "output_type": "display_data"
        },
        {
          "data": {
            "text/html": [
              "<pre style=\"white-space:pre;overflow-x:auto;line-height:normal;font-family:Menlo,'DejaVu Sans Mono',consolas,'Courier New',monospace\">Refining result <span style=\"color: #008080; text-decoration-color: #008080; font-weight: bold\">4</span>\n",
              "</pre>\n"
            ],
            "text/plain": [
              "Refining result \u001b[1;36m4\u001b[0m\n"
            ]
          },
          "metadata": {},
          "output_type": "display_data"
        },
        {
          "data": {
            "text/html": [
              "<pre style=\"white-space:pre;overflow-x:auto;line-height:normal;font-family:Menlo,'DejaVu Sans Mono',consolas,'Courier New',monospace\">Refining result <span style=\"color: #008080; text-decoration-color: #008080; font-weight: bold\">5</span>\n",
              "</pre>\n"
            ],
            "text/plain": [
              "Refining result \u001b[1;36m5\u001b[0m\n"
            ]
          },
          "metadata": {},
          "output_type": "display_data"
        },
        {
          "data": {
            "text/html": [
              "<pre style=\"white-space:pre;overflow-x:auto;line-height:normal;font-family:Menlo,'DejaVu Sans Mono',consolas,'Courier New',monospace\"></pre>\n"
            ],
            "text/plain": []
          },
          "metadata": {},
          "output_type": "display_data"
        },
        {
          "data": {
            "text/html": [
              "<pre style=\"white-space:pre;overflow-x:auto;line-height:normal;font-family:Menlo,'DejaVu Sans Mono',consolas,'Courier New',monospace\"><span style=\"color: #008080; text-decoration-color: #008080\">╭─────────────────────────────────────────────────────────────────────────────────────────────────────────────────╮</span>\n",
              "<span style=\"color: #008080; text-decoration-color: #008080\">│</span> <span style=\"color: #008080; text-decoration-color: #008080; font-weight: bold\">🔧 Tool Call:</span> exa_search_and_refine                                                                             <span style=\"color: #008080; text-decoration-color: #008080\">│</span>\n",
              "<span style=\"color: #008080; text-decoration-color: #008080\">│</span>                                                                                                                 <span style=\"color: #008080; text-decoration-color: #008080\">│</span>\n",
              "<span style=\"color: #008080; text-decoration-color: #008080\">│</span> <span style=\"color: #7f7f7f; text-decoration-color: #7f7f7f\">Args: {\"query\": \"Java Servlets overview and their role in web development\", \"num_results\": 5}</span>                   <span style=\"color: #008080; text-decoration-color: #008080\">│</span>\n",
              "<span style=\"color: #008080; text-decoration-color: #008080\">│</span>                                                                                                                 <span style=\"color: #008080; text-decoration-color: #008080\">│</span>\n",
              "<span style=\"color: #008080; text-decoration-color: #008080\">│</span> <span style=\"color: #008000; text-decoration-color: #008000\">✓</span> Found 5 results                                                                                               <span style=\"color: #008080; text-decoration-color: #008080\">│</span>\n",
              "<span style=\"color: #008080; text-decoration-color: #008080\">╰─────────────────────────────────────────────────────────────────────────────────────────────────────────────────╯</span>\n",
              "</pre>\n"
            ],
            "text/plain": [
              "\u001b[36m╭─────────────────────────────────────────────────────────────────────────────────────────────────────────────────╮\u001b[0m\n",
              "\u001b[36m│\u001b[0m \u001b[1;36m🔧 Tool Call:\u001b[0m exa_search_and_refine                                                                             \u001b[36m│\u001b[0m\n",
              "\u001b[36m│\u001b[0m                                                                                                                 \u001b[36m│\u001b[0m\n",
              "\u001b[36m│\u001b[0m \u001b[2mArgs: {\"query\": \"Java Servlets overview and their role in web development\", \"num_results\": 5}\u001b[0m                   \u001b[36m│\u001b[0m\n",
              "\u001b[36m│\u001b[0m                                                                                                                 \u001b[36m│\u001b[0m\n",
              "\u001b[36m│\u001b[0m \u001b[32m✓\u001b[0m Found 5 results                                                                                               \u001b[36m│\u001b[0m\n",
              "\u001b[36m╰─────────────────────────────────────────────────────────────────────────────────────────────────────────────────╯\u001b[0m\n"
            ]
          },
          "metadata": {},
          "output_type": "display_data"
        },
        {
          "name": "stdout",
          "output_type": "stream",
          "text": [
            "Utilization percentage: 37.91%\n"
          ]
        },
        {
          "data": {
            "text/html": [
              "<pre style=\"white-space:pre;overflow-x:auto;line-height:normal;font-family:Menlo,'DejaVu Sans Mono',consolas,'Courier New',monospace\"></pre>\n"
            ],
            "text/plain": []
          },
          "metadata": {},
          "output_type": "display_data"
        },
        {
          "data": {
            "text/html": [
              "<pre style=\"white-space:pre;overflow-x:auto;line-height:normal;font-family:Menlo,'DejaVu Sans Mono',consolas,'Courier New',monospace\"><span style=\"color: #008080; text-decoration-color: #008080\">╭─────────────────────────────────────────────────────────────────────────────────────────────────────────────────╮</span>\n",
              "<span style=\"color: #008080; text-decoration-color: #008080\">│</span> <span style=\"color: #008080; text-decoration-color: #008080; font-weight: bold\">🔧 Tool Call:</span> think_tool                                                                                        <span style=\"color: #008080; text-decoration-color: #008080\">│</span>\n",
              "<span style=\"color: #008080; text-decoration-color: #008080\">│</span>                                                                                                                 <span style=\"color: #008080; text-decoration-color: #008080\">│</span>\n",
              "<span style=\"color: #008080; text-decoration-color: #008080\">│</span> <span style=\"color: #7f7f7f; text-decoration-color: #7f7f7f\">Args: {\"reflection\": \"1. **Analysis of current findings**: The search results provide a comprehensive overview </span> <span style=\"color: #008080; text-decoration-color: #008080\">│</span>\n",
              "<span style=\"color: #008080; text-decoration-color: #008080\">│</span> <span style=\"color: #7f7f7f; text-decoration-color: #7f7f7f\">of Java Servlets, their role in web development, and their lifecycle. Key points include:\\n   - Servlets are </span>   <span style=\"color: #008080; text-decoration-color: #008080\">│</span>\n",
              "<span style=\"color: #008080; text-decoration-color: #008080\">│</span> <span style=\"color: #7f7f7f; text-decoration-color: #7f7f7f\">server-side programs that handle client requests and generate dynamic content.\\n   - They operate under a </span>      <span style=\"color: #008080; text-decoration-color: #008080\">│</span>\n",
              "<span style=\"color: #008080; text-decoration-color: #008080\">│</span> <span style=\"color: #7f7f7f; text-decoration-color: #7f7f7f\">Servlet container (e.g., Apache Tomcat) and follow a lifecycle consisting of `init()`, `service()`, and </span>        <span style=\"color: #008080; text-decoration-color: #008080\">│</span>\n",
              "<span style=\"color: #008080; text-decoration-color: #008080\">│</span> <span style=\"color: #7f7f7f; text-decoration-color: #7f7f7f\">`destroy()` methods.\\n   - Servlets are used for form processing, session management, and integration with </span>     <span style=\"color: #008080; text-decoration-color: #008080\">│</span>\n",
              "<span style=\"color: #008080; text-decoration-color: #008080\">│</span> <span style=\"color: #7f7f7f; text-decoration-color: #7f7f7f\">other Java web technologies like JSP and Spring.\\n   - They offer advantages such as performance, platform </span>     <span style=\"color: #008080; text-decoration-color: #008080\">│</span>\n",
              "<span style=\"color: #008080; text-decoration-color: #008080\">│</span> <span style=\"color: #7f7f7f; text-decoration-color: #7f7f7f\">independence, and robust security.\\n\\n2. **Gap assessment**: While the information on Java Servlets is </span>         <span style=\"color: #008080; text-decoration-color: #008080\">│</span>\n",
              "<span style=\"color: #008080; text-decoration-color: #008080\">│</span> <span style=\"color: #7f7f7f; text-decoration-color: #7f7f7f\">thorough, the next step is to explore the problems they faced that led to the development of frameworks like </span>   <span style=\"color: #008080; text-decoration-color: #008080\">│</span>\n",
              "<span style=\"color: #008080; text-decoration-color: #008080\">│</span> <span style=\"color: #7f7f7f; text-decoration-color: #7f7f7f\">Spring. This includes:\\n   - Complexity in managing dependencies and configurations.\\n   - The need for </span>        <span style=\"color: #008080; text-decoration-color: #008080\">│</span>\n",
              "<span style=\"color: #008080; text-decoration-color: #008080\">│</span> <span style=\"color: #7f7f7f; text-decoration-color: #7f7f7f\">boilerplate code for common tasks (e.g., dependency injection, transaction management).\\n   - Limited support </span>  <span style=\"color: #008080; text-decoration-color: #008080\">│</span>\n",
              "<span style=\"color: #008080; text-decoration-color: #008080\">│</span> <span style=\"color: #7f7f7f; text-decoration-color: #7f7f7f\">for modern development practices like rapid prototyping and modular application design.\\n\\n3. **Quality </span>        <span style=\"color: #008080; text-decoration-color: #008080\">│</span>\n",
              "<span style=\"color: #008080; text-decoration-color: #008080\">│</span> <span style=\"color: #7f7f7f; text-decoration-color: #7f7f7f\">evaluation**: The current findings provide a solid foundation for understanding Java Servlets. However, to </span>     <span style=\"color: #008080; text-decoration-color: #008080\">│</span>\n",
              "<span style=\"color: #008080; text-decoration-color: #008080\">│</span> <span style=\"color: #7f7f7f; text-decoration-color: #7f7f7f\">fully address the user's request, more information on the limitations of Servlets and the evolution to the </span>     <span style=\"color: #008080; text-decoration-color: #008080\">│</span>\n",
              "<span style=\"color: #008080; text-decoration-color: #008080\">│</span> <span style=\"color: #7f7f7f; text-decoration-color: #7f7f7f\">Spring framework is needed.\\n\\n4. **Strategic decision**: The next step is to conduct a search on the problems </span> <span style=\"color: #008080; text-decoration-color: #008080\">│</span>\n",
              "<span style=\"color: #008080; text-decoration-color: #008080\">│</span> <span style=\"color: #7f7f7f; text-decoration-color: #7f7f7f\">faced by Java Servlets that led to the development of the Spring framework. This will help trace the evolution </span> <span style=\"color: #008080; text-decoration-color: #008080\">│</span>\n",
              "<span style=\"color: #008080; text-decoration-color: #008080\">│</span> <span style=\"color: #7f7f7f; text-decoration-color: #7f7f7f\">from Servlets to Spring and provide a comprehensive answer to the user's query.\"}</span>                               <span style=\"color: #008080; text-decoration-color: #008080\">│</span>\n",
              "<span style=\"color: #008080; text-decoration-color: #008080\">│</span>                                                                                                                 <span style=\"color: #008080; text-decoration-color: #008080\">│</span>\n",
              "<span style=\"color: #008080; text-decoration-color: #008080\">│</span> <span style=\"color: #008000; text-decoration-color: #008000\">✓</span> think_tool executed successfully                                                                              <span style=\"color: #008080; text-decoration-color: #008080\">│</span>\n",
              "<span style=\"color: #008080; text-decoration-color: #008080\">╰─────────────────────────────────────────────────────────────────────────────────────────────────────────────────╯</span>\n",
              "</pre>\n"
            ],
            "text/plain": [
              "\u001b[36m╭─────────────────────────────────────────────────────────────────────────────────────────────────────────────────╮\u001b[0m\n",
              "\u001b[36m│\u001b[0m \u001b[1;36m🔧 Tool Call:\u001b[0m think_tool                                                                                        \u001b[36m│\u001b[0m\n",
              "\u001b[36m│\u001b[0m                                                                                                                 \u001b[36m│\u001b[0m\n",
              "\u001b[36m│\u001b[0m \u001b[2mArgs: {\"reflection\": \"1. **Analysis of current findings**: The search results provide a comprehensive overview \u001b[0m \u001b[36m│\u001b[0m\n",
              "\u001b[36m│\u001b[0m \u001b[2mof Java Servlets, their role in web development, and their lifecycle. Key points include:\\n   - Servlets are \u001b[0m   \u001b[36m│\u001b[0m\n",
              "\u001b[36m│\u001b[0m \u001b[2mserver-side programs that handle client requests and generate dynamic content.\\n   - They operate under a \u001b[0m      \u001b[36m│\u001b[0m\n",
              "\u001b[36m│\u001b[0m \u001b[2mServlet container (e.g., Apache Tomcat) and follow a lifecycle consisting of `init()`, `service()`, and \u001b[0m        \u001b[36m│\u001b[0m\n",
              "\u001b[36m│\u001b[0m \u001b[2m`destroy()` methods.\\n   - Servlets are used for form processing, session management, and integration with \u001b[0m     \u001b[36m│\u001b[0m\n",
              "\u001b[36m│\u001b[0m \u001b[2mother Java web technologies like JSP and Spring.\\n   - They offer advantages such as performance, platform \u001b[0m     \u001b[36m│\u001b[0m\n",
              "\u001b[36m│\u001b[0m \u001b[2mindependence, and robust security.\\n\\n2. **Gap assessment**: While the information on Java Servlets is \u001b[0m         \u001b[36m│\u001b[0m\n",
              "\u001b[36m│\u001b[0m \u001b[2mthorough, the next step is to explore the problems they faced that led to the development of frameworks like \u001b[0m   \u001b[36m│\u001b[0m\n",
              "\u001b[36m│\u001b[0m \u001b[2mSpring. This includes:\\n   - Complexity in managing dependencies and configurations.\\n   - The need for \u001b[0m        \u001b[36m│\u001b[0m\n",
              "\u001b[36m│\u001b[0m \u001b[2mboilerplate code for common tasks (e.g., dependency injection, transaction management).\\n   - Limited support \u001b[0m  \u001b[36m│\u001b[0m\n",
              "\u001b[36m│\u001b[0m \u001b[2mfor modern development practices like rapid prototyping and modular application design.\\n\\n3. **Quality \u001b[0m        \u001b[36m│\u001b[0m\n",
              "\u001b[36m│\u001b[0m \u001b[2mevaluation**: The current findings provide a solid foundation for understanding Java Servlets. However, to \u001b[0m     \u001b[36m│\u001b[0m\n",
              "\u001b[36m│\u001b[0m \u001b[2mfully address the user's request, more information on the limitations of Servlets and the evolution to the \u001b[0m     \u001b[36m│\u001b[0m\n",
              "\u001b[36m│\u001b[0m \u001b[2mSpring framework is needed.\\n\\n4. **Strategic decision**: The next step is to conduct a search on the problems \u001b[0m \u001b[36m│\u001b[0m\n",
              "\u001b[36m│\u001b[0m \u001b[2mfaced by Java Servlets that led to the development of the Spring framework. This will help trace the evolution \u001b[0m \u001b[36m│\u001b[0m\n",
              "\u001b[36m│\u001b[0m \u001b[2mfrom Servlets to Spring and provide a comprehensive answer to the user's query.\"}\u001b[0m                               \u001b[36m│\u001b[0m\n",
              "\u001b[36m│\u001b[0m                                                                                                                 \u001b[36m│\u001b[0m\n",
              "\u001b[36m│\u001b[0m \u001b[32m✓\u001b[0m think_tool executed successfully                                                                              \u001b[36m│\u001b[0m\n",
              "\u001b[36m╰─────────────────────────────────────────────────────────────────────────────────────────────────────────────────╯\u001b[0m\n"
            ]
          },
          "metadata": {},
          "output_type": "display_data"
        },
        {
          "name": "stdout",
          "output_type": "stream",
          "text": [
            "Utilization percentage: 43.669999999999995%\n"
          ]
        },
        {
          "data": {
            "text/html": [
              "<pre style=\"white-space:pre;overflow-x:auto;line-height:normal;font-family:Menlo,'DejaVu Sans Mono',consolas,'Courier New',monospace\">Refining result <span style=\"color: #008080; text-decoration-color: #008080; font-weight: bold\">1</span>\n",
              "</pre>\n"
            ],
            "text/plain": [
              "Refining result \u001b[1;36m1\u001b[0m\n"
            ]
          },
          "metadata": {},
          "output_type": "display_data"
        },
        {
          "data": {
            "text/html": [
              "<pre style=\"white-space:pre;overflow-x:auto;line-height:normal;font-family:Menlo,'DejaVu Sans Mono',consolas,'Courier New',monospace\">Refining result <span style=\"color: #008080; text-decoration-color: #008080; font-weight: bold\">2</span>\n",
              "</pre>\n"
            ],
            "text/plain": [
              "Refining result \u001b[1;36m2\u001b[0m\n"
            ]
          },
          "metadata": {},
          "output_type": "display_data"
        },
        {
          "data": {
            "text/html": [
              "<pre style=\"white-space:pre;overflow-x:auto;line-height:normal;font-family:Menlo,'DejaVu Sans Mono',consolas,'Courier New',monospace\">Refining result <span style=\"color: #008080; text-decoration-color: #008080; font-weight: bold\">3</span>\n",
              "</pre>\n"
            ],
            "text/plain": [
              "Refining result \u001b[1;36m3\u001b[0m\n"
            ]
          },
          "metadata": {},
          "output_type": "display_data"
        },
        {
          "data": {
            "text/html": [
              "<pre style=\"white-space:pre;overflow-x:auto;line-height:normal;font-family:Menlo,'DejaVu Sans Mono',consolas,'Courier New',monospace\">Refining result <span style=\"color: #008080; text-decoration-color: #008080; font-weight: bold\">4</span>\n",
              "</pre>\n"
            ],
            "text/plain": [
              "Refining result \u001b[1;36m4\u001b[0m\n"
            ]
          },
          "metadata": {},
          "output_type": "display_data"
        },
        {
          "data": {
            "text/html": [
              "<pre style=\"white-space:pre;overflow-x:auto;line-height:normal;font-family:Menlo,'DejaVu Sans Mono',consolas,'Courier New',monospace\">Refining result <span style=\"color: #008080; text-decoration-color: #008080; font-weight: bold\">5</span>\n",
              "</pre>\n"
            ],
            "text/plain": [
              "Refining result \u001b[1;36m5\u001b[0m\n"
            ]
          },
          "metadata": {},
          "output_type": "display_data"
        },
        {
          "data": {
            "text/html": [
              "<pre style=\"white-space:pre;overflow-x:auto;line-height:normal;font-family:Menlo,'DejaVu Sans Mono',consolas,'Courier New',monospace\"></pre>\n"
            ],
            "text/plain": []
          },
          "metadata": {},
          "output_type": "display_data"
        },
        {
          "data": {
            "text/html": [
              "<pre style=\"white-space:pre;overflow-x:auto;line-height:normal;font-family:Menlo,'DejaVu Sans Mono',consolas,'Courier New',monospace\"><span style=\"color: #008080; text-decoration-color: #008080\">╭─────────────────────────────────────────────────────────────────────────────────────────────────────────────────╮</span>\n",
              "<span style=\"color: #008080; text-decoration-color: #008080\">│</span> <span style=\"color: #008080; text-decoration-color: #008080; font-weight: bold\">🔧 Tool Call:</span> exa_search_and_refine                                                                             <span style=\"color: #008080; text-decoration-color: #008080\">│</span>\n",
              "<span style=\"color: #008080; text-decoration-color: #008080\">│</span>                                                                                                                 <span style=\"color: #008080; text-decoration-color: #008080\">│</span>\n",
              "<span style=\"color: #008080; text-decoration-color: #008080\">│</span> <span style=\"color: #7f7f7f; text-decoration-color: #7f7f7f\">Args: {\"query\": \"Problems with Java Servlets that led to the development of the Spring framework\", </span>             <span style=\"color: #008080; text-decoration-color: #008080\">│</span>\n",
              "<span style=\"color: #008080; text-decoration-color: #008080\">│</span> <span style=\"color: #7f7f7f; text-decoration-color: #7f7f7f\">\"num_results\": 5}</span>                                                                                               <span style=\"color: #008080; text-decoration-color: #008080\">│</span>\n",
              "<span style=\"color: #008080; text-decoration-color: #008080\">│</span>                                                                                                                 <span style=\"color: #008080; text-decoration-color: #008080\">│</span>\n",
              "<span style=\"color: #008080; text-decoration-color: #008080\">│</span> <span style=\"color: #008000; text-decoration-color: #008000\">✓</span> Found 5 results                                                                                               <span style=\"color: #008080; text-decoration-color: #008080\">│</span>\n",
              "<span style=\"color: #008080; text-decoration-color: #008080\">╰─────────────────────────────────────────────────────────────────────────────────────────────────────────────────╯</span>\n",
              "</pre>\n"
            ],
            "text/plain": [
              "\u001b[36m╭─────────────────────────────────────────────────────────────────────────────────────────────────────────────────╮\u001b[0m\n",
              "\u001b[36m│\u001b[0m \u001b[1;36m🔧 Tool Call:\u001b[0m exa_search_and_refine                                                                             \u001b[36m│\u001b[0m\n",
              "\u001b[36m│\u001b[0m                                                                                                                 \u001b[36m│\u001b[0m\n",
              "\u001b[36m│\u001b[0m \u001b[2mArgs: {\"query\": \"Problems with Java Servlets that led to the development of the Spring framework\", \u001b[0m             \u001b[36m│\u001b[0m\n",
              "\u001b[36m│\u001b[0m \u001b[2m\"num_results\": 5}\u001b[0m                                                                                               \u001b[36m│\u001b[0m\n",
              "\u001b[36m│\u001b[0m                                                                                                                 \u001b[36m│\u001b[0m\n",
              "\u001b[36m│\u001b[0m \u001b[32m✓\u001b[0m Found 5 results                                                                                               \u001b[36m│\u001b[0m\n",
              "\u001b[36m╰─────────────────────────────────────────────────────────────────────────────────────────────────────────────────╯\u001b[0m\n"
            ]
          },
          "metadata": {},
          "output_type": "display_data"
        },
        {
          "name": "stdout",
          "output_type": "stream",
          "text": [
            "Utilization percentage: 67.4%\n"
          ]
        },
        {
          "data": {
            "text/html": [
              "<pre style=\"white-space:pre;overflow-x:auto;line-height:normal;font-family:Menlo,'DejaVu Sans Mono',consolas,'Courier New',monospace\"></pre>\n"
            ],
            "text/plain": []
          },
          "metadata": {},
          "output_type": "display_data"
        },
        {
          "data": {
            "text/html": [
              "<pre style=\"white-space:pre;overflow-x:auto;line-height:normal;font-family:Menlo,'DejaVu Sans Mono',consolas,'Courier New',monospace\"><span style=\"color: #008080; text-decoration-color: #008080\">╭─────────────────────────────────────────────────────────────────────────────────────────────────────────────────╮</span>\n",
              "<span style=\"color: #008080; text-decoration-color: #008080\">│</span> <span style=\"color: #008080; text-decoration-color: #008080; font-weight: bold\">🔧 Tool Call:</span> think_tool                                                                                        <span style=\"color: #008080; text-decoration-color: #008080\">│</span>\n",
              "<span style=\"color: #008080; text-decoration-color: #008080\">│</span>                                                                                                                 <span style=\"color: #008080; text-decoration-color: #008080\">│</span>\n",
              "<span style=\"color: #008080; text-decoration-color: #008080\">│</span> <span style=\"color: #7f7f7f; text-decoration-color: #7f7f7f\">Args: {\"reflection\": \"1. **Analysis of current findings**: The search results provide a clear understanding of </span> <span style=\"color: #008080; text-decoration-color: #008080\">│</span>\n",
              "<span style=\"color: #008080; text-decoration-color: #008080\">│</span> <span style=\"color: #7f7f7f; text-decoration-color: #7f7f7f\">the problems with Java Servlets that led to the development of the Spring framework. Key points include:\\n   - </span> <span style=\"color: #008080; text-decoration-color: #008080\">│</span>\n",
              "<span style=\"color: #008080; text-decoration-color: #008080\">│</span> <span style=\"color: #7f7f7f; text-decoration-color: #7f7f7f\">**Excessive boilerplate code**: Servlets required developers to handle low-level HTTP requests and responses </span>   <span style=\"color: #008080; text-decoration-color: #008080\">│</span>\n",
              "<span style=\"color: #008080; text-decoration-color: #008080\">│</span> <span style=\"color: #7f7f7f; text-decoration-color: #7f7f7f\">manually, leading to repetitive and verbose code.\\n   - **Heavy XML configuration**: Traditional Servlet </span>       <span style=\"color: #008080; text-decoration-color: #008080\">│</span>\n",
              "<span style=\"color: #008080; text-decoration-color: #008080\">│</span> <span style=\"color: #7f7f7f; text-decoration-color: #7f7f7f\">applications relied on extensive XML files (e.g., `web.xml`) for configuration, making the setup cumbersome and</span> <span style=\"color: #008080; text-decoration-color: #008080\">│</span>\n",
              "<span style=\"color: #008080; text-decoration-color: #008080\">│</span> <span style=\"color: #7f7f7f; text-decoration-color: #7f7f7f\">error-prone.\\n   - **Lack of convention over configuration**: Servlets offered no opinionated defaults, </span>        <span style=\"color: #008080; text-decoration-color: #008080\">│</span>\n",
              "<span style=\"color: #008080; text-decoration-color: #008080\">│</span> <span style=\"color: #7f7f7f; text-decoration-color: #7f7f7f\">requiring developers to configure every aspect manually, slowing development.\\n   - **Manual dependency </span>        <span style=\"color: #008080; text-decoration-color: #008080\">│</span>\n",
              "<span style=\"color: #008080; text-decoration-color: #008080\">│</span> <span style=\"color: #7f7f7f; text-decoration-color: #7f7f7f\">management**: There was no built-in mechanism for managing dependencies, forcing developers to handle library </span>  <span style=\"color: #008080; text-decoration-color: #008080\">│</span>\n",
              "<span style=\"color: #008080; text-decoration-color: #008080\">│</span> <span style=\"color: #7f7f7f; text-decoration-color: #7f7f7f\">versions and integrations individually.\\n   - **Complex deployment model**: Servlet applications required </span>      <span style=\"color: #008080; text-decoration-color: #008080\">│</span>\n",
              "<span style=\"color: #008080; text-decoration-color: #008080\">│</span> <span style=\"color: #7f7f7f; text-decoration-color: #7f7f7f\">packaging as WAR files and deployment on external containers, often requiring server restarts for changes.\\n   </span> <span style=\"color: #008080; text-decoration-color: #008080\">│</span>\n",
              "<span style=\"color: #008080; text-decoration-color: #008080\">│</span> <span style=\"color: #7f7f7f; text-decoration-color: #7f7f7f\">- **Tight coupling of concerns**: Servlets often combined request processing, business logic, and presentation,</span> <span style=\"color: #008080; text-decoration-color: #008080\">│</span>\n",
              "<span style=\"color: #008080; text-decoration-color: #008080\">│</span> <span style=\"color: #7f7f7f; text-decoration-color: #7f7f7f\">making code hard to maintain and test.\\n   - **Poor separation between logic and presentation**: HTML was </span>      <span style=\"color: #008080; text-decoration-color: #008080\">│</span>\n",
              "<span style=\"color: #008080; text-decoration-color: #008080\">│</span> <span style=\"color: #7f7f7f; text-decoration-color: #7f7f7f\">embedded directly in Java code, mixing presentation with application logic.\\n\\n2. **Gap assessment**: While the</span> <span style=\"color: #008080; text-decoration-color: #008080\">│</span>\n",
              "<span style=\"color: #008080; text-decoration-color: #008080\">│</span> <span style=\"color: #7f7f7f; text-decoration-color: #7f7f7f\">problems with Java Servlets are well-documented, the next step is to explore the core functionalities of the </span>   <span style=\"color: #008080; text-decoration-color: #008080\">│</span>\n",
              "<span style=\"color: #008080; text-decoration-color: #008080\">│</span> <span style=\"color: #7f7f7f; text-decoration-color: #7f7f7f\">Spring framework and how it addressed these issues. This includes:\\n   - **Dependency injection (IoC)**: How </span>   <span style=\"color: #008080; text-decoration-color: #008080\">│</span>\n",
              "<span style=\"color: #008080; text-decoration-color: #008080\">│</span> <span style=\"color: #7f7f7f; text-decoration-color: #7f7f7f\">Spring manages dependencies and promotes loose coupling.\\n   - **Modular architecture**: How Spring allows for </span> <span style=\"color: #008080; text-decoration-color: #008080\">│</span>\n",
              "<span style=\"color: #008080; text-decoration-color: #008080\">│</span> <span style=\"color: #7f7f7f; text-decoration-color: #7f7f7f\">a more modular and maintainable codebase.\\n   - **Simplified configuration**: How Spring reduces the need for </span>  <span style=\"color: #008080; text-decoration-color: #008080\">│</span>\n",
              "<span style=\"color: #008080; text-decoration-color: #008080\">│</span> <span style=\"color: #7f7f7f; text-decoration-color: #7f7f7f\">verbose XML configuration.\\n   - **Integration with other technologies**: How Spring integrates with databases,</span> <span style=\"color: #008080; text-decoration-color: #008080\">│</span>\n",
              "<span style=\"color: #008080; text-decoration-color: #008080\">│</span> <span style=\"color: #7f7f7f; text-decoration-color: #7f7f7f\">web frameworks, and other Java EE components.\\n\\n3. **Quality evaluation**: The current findings provide a </span>     <span style=\"color: #008080; text-decoration-color: #008080\">│</span>\n",
              "<span style=\"color: #008080; text-decoration-color: #008080\">│</span> <span style=\"color: #7f7f7f; text-decoration-color: #7f7f7f\">solid foundation for understanding the limitations of Java Servlets and the motivation behind the Spring </span>       <span style=\"color: #008080; text-decoration-color: #008080\">│</span>\n",
              "<span style=\"color: #008080; text-decoration-color: #008080\">│</span> <span style=\"color: #7f7f7f; text-decoration-color: #7f7f7f\">framework. However, more information on the Spring framework's core functionalities is needed to fully address </span> <span style=\"color: #008080; text-decoration-color: #008080\">│</span>\n",
              "<span style=\"color: #008080; text-decoration-color: #008080\">│</span> <span style=\"color: #7f7f7f; text-decoration-color: #7f7f7f\">the user's request.\\n\\n4. **Strategic decision**: The next step is to conduct a search on the core </span>             <span style=\"color: #008080; text-decoration-color: #008080\">│</span>\n",
              "<span style=\"color: #008080; text-decoration-color: #008080\">│</span> <span style=\"color: #7f7f7f; text-decoration-color: #7f7f7f\">functionalities of the Spring framework and how it evolved to address the limitations of Java Servlets. This </span>   <span style=\"color: #008080; text-decoration-color: #008080\">│</span>\n",
              "<span style=\"color: #008080; text-decoration-color: #008080\">│</span> <span style=\"color: #7f7f7f; text-decoration-color: #7f7f7f\">will help provide a comprehensive answer to the user's query.\"}</span>                                                 <span style=\"color: #008080; text-decoration-color: #008080\">│</span>\n",
              "<span style=\"color: #008080; text-decoration-color: #008080\">│</span>                                                                                                                 <span style=\"color: #008080; text-decoration-color: #008080\">│</span>\n",
              "<span style=\"color: #008080; text-decoration-color: #008080\">│</span> <span style=\"color: #008000; text-decoration-color: #008000\">✓</span> think_tool executed successfully                                                                              <span style=\"color: #008080; text-decoration-color: #008080\">│</span>\n",
              "<span style=\"color: #008080; text-decoration-color: #008080\">╰─────────────────────────────────────────────────────────────────────────────────────────────────────────────────╯</span>\n",
              "</pre>\n"
            ],
            "text/plain": [
              "\u001b[36m╭─────────────────────────────────────────────────────────────────────────────────────────────────────────────────╮\u001b[0m\n",
              "\u001b[36m│\u001b[0m \u001b[1;36m🔧 Tool Call:\u001b[0m think_tool                                                                                        \u001b[36m│\u001b[0m\n",
              "\u001b[36m│\u001b[0m                                                                                                                 \u001b[36m│\u001b[0m\n",
              "\u001b[36m│\u001b[0m \u001b[2mArgs: {\"reflection\": \"1. **Analysis of current findings**: The search results provide a clear understanding of \u001b[0m \u001b[36m│\u001b[0m\n",
              "\u001b[36m│\u001b[0m \u001b[2mthe problems with Java Servlets that led to the development of the Spring framework. Key points include:\\n   - \u001b[0m \u001b[36m│\u001b[0m\n",
              "\u001b[36m│\u001b[0m \u001b[2m**Excessive boilerplate code**: Servlets required developers to handle low-level HTTP requests and responses \u001b[0m   \u001b[36m│\u001b[0m\n",
              "\u001b[36m│\u001b[0m \u001b[2mmanually, leading to repetitive and verbose code.\\n   - **Heavy XML configuration**: Traditional Servlet \u001b[0m       \u001b[36m│\u001b[0m\n",
              "\u001b[36m│\u001b[0m \u001b[2mapplications relied on extensive XML files (e.g., `web.xml`) for configuration, making the setup cumbersome and\u001b[0m \u001b[36m│\u001b[0m\n",
              "\u001b[36m│\u001b[0m \u001b[2merror-prone.\\n   - **Lack of convention over configuration**: Servlets offered no opinionated defaults, \u001b[0m        \u001b[36m│\u001b[0m\n",
              "\u001b[36m│\u001b[0m \u001b[2mrequiring developers to configure every aspect manually, slowing development.\\n   - **Manual dependency \u001b[0m        \u001b[36m│\u001b[0m\n",
              "\u001b[36m│\u001b[0m \u001b[2mmanagement**: There was no built-in mechanism for managing dependencies, forcing developers to handle library \u001b[0m  \u001b[36m│\u001b[0m\n",
              "\u001b[36m│\u001b[0m \u001b[2mversions and integrations individually.\\n   - **Complex deployment model**: Servlet applications required \u001b[0m      \u001b[36m│\u001b[0m\n",
              "\u001b[36m│\u001b[0m \u001b[2mpackaging as WAR files and deployment on external containers, often requiring server restarts for changes.\\n   \u001b[0m \u001b[36m│\u001b[0m\n",
              "\u001b[36m│\u001b[0m \u001b[2m- **Tight coupling of concerns**: Servlets often combined request processing, business logic, and presentation,\u001b[0m \u001b[36m│\u001b[0m\n",
              "\u001b[36m│\u001b[0m \u001b[2mmaking code hard to maintain and test.\\n   - **Poor separation between logic and presentation**: HTML was \u001b[0m      \u001b[36m│\u001b[0m\n",
              "\u001b[36m│\u001b[0m \u001b[2membedded directly in Java code, mixing presentation with application logic.\\n\\n2. **Gap assessment**: While the\u001b[0m \u001b[36m│\u001b[0m\n",
              "\u001b[36m│\u001b[0m \u001b[2mproblems with Java Servlets are well-documented, the next step is to explore the core functionalities of the \u001b[0m   \u001b[36m│\u001b[0m\n",
              "\u001b[36m│\u001b[0m \u001b[2mSpring framework and how it addressed these issues. This includes:\\n   - **Dependency injection (IoC)**: How \u001b[0m   \u001b[36m│\u001b[0m\n",
              "\u001b[36m│\u001b[0m \u001b[2mSpring manages dependencies and promotes loose coupling.\\n   - **Modular architecture**: How Spring allows for \u001b[0m \u001b[36m│\u001b[0m\n",
              "\u001b[36m│\u001b[0m \u001b[2ma more modular and maintainable codebase.\\n   - **Simplified configuration**: How Spring reduces the need for \u001b[0m  \u001b[36m│\u001b[0m\n",
              "\u001b[36m│\u001b[0m \u001b[2mverbose XML configuration.\\n   - **Integration with other technologies**: How Spring integrates with databases,\u001b[0m \u001b[36m│\u001b[0m\n",
              "\u001b[36m│\u001b[0m \u001b[2mweb frameworks, and other Java EE components.\\n\\n3. **Quality evaluation**: The current findings provide a \u001b[0m     \u001b[36m│\u001b[0m\n",
              "\u001b[36m│\u001b[0m \u001b[2msolid foundation for understanding the limitations of Java Servlets and the motivation behind the Spring \u001b[0m       \u001b[36m│\u001b[0m\n",
              "\u001b[36m│\u001b[0m \u001b[2mframework. However, more information on the Spring framework's core functionalities is needed to fully address \u001b[0m \u001b[36m│\u001b[0m\n",
              "\u001b[36m│\u001b[0m \u001b[2mthe user's request.\\n\\n4. **Strategic decision**: The next step is to conduct a search on the core \u001b[0m             \u001b[36m│\u001b[0m\n",
              "\u001b[36m│\u001b[0m \u001b[2mfunctionalities of the Spring framework and how it evolved to address the limitations of Java Servlets. This \u001b[0m   \u001b[36m│\u001b[0m\n",
              "\u001b[36m│\u001b[0m \u001b[2mwill help provide a comprehensive answer to the user's query.\"}\u001b[0m                                                 \u001b[36m│\u001b[0m\n",
              "\u001b[36m│\u001b[0m                                                                                                                 \u001b[36m│\u001b[0m\n",
              "\u001b[36m│\u001b[0m \u001b[32m✓\u001b[0m think_tool executed successfully                                                                              \u001b[36m│\u001b[0m\n",
              "\u001b[36m╰─────────────────────────────────────────────────────────────────────────────────────────────────────────────────╯\u001b[0m\n"
            ]
          },
          "metadata": {},
          "output_type": "display_data"
        },
        {
          "name": "stdout",
          "output_type": "stream",
          "text": [
            "Utilization percentage: 75.53999999999999%\n"
          ]
        },
        {
          "data": {
            "text/html": [
              "<pre style=\"white-space:pre;overflow-x:auto;line-height:normal;font-family:Menlo,'DejaVu Sans Mono',consolas,'Courier New',monospace\">Refining result <span style=\"color: #008080; text-decoration-color: #008080; font-weight: bold\">1</span>\n",
              "</pre>\n"
            ],
            "text/plain": [
              "Refining result \u001b[1;36m1\u001b[0m\n"
            ]
          },
          "metadata": {},
          "output_type": "display_data"
        },
        {
          "data": {
            "text/html": [
              "<pre style=\"white-space:pre;overflow-x:auto;line-height:normal;font-family:Menlo,'DejaVu Sans Mono',consolas,'Courier New',monospace\">Refining result <span style=\"color: #008080; text-decoration-color: #008080; font-weight: bold\">2</span>\n",
              "</pre>\n"
            ],
            "text/plain": [
              "Refining result \u001b[1;36m2\u001b[0m\n"
            ]
          },
          "metadata": {},
          "output_type": "display_data"
        },
        {
          "data": {
            "text/html": [
              "<pre style=\"white-space:pre;overflow-x:auto;line-height:normal;font-family:Menlo,'DejaVu Sans Mono',consolas,'Courier New',monospace\">Refining result <span style=\"color: #008080; text-decoration-color: #008080; font-weight: bold\">3</span>\n",
              "</pre>\n"
            ],
            "text/plain": [
              "Refining result \u001b[1;36m3\u001b[0m\n"
            ]
          },
          "metadata": {},
          "output_type": "display_data"
        },
        {
          "data": {
            "text/html": [
              "<pre style=\"white-space:pre;overflow-x:auto;line-height:normal;font-family:Menlo,'DejaVu Sans Mono',consolas,'Courier New',monospace\">Refining result <span style=\"color: #008080; text-decoration-color: #008080; font-weight: bold\">4</span>\n",
              "</pre>\n"
            ],
            "text/plain": [
              "Refining result \u001b[1;36m4\u001b[0m\n"
            ]
          },
          "metadata": {},
          "output_type": "display_data"
        },
        {
          "data": {
            "text/html": [
              "<pre style=\"white-space:pre;overflow-x:auto;line-height:normal;font-family:Menlo,'DejaVu Sans Mono',consolas,'Courier New',monospace\">Refining result <span style=\"color: #008080; text-decoration-color: #008080; font-weight: bold\">5</span>\n",
              "</pre>\n"
            ],
            "text/plain": [
              "Refining result \u001b[1;36m5\u001b[0m\n"
            ]
          },
          "metadata": {},
          "output_type": "display_data"
        },
        {
          "data": {
            "text/html": [
              "<pre style=\"white-space:pre;overflow-x:auto;line-height:normal;font-family:Menlo,'DejaVu Sans Mono',consolas,'Courier New',monospace\"></pre>\n"
            ],
            "text/plain": []
          },
          "metadata": {},
          "output_type": "display_data"
        },
        {
          "data": {
            "text/html": [
              "<pre style=\"white-space:pre;overflow-x:auto;line-height:normal;font-family:Menlo,'DejaVu Sans Mono',consolas,'Courier New',monospace\"><span style=\"color: #008080; text-decoration-color: #008080\">╭─────────────────────────────────────────────────────────────────────────────────────────────────────────────────╮</span>\n",
              "<span style=\"color: #008080; text-decoration-color: #008080\">│</span> <span style=\"color: #008080; text-decoration-color: #008080; font-weight: bold\">🔧 Tool Call:</span> exa_search_and_refine                                                                             <span style=\"color: #008080; text-decoration-color: #008080\">│</span>\n",
              "<span style=\"color: #008080; text-decoration-color: #008080\">│</span>                                                                                                                 <span style=\"color: #008080; text-decoration-color: #008080\">│</span>\n",
              "<span style=\"color: #008080; text-decoration-color: #008080\">│</span> <span style=\"color: #7f7f7f; text-decoration-color: #7f7f7f\">Args: {\"query\": \"Core functionalities of the Spring framework and how it evolved from Java Servlets\", </span>          <span style=\"color: #008080; text-decoration-color: #008080\">│</span>\n",
              "<span style=\"color: #008080; text-decoration-color: #008080\">│</span> <span style=\"color: #7f7f7f; text-decoration-color: #7f7f7f\">\"num_results\": 5}</span>                                                                                               <span style=\"color: #008080; text-decoration-color: #008080\">│</span>\n",
              "<span style=\"color: #008080; text-decoration-color: #008080\">│</span>                                                                                                                 <span style=\"color: #008080; text-decoration-color: #008080\">│</span>\n",
              "<span style=\"color: #008080; text-decoration-color: #008080\">│</span> <span style=\"color: #008000; text-decoration-color: #008000\">✓</span> Found 5 results                                                                                               <span style=\"color: #008080; text-decoration-color: #008080\">│</span>\n",
              "<span style=\"color: #008080; text-decoration-color: #008080\">╰─────────────────────────────────────────────────────────────────────────────────────────────────────────────────╯</span>\n",
              "</pre>\n"
            ],
            "text/plain": [
              "\u001b[36m╭─────────────────────────────────────────────────────────────────────────────────────────────────────────────────╮\u001b[0m\n",
              "\u001b[36m│\u001b[0m \u001b[1;36m🔧 Tool Call:\u001b[0m exa_search_and_refine                                                                             \u001b[36m│\u001b[0m\n",
              "\u001b[36m│\u001b[0m                                                                                                                 \u001b[36m│\u001b[0m\n",
              "\u001b[36m│\u001b[0m \u001b[2mArgs: {\"query\": \"Core functionalities of the Spring framework and how it evolved from Java Servlets\", \u001b[0m          \u001b[36m│\u001b[0m\n",
              "\u001b[36m│\u001b[0m \u001b[2m\"num_results\": 5}\u001b[0m                                                                                               \u001b[36m│\u001b[0m\n",
              "\u001b[36m│\u001b[0m                                                                                                                 \u001b[36m│\u001b[0m\n",
              "\u001b[36m│\u001b[0m \u001b[32m✓\u001b[0m Found 5 results                                                                                               \u001b[36m│\u001b[0m\n",
              "\u001b[36m╰─────────────────────────────────────────────────────────────────────────────────────────────────────────────────╯\u001b[0m\n"
            ]
          },
          "metadata": {},
          "output_type": "display_data"
        },
        {
          "name": "stdout",
          "output_type": "stream",
          "text": [
            "Utilization percentage: 121.61999999999999%\n",
            "Compacting conversation...\n",
            "   ✓ Saved 10,792 tokens (12,162 → 1,370)\n",
            "Utilization percentage: 13.700000000000001%\n"
          ]
        },
        {
          "data": {
            "text/html": [
              "<pre style=\"white-space:pre;overflow-x:auto;line-height:normal;font-family:Menlo,'DejaVu Sans Mono',consolas,'Courier New',monospace\"></pre>\n"
            ],
            "text/plain": []
          },
          "metadata": {},
          "output_type": "display_data"
        },
        {
          "data": {
            "text/html": [
              "<pre style=\"white-space:pre;overflow-x:auto;line-height:normal;font-family:Menlo,'DejaVu Sans Mono',consolas,'Courier New',monospace\"><span style=\"color: #008080; text-decoration-color: #008080\">╭─────────────────────────────────────────────────────────────────────────────────────────────────────────────────╮</span>\n",
              "<span style=\"color: #008080; text-decoration-color: #008080\">│</span> <span style=\"color: #008080; text-decoration-color: #008080; font-weight: bold\">🔧 Tool Call:</span> think_tool                                                                                        <span style=\"color: #008080; text-decoration-color: #008080\">│</span>\n",
              "<span style=\"color: #008080; text-decoration-color: #008080\">│</span>                                                                                                                 <span style=\"color: #008080; text-decoration-color: #008080\">│</span>\n",
              "<span style=\"color: #008080; text-decoration-color: #008080\">│</span> <span style=\"color: #7f7f7f; text-decoration-color: #7f7f7f\">Args: {\"reflection\": \"Analysis of current findings: I have gathered foundational knowledge about Java Servlets,</span> <span style=\"color: #008080; text-decoration-color: #008080\">│</span>\n",
              "<span style=\"color: #008080; text-decoration-color: #008080\">│</span> <span style=\"color: #7f7f7f; text-decoration-color: #7f7f7f\">the problems they presented, and how the Spring framework evolved to solve those issues. I also have an </span>        <span style=\"color: #008080; text-decoration-color: #008080\">│</span>\n",
              "<span style=\"color: #008080; text-decoration-color: #008080\">│</span> <span style=\"color: #7f7f7f; text-decoration-color: #7f7f7f\">understanding of Spring Boot's role in streamlining development further.\\n\\nGap assessment: I need more </span>        <span style=\"color: #008080; text-decoration-color: #008080\">│</span>\n",
              "<span style=\"color: #008080; text-decoration-color: #008080\">│</span> <span style=\"color: #7f7f7f; text-decoration-color: #7f7f7f\">specific information on the core functionalities of the Spring framework and the essential knowledge required </span>  <span style=\"color: #008080; text-decoration-color: #008080\">│</span>\n",
              "<span style=\"color: #008080; text-decoration-color: #008080\">│</span> <span style=\"color: #7f7f7f; text-decoration-color: #7f7f7f\">for developers working with it. Additionally, I should verify if there are any specific problems that each </span>     <span style=\"color: #008080; text-decoration-color: #008080\">│</span>\n",
              "<span style=\"color: #008080; text-decoration-color: #008080\">│</span> <span style=\"color: #7f7f7f; text-decoration-color: #7f7f7f\">iteration of the framework aimed to solve beyond what I've already gathered.\\n\\nQuality evaluation: I have a </span>   <span style=\"color: #008080; text-decoration-color: #008080\">│</span>\n",
              "<span style=\"color: #008080; text-decoration-color: #008080\">│</span> <span style=\"color: #7f7f7f; text-decoration-color: #7f7f7f\">good foundation, but I need more detailed information on the core functionalities of Spring and the essential </span>  <span style=\"color: #008080; text-decoration-color: #008080\">│</span>\n",
              "<span style=\"color: #008080; text-decoration-color: #008080\">│</span> <span style=\"color: #7f7f7f; text-decoration-color: #7f7f7f\">knowledge for developers to provide a comprehensive answer.\\n\\nStrategic decision: I should conduct a more </span>     <span style=\"color: #008080; text-decoration-color: #008080\">│</span>\n",
              "<span style=\"color: #008080; text-decoration-color: #008080\">│</span> <span style=\"color: #7f7f7f; text-decoration-color: #7f7f7f\">focused search on the core functionalities of the Spring framework and the essential knowledge required for </span>    <span style=\"color: #008080; text-decoration-color: #008080\">│</span>\n",
              "<span style=\"color: #008080; text-decoration-color: #008080\">│</span> <span style=\"color: #7f7f7f; text-decoration-color: #7f7f7f\">developers working with it.\"}</span>                                                                                   <span style=\"color: #008080; text-decoration-color: #008080\">│</span>\n",
              "<span style=\"color: #008080; text-decoration-color: #008080\">│</span>                                                                                                                 <span style=\"color: #008080; text-decoration-color: #008080\">│</span>\n",
              "<span style=\"color: #008080; text-decoration-color: #008080\">│</span> <span style=\"color: #008000; text-decoration-color: #008000\">✓</span> think_tool executed successfully                                                                              <span style=\"color: #008080; text-decoration-color: #008080\">│</span>\n",
              "<span style=\"color: #008080; text-decoration-color: #008080\">╰─────────────────────────────────────────────────────────────────────────────────────────────────────────────────╯</span>\n",
              "</pre>\n"
            ],
            "text/plain": [
              "\u001b[36m╭─────────────────────────────────────────────────────────────────────────────────────────────────────────────────╮\u001b[0m\n",
              "\u001b[36m│\u001b[0m \u001b[1;36m🔧 Tool Call:\u001b[0m think_tool                                                                                        \u001b[36m│\u001b[0m\n",
              "\u001b[36m│\u001b[0m                                                                                                                 \u001b[36m│\u001b[0m\n",
              "\u001b[36m│\u001b[0m \u001b[2mArgs: {\"reflection\": \"Analysis of current findings: I have gathered foundational knowledge about Java Servlets,\u001b[0m \u001b[36m│\u001b[0m\n",
              "\u001b[36m│\u001b[0m \u001b[2mthe problems they presented, and how the Spring framework evolved to solve those issues. I also have an \u001b[0m        \u001b[36m│\u001b[0m\n",
              "\u001b[36m│\u001b[0m \u001b[2munderstanding of Spring Boot's role in streamlining development further.\\n\\nGap assessment: I need more \u001b[0m        \u001b[36m│\u001b[0m\n",
              "\u001b[36m│\u001b[0m \u001b[2mspecific information on the core functionalities of the Spring framework and the essential knowledge required \u001b[0m  \u001b[36m│\u001b[0m\n",
              "\u001b[36m│\u001b[0m \u001b[2mfor developers working with it. Additionally, I should verify if there are any specific problems that each \u001b[0m     \u001b[36m│\u001b[0m\n",
              "\u001b[36m│\u001b[0m \u001b[2miteration of the framework aimed to solve beyond what I've already gathered.\\n\\nQuality evaluation: I have a \u001b[0m   \u001b[36m│\u001b[0m\n",
              "\u001b[36m│\u001b[0m \u001b[2mgood foundation, but I need more detailed information on the core functionalities of Spring and the essential \u001b[0m  \u001b[36m│\u001b[0m\n",
              "\u001b[36m│\u001b[0m \u001b[2mknowledge for developers to provide a comprehensive answer.\\n\\nStrategic decision: I should conduct a more \u001b[0m     \u001b[36m│\u001b[0m\n",
              "\u001b[36m│\u001b[0m \u001b[2mfocused search on the core functionalities of the Spring framework and the essential knowledge required for \u001b[0m    \u001b[36m│\u001b[0m\n",
              "\u001b[36m│\u001b[0m \u001b[2mdevelopers working with it.\"}\u001b[0m                                                                                   \u001b[36m│\u001b[0m\n",
              "\u001b[36m│\u001b[0m                                                                                                                 \u001b[36m│\u001b[0m\n",
              "\u001b[36m│\u001b[0m \u001b[32m✓\u001b[0m think_tool executed successfully                                                                              \u001b[36m│\u001b[0m\n",
              "\u001b[36m╰─────────────────────────────────────────────────────────────────────────────────────────────────────────────────╯\u001b[0m\n"
            ]
          },
          "metadata": {},
          "output_type": "display_data"
        },
        {
          "name": "stdout",
          "output_type": "stream",
          "text": [
            "Utilization percentage: 17.53%\n"
          ]
        },
        {
          "data": {
            "text/html": [
              "<pre style=\"white-space:pre;overflow-x:auto;line-height:normal;font-family:Menlo,'DejaVu Sans Mono',consolas,'Courier New',monospace\">Refining result <span style=\"color: #008080; text-decoration-color: #008080; font-weight: bold\">1</span>\n",
              "</pre>\n"
            ],
            "text/plain": [
              "Refining result \u001b[1;36m1\u001b[0m\n"
            ]
          },
          "metadata": {},
          "output_type": "display_data"
        },
        {
          "data": {
            "text/html": [
              "<pre style=\"white-space:pre;overflow-x:auto;line-height:normal;font-family:Menlo,'DejaVu Sans Mono',consolas,'Courier New',monospace\">Refining result <span style=\"color: #008080; text-decoration-color: #008080; font-weight: bold\">2</span>\n",
              "</pre>\n"
            ],
            "text/plain": [
              "Refining result \u001b[1;36m2\u001b[0m\n"
            ]
          },
          "metadata": {},
          "output_type": "display_data"
        },
        {
          "data": {
            "text/html": [
              "<pre style=\"white-space:pre;overflow-x:auto;line-height:normal;font-family:Menlo,'DejaVu Sans Mono',consolas,'Courier New',monospace\">Refining result <span style=\"color: #008080; text-decoration-color: #008080; font-weight: bold\">3</span>\n",
              "</pre>\n"
            ],
            "text/plain": [
              "Refining result \u001b[1;36m3\u001b[0m\n"
            ]
          },
          "metadata": {},
          "output_type": "display_data"
        },
        {
          "data": {
            "text/html": [
              "<pre style=\"white-space:pre;overflow-x:auto;line-height:normal;font-family:Menlo,'DejaVu Sans Mono',consolas,'Courier New',monospace\">Refining result <span style=\"color: #008080; text-decoration-color: #008080; font-weight: bold\">4</span>\n",
              "</pre>\n"
            ],
            "text/plain": [
              "Refining result \u001b[1;36m4\u001b[0m\n"
            ]
          },
          "metadata": {},
          "output_type": "display_data"
        },
        {
          "data": {
            "text/html": [
              "<pre style=\"white-space:pre;overflow-x:auto;line-height:normal;font-family:Menlo,'DejaVu Sans Mono',consolas,'Courier New',monospace\">Refining result <span style=\"color: #008080; text-decoration-color: #008080; font-weight: bold\">5</span>\n",
              "</pre>\n"
            ],
            "text/plain": [
              "Refining result \u001b[1;36m5\u001b[0m\n"
            ]
          },
          "metadata": {},
          "output_type": "display_data"
        },
        {
          "data": {
            "text/html": [
              "<pre style=\"white-space:pre;overflow-x:auto;line-height:normal;font-family:Menlo,'DejaVu Sans Mono',consolas,'Courier New',monospace\"></pre>\n"
            ],
            "text/plain": []
          },
          "metadata": {},
          "output_type": "display_data"
        },
        {
          "data": {
            "text/html": [
              "<pre style=\"white-space:pre;overflow-x:auto;line-height:normal;font-family:Menlo,'DejaVu Sans Mono',consolas,'Courier New',monospace\"><span style=\"color: #008080; text-decoration-color: #008080\">╭─────────────────────────────────────────────────────────────────────────────────────────────────────────────────╮</span>\n",
              "<span style=\"color: #008080; text-decoration-color: #008080\">│</span> <span style=\"color: #008080; text-decoration-color: #008080; font-weight: bold\">🔧 Tool Call:</span> exa_search_and_refine                                                                             <span style=\"color: #008080; text-decoration-color: #008080\">│</span>\n",
              "<span style=\"color: #008080; text-decoration-color: #008080\">│</span>                                                                                                                 <span style=\"color: #008080; text-decoration-color: #008080\">│</span>\n",
              "<span style=\"color: #008080; text-decoration-color: #008080\">│</span> <span style=\"color: #7f7f7f; text-decoration-color: #7f7f7f\">Args: {\"query\": \"Core functionalities of the Spring framework and essential knowledge for developers\", </span>         <span style=\"color: #008080; text-decoration-color: #008080\">│</span>\n",
              "<span style=\"color: #008080; text-decoration-color: #008080\">│</span> <span style=\"color: #7f7f7f; text-decoration-color: #7f7f7f\">\"num_results\": 5}</span>                                                                                               <span style=\"color: #008080; text-decoration-color: #008080\">│</span>\n",
              "<span style=\"color: #008080; text-decoration-color: #008080\">│</span>                                                                                                                 <span style=\"color: #008080; text-decoration-color: #008080\">│</span>\n",
              "<span style=\"color: #008080; text-decoration-color: #008080\">│</span> <span style=\"color: #008000; text-decoration-color: #008000\">✓</span> Found 5 results                                                                                               <span style=\"color: #008080; text-decoration-color: #008080\">│</span>\n",
              "<span style=\"color: #008080; text-decoration-color: #008080\">╰─────────────────────────────────────────────────────────────────────────────────────────────────────────────────╯</span>\n",
              "</pre>\n"
            ],
            "text/plain": [
              "\u001b[36m╭─────────────────────────────────────────────────────────────────────────────────────────────────────────────────╮\u001b[0m\n",
              "\u001b[36m│\u001b[0m \u001b[1;36m🔧 Tool Call:\u001b[0m exa_search_and_refine                                                                             \u001b[36m│\u001b[0m\n",
              "\u001b[36m│\u001b[0m                                                                                                                 \u001b[36m│\u001b[0m\n",
              "\u001b[36m│\u001b[0m \u001b[2mArgs: {\"query\": \"Core functionalities of the Spring framework and essential knowledge for developers\", \u001b[0m         \u001b[36m│\u001b[0m\n",
              "\u001b[36m│\u001b[0m \u001b[2m\"num_results\": 5}\u001b[0m                                                                                               \u001b[36m│\u001b[0m\n",
              "\u001b[36m│\u001b[0m                                                                                                                 \u001b[36m│\u001b[0m\n",
              "\u001b[36m│\u001b[0m \u001b[32m✓\u001b[0m Found 5 results                                                                                               \u001b[36m│\u001b[0m\n",
              "\u001b[36m╰─────────────────────────────────────────────────────────────────────────────────────────────────────────────────╯\u001b[0m\n"
            ]
          },
          "metadata": {},
          "output_type": "display_data"
        },
        {
          "name": "stdout",
          "output_type": "stream",
          "text": [
            "Utilization percentage: 52.31%\n"
          ]
        },
        {
          "data": {
            "text/html": [
              "<pre style=\"white-space:pre;overflow-x:auto;line-height:normal;font-family:Menlo,'DejaVu Sans Mono',consolas,'Courier New',monospace\"></pre>\n"
            ],
            "text/plain": []
          },
          "metadata": {},
          "output_type": "display_data"
        },
        {
          "data": {
            "text/html": [
              "<pre style=\"white-space:pre;overflow-x:auto;line-height:normal;font-family:Menlo,'DejaVu Sans Mono',consolas,'Courier New',monospace\"><span style=\"color: #008080; text-decoration-color: #008080\">╭─────────────────────────────────────────────────────────────────────────────────────────────────────────────────╮</span>\n",
              "<span style=\"color: #008080; text-decoration-color: #008080\">│</span> <span style=\"color: #008080; text-decoration-color: #008080; font-weight: bold\">🔧 Tool Call:</span> think_tool                                                                                        <span style=\"color: #008080; text-decoration-color: #008080\">│</span>\n",
              "<span style=\"color: #008080; text-decoration-color: #008080\">│</span>                                                                                                                 <span style=\"color: #008080; text-decoration-color: #008080\">│</span>\n",
              "<span style=\"color: #008080; text-decoration-color: #008080\">│</span> <span style=\"color: #7f7f7f; text-decoration-color: #7f7f7f\">Args: {\"reflection\": \"Analysis of current findings: The search results provide a comprehensive overview of the </span> <span style=\"color: #008080; text-decoration-color: #008080\">│</span>\n",
              "<span style=\"color: #008080; text-decoration-color: #008080\">│</span> <span style=\"color: #7f7f7f; text-decoration-color: #7f7f7f\">core functionalities of the Spring framework, including Dependency Injection (DI), Inversion of Control (IoC), </span> <span style=\"color: #008080; text-decoration-color: #008080\">│</span>\n",
              "<span style=\"color: #008080; text-decoration-color: #008080\">│</span> <span style=\"color: #7f7f7f; text-decoration-color: #7f7f7f\">Aspect-Oriented Programming (AOP), Spring Bean Management, and the modular architecture. Additionally, </span>         <span style=\"color: #008080; text-decoration-color: #008080\">│</span>\n",
              "<span style=\"color: #008080; text-decoration-color: #008080\">│</span> <span style=\"color: #7f7f7f; text-decoration-color: #7f7f7f\">essential knowledge for developers includes understanding DI and IoC, configuration styles, Spring Boot basics,</span> <span style=\"color: #008080; text-decoration-color: #008080\">│</span>\n",
              "<span style=\"color: #008080; text-decoration-color: #008080\">│</span> <span style=\"color: #7f7f7f; text-decoration-color: #7f7f7f\">web development with Spring MVC and WebFlux, data access with Spring Data JPA, and integration with Java EE </span>    <span style=\"color: #008080; text-decoration-color: #008080\">│</span>\n",
              "<span style=\"color: #008080; text-decoration-color: #008080\">│</span> <span style=\"color: #7f7f7f; text-decoration-color: #7f7f7f\">standards.\\n\\nGap assessment: I have gathered sufficient information on the core functionalities of the Spring </span> <span style=\"color: #008080; text-decoration-color: #008080\">│</span>\n",
              "<span style=\"color: #008080; text-decoration-color: #008080\">│</span> <span style=\"color: #7f7f7f; text-decoration-color: #7f7f7f\">framework and the essential knowledge required for developers. There are no significant gaps in the information</span> <span style=\"color: #008080; text-decoration-color: #008080\">│</span>\n",
              "<span style=\"color: #008080; text-decoration-color: #008080\">│</span> <span style=\"color: #7f7f7f; text-decoration-color: #7f7f7f\">provided by the search results.\\n\\nQuality evaluation: The information is detailed, accurate, and covers all </span>   <span style=\"color: #008080; text-decoration-color: #008080\">│</span>\n",
              "<span style=\"color: #008080; text-decoration-color: #008080\">│</span> <span style=\"color: #7f7f7f; text-decoration-color: #7f7f7f\">the key aspects of the Spring framework and the essential knowledge for developers. I have multiple sources </span>    <span style=\"color: #008080; text-decoration-color: #008080\">│</span>\n",
              "<span style=\"color: #008080; text-decoration-color: #008080\">│</span> <span style=\"color: #7f7f7f; text-decoration-color: #7f7f7f\">that provide consistent information, which ensures the reliability of the findings.\\n\\nStrategic decision: I </span>   <span style=\"color: #008080; text-decoration-color: #008080\">│</span>\n",
              "<span style=\"color: #008080; text-decoration-color: #008080\">│</span> <span style=\"color: #7f7f7f; text-decoration-color: #7f7f7f\">can now provide a comprehensive answer to the user's question, tracing the evolution from Java Servlets to the </span> <span style=\"color: #008080; text-decoration-color: #008080\">│</span>\n",
              "<span style=\"color: #008080; text-decoration-color: #008080\">│</span> <span style=\"color: #7f7f7f; text-decoration-color: #7f7f7f\">Spring Boot framework, explaining the problems each iteration aimed to solve, and detailing the core </span>           <span style=\"color: #008080; text-decoration-color: #008080\">│</span>\n",
              "<span style=\"color: #008080; text-decoration-color: #008080\">│</span> <span style=\"color: #7f7f7f; text-decoration-color: #7f7f7f\">functionalities of the Spring framework along with essential knowledge required for developers working with </span>    <span style=\"color: #008080; text-decoration-color: #008080\">│</span>\n",
              "<span style=\"color: #008080; text-decoration-color: #008080\">│</span> <span style=\"color: #7f7f7f; text-decoration-color: #7f7f7f\">it.\"}</span>                                                                                                           <span style=\"color: #008080; text-decoration-color: #008080\">│</span>\n",
              "<span style=\"color: #008080; text-decoration-color: #008080\">│</span>                                                                                                                 <span style=\"color: #008080; text-decoration-color: #008080\">│</span>\n",
              "<span style=\"color: #008080; text-decoration-color: #008080\">│</span> <span style=\"color: #008000; text-decoration-color: #008000\">✓</span> think_tool executed successfully                                                                              <span style=\"color: #008080; text-decoration-color: #008080\">│</span>\n",
              "<span style=\"color: #008080; text-decoration-color: #008080\">╰─────────────────────────────────────────────────────────────────────────────────────────────────────────────────╯</span>\n",
              "</pre>\n"
            ],
            "text/plain": [
              "\u001b[36m╭─────────────────────────────────────────────────────────────────────────────────────────────────────────────────╮\u001b[0m\n",
              "\u001b[36m│\u001b[0m \u001b[1;36m🔧 Tool Call:\u001b[0m think_tool                                                                                        \u001b[36m│\u001b[0m\n",
              "\u001b[36m│\u001b[0m                                                                                                                 \u001b[36m│\u001b[0m\n",
              "\u001b[36m│\u001b[0m \u001b[2mArgs: {\"reflection\": \"Analysis of current findings: The search results provide a comprehensive overview of the \u001b[0m \u001b[36m│\u001b[0m\n",
              "\u001b[36m│\u001b[0m \u001b[2mcore functionalities of the Spring framework, including Dependency Injection (DI), Inversion of Control (IoC), \u001b[0m \u001b[36m│\u001b[0m\n",
              "\u001b[36m│\u001b[0m \u001b[2mAspect-Oriented Programming (AOP), Spring Bean Management, and the modular architecture. Additionally, \u001b[0m         \u001b[36m│\u001b[0m\n",
              "\u001b[36m│\u001b[0m \u001b[2messential knowledge for developers includes understanding DI and IoC, configuration styles, Spring Boot basics,\u001b[0m \u001b[36m│\u001b[0m\n",
              "\u001b[36m│\u001b[0m \u001b[2mweb development with Spring MVC and WebFlux, data access with Spring Data JPA, and integration with Java EE \u001b[0m    \u001b[36m│\u001b[0m\n",
              "\u001b[36m│\u001b[0m \u001b[2mstandards.\\n\\nGap assessment: I have gathered sufficient information on the core functionalities of the Spring \u001b[0m \u001b[36m│\u001b[0m\n",
              "\u001b[36m│\u001b[0m \u001b[2mframework and the essential knowledge required for developers. There are no significant gaps in the information\u001b[0m \u001b[36m│\u001b[0m\n",
              "\u001b[36m│\u001b[0m \u001b[2mprovided by the search results.\\n\\nQuality evaluation: The information is detailed, accurate, and covers all \u001b[0m   \u001b[36m│\u001b[0m\n",
              "\u001b[36m│\u001b[0m \u001b[2mthe key aspects of the Spring framework and the essential knowledge for developers. I have multiple sources \u001b[0m    \u001b[36m│\u001b[0m\n",
              "\u001b[36m│\u001b[0m \u001b[2mthat provide consistent information, which ensures the reliability of the findings.\\n\\nStrategic decision: I \u001b[0m   \u001b[36m│\u001b[0m\n",
              "\u001b[36m│\u001b[0m \u001b[2mcan now provide a comprehensive answer to the user's question, tracing the evolution from Java Servlets to the \u001b[0m \u001b[36m│\u001b[0m\n",
              "\u001b[36m│\u001b[0m \u001b[2mSpring Boot framework, explaining the problems each iteration aimed to solve, and detailing the core \u001b[0m           \u001b[36m│\u001b[0m\n",
              "\u001b[36m│\u001b[0m \u001b[2mfunctionalities of the Spring framework along with essential knowledge required for developers working with \u001b[0m    \u001b[36m│\u001b[0m\n",
              "\u001b[36m│\u001b[0m \u001b[2mit.\"}\u001b[0m                                                                                                           \u001b[36m│\u001b[0m\n",
              "\u001b[36m│\u001b[0m                                                                                                                 \u001b[36m│\u001b[0m\n",
              "\u001b[36m│\u001b[0m \u001b[32m✓\u001b[0m think_tool executed successfully                                                                              \u001b[36m│\u001b[0m\n",
              "\u001b[36m╰─────────────────────────────────────────────────────────────────────────────────────────────────────────────────╯\u001b[0m\n"
            ]
          },
          "metadata": {},
          "output_type": "display_data"
        },
        {
          "name": "stdout",
          "output_type": "stream",
          "text": [
            "Utilization percentage: 57.29%\n",
            "Utilization percentage: 75.88000000000001%\n",
            "\n",
            "================================================================================\n",
            "FINAL RESPONSE:\n",
            "================================================================================\n",
            "# Evolution from Java Servlets to Spring Boot Framework\n",
            "\n",
            "## 1. Java Servlets\n",
            "Java Servlets were introduced in the mid-1990s to extend the capabilities of Java applets on the server side. Servlets run inside servlet containers like Apache Tomcat and are used to handle HTTP requests and generate dynamic content.\n",
            "\n",
            "### Problems:\n",
            "- **Boilerplate Code**: Developers had to write a lot of boilerplate code to handle HTTP requests and manage the lifecycle of servlets.\n",
            "- **Manual Configuration**: Servlets required manual configuration in the `web.xml` file, which was error-prone and difficult to maintain.\n",
            "- **Tight Coupling**: Business logic was tightly coupled with presentation logic, making the codebase difficult to test and maintain.\n",
            "- **No Dependency Management**: There was no built-in dependency management, making it difficult to manage and inject dependencies.\n",
            "\n",
            "## 2. Spring Framework (2003)\n",
            "The Spring Framework was introduced to address the limitations of Java Servlets and to provide a more robust and flexible solution for building enterprise Java applications.\n",
            "\n",
            "### Problems Solved:\n",
            "- **Dependency Injection (DI)**: Spring introduced DI, which allowed developers to decouple components and manage dependencies externally, promoting loose coupling and easier testing.\n",
            "- **Inversion of Control (IoC)**: Spring's IoC container managed the creation and lifecycle of objects, reducing the need for manual object creation and configuration.\n",
            "- **Aspect-Oriented Programming (AOP)**: Spring provided AOP support, allowing developers to separate cross-cutting concerns like logging, security, and transaction management from business logic.\n",
            "- **Modular Architecture**: Spring was organized into modules, allowing developers to use only what they needed, promoting lightweight and customizable applications.\n",
            "- **Transaction Management**: Spring provided a consistent abstraction over various transaction APIs, simplifying database operations.\n",
            "\n",
            "### Core Functionalities:\n",
            "- **Dependency Injection (DI)**: Enables loose coupling between components, making applications more modular, flexible, and easier to test.\n",
            "- **Inversion of Control (IoC)**: Manages object creation, configuration, and lifecycle through the Spring container.\n",
            "- **Aspect-Oriented Programming (AOP)**: Separates cross-cutting concerns from business logic, allowing these behaviors to be applied declaratively across multiple components.\n",
            "- **Transaction Management**: Provides a consistent abstraction over various transaction APIs, supporting both programmatic and declarative transaction control.\n",
            "- **Spring MVC Framework**: Supports building web applications using the Model-View-Controller pattern, enabling clean separation of concerns and facilitating RESTful web services.\n",
            "- **Modular Architecture**: The framework is organized into about 20 modules, allowing developers to use only what they need, promoting lightweight and customizable applications.\n",
            "- **Testing Support**: Offers robust support for unit and integration testing, including mocking, context configuration, and caching.\n",
            "\n",
            "### Essential Knowledge for Developers:\n",
            "- **Understanding DI and IoC**: Fundamental to using Spring effectively.\n",
            "- **Configuration Styles**: Be proficient in annotation-based, XML, and Java config.\n",
            "- **Spring Boot Basics**: Recommended starting point for new Spring applications.\n",
            "- **Web Development**: Know Spring MVC for traditional web apps and WebFlux for reactive programming.\n",
            "- **Data Access**: Familiarity with Spring Data, JPA, JDBC, and transaction management.\n",
            "- **Modular Design**: Understand how Spring modules work and how to include only what's needed.\n",
            "- **API Design & Best Practices**: Follow Spring’s principles of flexibility, backward compatibility, and clean code.\n",
            "- **Integration Skills**: Ability to integrate with Java EE APIs and third-party libraries.\n",
            "- **Use of Tooling**: Leverage [start.spring.io](https://start.spring.io/) and \"Getting Started\" guides for rapid development.\n",
            "\n",
            "## 3. Spring Boot (2013)\n",
            "Spring Boot was introduced to further simplify the development of Spring applications by providing auto-configuration, embedded servers, and opinionated defaults.\n",
            "\n",
            "### Problems Solved:\n",
            "- **Auto-Configuration**: Spring Boot automatically configures the application based on the dependencies present in the classpath, reducing the need for manual configuration.\n",
            "- **Embedded Servers**: Spring Boot includes embedded servers like Tomcat, Jetty, and Undertow, eliminating the need for external server deployment.\n",
            "- **Starter Dependencies**: Spring Boot provides starter dependencies that simplify the inclusion of common libraries and configurations.\n",
            "- **Rapid Prototyping**: Spring Boot enables rapid prototyping and quick development cycles, making it ideal for cloud-native and microservices architectures.\n",
            "\n",
            "### Core Functionalities:\n",
            "- **Auto-Configuration**: Automatically configures the application based on the dependencies present in the classpath.\n",
            "- **Embedded Servers**: Includes embedded servers like Tomcat, Jetty, and Undertow, eliminating the need for external server deployment.\n",
            "- **Starter Dependencies**: Provides starter dependencies that simplify the inclusion of common libraries and configurations.\n",
            "- **Actuator**: Provides production-ready features like health checks, metrics, and endpoint management.\n",
            "- **Spring Boot CLI**: A command-line interface for rapidly prototyping and testing Spring applications.\n",
            "\n",
            "### Essential Knowledge for Developers:\n",
            "- **Understanding Spring Boot**: Familiarity with Spring Boot's auto-configuration and embedded server features.\n",
            "- **Starter Dependencies**: Knowledge of how to use starter dependencies to simplify the inclusion of common libraries and configurations.\n",
            "- **Actuator**: Understanding of how to use Spring Boot Actuator for production-ready features like health checks and metrics.\n",
            "- **Cloud-Native Development**: Familiarity with cloud-native development practices and how Spring Boot supports microservices and cloud deployment.\n",
            "- **Testing Support**: Understanding of how to use Spring Boot's testing features for unit and integration testing.\n",
            "\n",
            "In summary, the evolution from Java Servlets to the Spring Boot framework has addressed the limitations of each previous iteration, providing a more robust, flexible, and efficient solution for building enterprise Java applications. The Spring framework and Spring Boot have become the de facto standards for Java web development, offering a comprehensive set of tools and functionalities to support modern application development.\n",
            "\n",
            "================================================================================\n",
            "STATISTICS:\n",
            "================================================================================\n",
            "Final compaction count: 0\n"
          ]
        },
        {
          "ename": "AttributeError",
          "evalue": "'AgentStateCompaction' object has no attribute 'estimated_tokens'",
          "output_type": "error",
          "traceback": [
            "\u001b[31m---------------------------------------------------------------------------\u001b[39m",
            "\u001b[31mAttributeError\u001b[39m                            Traceback (most recent call last)",
            "\u001b[36mCell\u001b[39m\u001b[36m \u001b[39m\u001b[32mIn[106]\u001b[39m\u001b[32m, line 21\u001b[39m\n\u001b[32m     19\u001b[39m \u001b[38;5;28mprint\u001b[39m(\u001b[33mf\u001b[39m\u001b[33m\"\u001b[39m\u001b[38;5;132;01m{\u001b[39;00m\u001b[33m'\u001b[39m\u001b[33m=\u001b[39m\u001b[33m'\u001b[39m*\u001b[32m80\u001b[39m\u001b[38;5;132;01m}\u001b[39;00m\u001b[33m\"\u001b[39m)\n\u001b[32m     20\u001b[39m \u001b[38;5;28mprint\u001b[39m(\u001b[33mf\u001b[39m\u001b[33m\"\u001b[39m\u001b[33mFinal compaction count: \u001b[39m\u001b[38;5;132;01m{\u001b[39;00mstate.compaction_count\u001b[38;5;132;01m}\u001b[39;00m\u001b[33m\"\u001b[39m)\n\u001b[32m---> \u001b[39m\u001b[32m21\u001b[39m \u001b[38;5;28mprint\u001b[39m(\u001b[33mf\u001b[39m\u001b[33m\"\u001b[39m\u001b[33mFinal token usage: \u001b[39m\u001b[38;5;132;01m{\u001b[39;00m\u001b[43mstate\u001b[49m\u001b[43m.\u001b[49m\u001b[43mestimated_tokens\u001b[49m\u001b[38;5;132;01m:\u001b[39;00m\u001b[33m,\u001b[39m\u001b[38;5;132;01m}\u001b[39;00m\u001b[33m/\u001b[39m\u001b[38;5;132;01m{\u001b[39;00mstate.max_tokens\u001b[38;5;132;01m:\u001b[39;00m\u001b[33m,\u001b[39m\u001b[38;5;132;01m}\u001b[39;00m\u001b[33m\"\u001b[39m)\n",
            "\u001b[36mFile \u001b[39m\u001b[32m~/deep-research-bot/.venv/lib/python3.12/site-packages/pydantic/main.py:991\u001b[39m, in \u001b[36mBaseModel.__getattr__\u001b[39m\u001b[34m(self, item)\u001b[39m\n\u001b[32m    988\u001b[39m     \u001b[38;5;28;01mreturn\u001b[39;00m \u001b[38;5;28msuper\u001b[39m().\u001b[34m__getattribute__\u001b[39m(item)  \u001b[38;5;66;03m# Raises AttributeError if appropriate\u001b[39;00m\n\u001b[32m    989\u001b[39m \u001b[38;5;28;01melse\u001b[39;00m:\n\u001b[32m    990\u001b[39m     \u001b[38;5;66;03m# this is the current error\u001b[39;00m\n\u001b[32m--> \u001b[39m\u001b[32m991\u001b[39m     \u001b[38;5;28;01mraise\u001b[39;00m \u001b[38;5;167;01mAttributeError\u001b[39;00m(\u001b[33mf\u001b[39m\u001b[33m'\u001b[39m\u001b[38;5;132;01m{\u001b[39;00m\u001b[38;5;28mtype\u001b[39m(\u001b[38;5;28mself\u001b[39m).\u001b[34m__name__\u001b[39m\u001b[38;5;132;01m!r}\u001b[39;00m\u001b[33m object has no attribute \u001b[39m\u001b[38;5;132;01m{\u001b[39;00mitem\u001b[38;5;132;01m!r}\u001b[39;00m\u001b[33m'\u001b[39m)\n",
            "\u001b[31mAttributeError\u001b[39m: 'AgentStateCompaction' object has no attribute 'estimated_tokens'"
          ]
        }
      ],
      "source": [
        "agent = SimpleAgent(\n",
        "    model_name=MODEL_SMALL_CONTEXT,\n",
        "    system_message=DEEP_RESEARCH_AGENT_PROMPT.format(date=get_today_str()),\n",
        "    tools=[clarification_tool, planning_tool, think_tool, exa_search]\n",
        ")\n",
        "\n",
        "#state = AgentStateCompaction(messages=messages)\n",
        "state = agent.run(\n",
        "    user_prompt=\"Trace the evolution from Java Servlets to the Spring Boot framework. Explain the problems each iteration aimed to solve, and detail the core functionalities of the Spring framework along with essential knowledge required for developers working with it.\",\n",
        "    max_turns=15  # Long enough to potentially trigger compaction\n",
        ")\n",
        "\n",
        "print(f\"\\n{'='*80}\")\n",
        "print(f\"FINAL RESPONSE:\")\n",
        "print(f\"{'='*80}\")\n",
        "print(state.final_assistant_content)\n",
        "print(f\"\\n{'='*80}\")\n",
        "print(f\"STATISTICS:\")\n",
        "print(f\"{'='*80}\")\n",
        "print(f\"Final compaction count: {state.compaction_count}\")"
      ]
    },
    {
      "cell_type": "markdown",
      "metadata": {},
      "source": [
        "## Evals "
      ]
    },
    {
      "cell_type": "code",
      "execution_count": null,
      "metadata": {},
      "outputs": [],
      "source": [
        "import sys\n",
        "from functools import partial\n",
        "from pathlib import Path\n",
        "\n",
        "# Add project root to Python path\n",
        "project_root = Path.cwd().parent\n",
        "if str(project_root) not in sys.path:\n",
        "    sys.path.insert(0, str(project_root))"
      ]
    },
    {
      "cell_type": "code",
      "execution_count": null,
      "metadata": {},
      "outputs": [],
      "source": [
        "from evaluation.eval import run_evaluation\n",
        "from evaluation.eval_config import EvalConfig\n",
        "\n",
        "agent = DeepResearchAgent(\n",
        "\t\tmodel_name=MODEL_LARGE,\n",
        "\t\tsystem_message=DEEP_RESEARCH_AGENT_PROMPT.format(date=get_today_str()),\n",
        "\t\ttools=[planning_tool, think_tool, exa_search]\n",
        "        #tools=[exa_search]\n",
        "\t)\n",
        "\n",
        "MAX_TURNS = 10\n",
        "\n",
        "eval_config = EvalConfig(\n",
        "    evaluation_name=f\"DeepResearchAgent_max-turns-{MAX_TURNS}_{agent.model_name.split('/')[-1]}\",\n",
        "    trials=2,\n",
        "    limit=20,\n",
        "    judge_model=\"gpt-4.1-2025-04-14\",\n",
        "    weave_parallelism=4,\n",
        "    queries=project_root / \"data/prompt_data/query.jsonl\",\n",
        "    reference=project_root / \"data/test_data/cleaned_data/reference.jsonl\",\n",
        "    criteria=project_root / \"data/criteria_data/criteria.jsonl\",\n",
        ")\n",
        "\n",
        "results = await run_evaluation(\n",
        "    eval_config=eval_config,\n",
        "    agent_callable=partial(agent.run, max_turns=MAX_TURNS),  # <- partial to limit the number of agent turns\n",
        ")\n",
        "results"
      ]
    },
    {
      "cell_type": "code",
      "execution_count": null,
      "metadata": {},
      "outputs": [],
      "source": []
    }
  ],
  "metadata": {
    "colab": {
      "provenance": []
    },
    "kernelspec": {
      "display_name": ".venv",
      "language": "python",
      "name": "python3"
    },
    "language_info": {
      "codemirror_mode": {
        "name": "ipython",
        "version": 3
      },
      "file_extension": ".py",
      "mimetype": "text/x-python",
      "name": "python",
      "nbconvert_exporter": "python",
      "pygments_lexer": "ipython3",
      "version": "3.12.7"
    },
    "widgets": {
      "application/vnd.jupyter.widget-state+json": {
        "2979e24129fb43f2b26af01503c7dadb": {
          "model_module": "@jupyter-widgets/base",
          "model_module_version": "1.2.0",
          "model_name": "LayoutModel",
          "state": {
            "_model_module": "@jupyter-widgets/base",
            "_model_module_version": "1.2.0",
            "_model_name": "LayoutModel",
            "_view_count": null,
            "_view_module": "@jupyter-widgets/base",
            "_view_module_version": "1.2.0",
            "_view_name": "LayoutView",
            "align_content": null,
            "align_items": null,
            "align_self": null,
            "border": null,
            "bottom": null,
            "display": null,
            "flex": null,
            "flex_flow": null,
            "grid_area": null,
            "grid_auto_columns": null,
            "grid_auto_flow": null,
            "grid_auto_rows": null,
            "grid_column": null,
            "grid_gap": null,
            "grid_row": null,
            "grid_template_areas": null,
            "grid_template_columns": null,
            "grid_template_rows": null,
            "height": null,
            "justify_content": null,
            "justify_items": null,
            "left": null,
            "margin": null,
            "max_height": null,
            "max_width": null,
            "min_height": null,
            "min_width": null,
            "object_fit": null,
            "object_position": null,
            "order": null,
            "overflow": null,
            "overflow_x": null,
            "overflow_y": null,
            "padding": null,
            "right": null,
            "top": null,
            "visibility": null,
            "width": null
          }
        },
        "8e94c428730841c3bdaeaf82eb73381b": {
          "model_module": "@jupyter-widgets/output",
          "model_module_version": "1.0.0",
          "model_name": "OutputModel",
          "state": {
            "_dom_classes": [],
            "_model_module": "@jupyter-widgets/output",
            "_model_module_version": "1.0.0",
            "_model_name": "OutputModel",
            "_view_count": null,
            "_view_module": "@jupyter-widgets/output",
            "_view_module_version": "1.0.0",
            "_view_name": "OutputView",
            "layout": "IPY_MODEL_2979e24129fb43f2b26af01503c7dadb",
            "msg_id": "",
            "outputs": [
              {
                "data": {
                  "text/html": "<pre style=\"white-space:pre;overflow-x:auto;line-height:normal;font-family:Menlo,'DejaVu Sans Mono',consolas,'Courier New',monospace\"></pre>\n",
                  "text/plain": ""
                },
                "metadata": {},
                "output_type": "display_data"
              }
            ]
          }
        }
      }
    }
  },
  "nbformat": 4,
  "nbformat_minor": 0
}
