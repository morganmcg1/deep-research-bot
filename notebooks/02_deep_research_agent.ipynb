{
  "cells": [
    {
      "cell_type": "markdown",
      "metadata": {
        "id": "lc7GKwVJ23R6"
      },
      "source": [
        "# Building Deep Research Agent \n",
        "\n",
        "This script will walk you through building on top of our simple tool calling agent to evolve it to a full Deep Research Agent. \n",
        "We will cover: \n",
        "1. Prompting strategies \n",
        "2. Multi-tool agents designg\n",
        "3. Compacting conversations \n",
        "\n",
        "Docs: \n",
        "Weights & Biases Inference [docs](https://docs.wandb.ai/guides/inference/)"
      ]
    },
    {
      "cell_type": "markdown",
      "metadata": {
        "id": "g1huUI69O3bx"
      },
      "source": [
        "## Imports + API keys\n",
        "\n",
        "Our Deep Research Agent will actually still only use 2 services: \n",
        "1. W&B for inference and tracking \n",
        "2. Exa for web search "
      ]
    },
    {
      "cell_type": "code",
      "execution_count": null,
      "metadata": {
        "colab": {
          "base_uri": "https://localhost:8080/"
        },
        "collapsed": true,
        "id": "9hK_PEje-0S-",
        "outputId": "62505f66-0072-40e2-e24e-601778a14d60"
      },
      "outputs": [],
      "source": [
        "#if you are running this on colab, uncomment the following line and run it\n",
        "#!uv pip install exa-py weave openai"
      ]
    },
    {
      "cell_type": "code",
      "execution_count": 1,
      "metadata": {},
      "outputs": [],
      "source": [
        "# auto reload and reload ext\n",
        "%load_ext autoreload\n",
        "%autoreload 2"
      ]
    },
    {
      "cell_type": "code",
      "execution_count": 2,
      "metadata": {
        "id": "BEiKMVKS8slD"
      },
      "outputs": [],
      "source": [
        "# Global Configuration & Setup\n",
        "import inspect\n",
        "import json\n",
        "import os\n",
        "import requests\n",
        "import weave\n",
        "import openai\n",
        "from enum import Enum\n",
        "from pydantic import BaseModel, Field\n",
        "from rich.pretty import pprint\n",
        "from typing import Any, Callable, Dict, List, get_type_hints\n",
        "from exa_py import Exa\n",
        "from datetime import datetime\n"
      ]
    },
    {
      "cell_type": "code",
      "execution_count": 3,
      "metadata": {
        "id": "Hslss_PdY992"
      },
      "outputs": [],
      "source": [
        "#if you are running this on colab, uncomment the following lines and run it\n",
        "#from google.colab import userdata\n",
        "#EXA_API_KEY=userdata.get('EXA_API_KEY')\n",
        "#OPENAI_API_KEY=userdata.get('OPENAI_API_KEY')\n",
        "#WANDB_API_KEY=userdata.get('WANDB_API_KEY')\n",
        "\n",
        "# if you use .env file, uncomment the following lines and run it\n",
        "from dotenv import load_dotenv\n",
        "load_dotenv()\n",
        "EXA_API_KEY=os.getenv('EXA_API_KEY')\n",
        "OPENAI_API_KEY=os.getenv('OPENAI_API_KEY')\n",
        "WANDB_API_KEY=os.getenv('WANDB_API_KEY')\n"
      ]
    },
    {
      "cell_type": "code",
      "execution_count": 4,
      "metadata": {
        "id": "29IL8eNR73wn"
      },
      "outputs": [
        {
          "name": "stderr",
          "output_type": "stream",
          "text": [
            "\u001b[36m\u001b[1mweave\u001b[0m: weave version 0.52.10 is available!  To upgrade, please run:\n",
            "\u001b[36m\u001b[1mweave\u001b[0m:  $ pip install weave --upgrade\n",
            "\u001b[36m\u001b[1mweave\u001b[0m: Logged in as Weights & Biases user: agatamlyn.\n",
            "\u001b[36m\u001b[1mweave\u001b[0m: View Weave data at https://wandb.ai/wandb-applied-ai-team/london-workshop-2025/weave\n"
          ]
        },
        {
          "data": {
            "text/plain": [
              "<weave.trace.weave_client.WeaveClient at 0x154d76750>"
            ]
          },
          "execution_count": 4,
          "metadata": {},
          "output_type": "execute_result"
        }
      ],
      "source": [
        "MODEL_SMALL = \"Qwen/Qwen3-235B-A22B-Instruct-2507\"\n",
        "MODEL_MEDIUM = \"zai-org/GLM-4.5\"\n",
        "MODEL_LARGE = \"moonshotai/Kimi-K2-Instruct\"\n",
        "\n",
        "WANDB_ENTITY = \"wandb-applied-ai-team\"\n",
        "WANDB_PROJECT = \"london-workshop-2025\"\n",
        "\n",
        "oai_client = openai.OpenAI(\n",
        "    base_url='https://api.inference.wandb.ai/v1',\n",
        "    api_key=os.getenv(\"WANDB_API_KEY\"),\n",
        "    project=f\"{WANDB_ENTITY}/{WANDB_PROJECT}\")\n",
        "\n",
        "exa_client = Exa(api_key=os.getenv(\"EXA_API_KEY\"))\n",
        "\n",
        "weave.init(\"wandb-applied-ai-team/london-workshop-2025\")"
      ]
    },
    {
      "cell_type": "markdown",
      "metadata": {
        "id": "DcFtYhvCO9Bw"
      },
      "source": [
        "## Helper functions"
      ]
    },
    {
      "cell_type": "code",
      "execution_count": 7,
      "metadata": {},
      "outputs": [],
      "source": [
        "#these are the same functions we have covered in the notebook 01_simple_tool_calling_agent.ipynb so lets just import them here\n",
        "from utils import function_tool, perform_tool_calls"
      ]
    },
    {
      "cell_type": "code",
      "execution_count": 8,
      "metadata": {},
      "outputs": [],
      "source": [
        "@weave.op\n",
        "def call_model(model_name: str, messages: List[Dict[str, Any]], **kwargs) -> str:\n",
        "    \"Call a model with the given messages and kwargs.\"\n",
        "    response = oai_client.chat.completions.create(\n",
        "        model=model_name,\n",
        "        messages=messages,\n",
        "        **kwargs\n",
        "    )\n",
        "\n",
        "    return response.choices[0].message"
      ]
    },
    {
      "cell_type": "code",
      "execution_count": 9,
      "metadata": {
        "id": "l7Pc1RavUyx0"
      },
      "outputs": [],
      "source": [
        "def get_today_str() -> str:\n",
        "    \"\"\"Get current date in a human-readable format.\"\"\"\n",
        "    return datetime.now().strftime(\"%a %b %-d, %Y\")"
      ]
    },
    {
      "cell_type": "markdown",
      "metadata": {
        "id": "nH2oK-UlTaOp"
      },
      "source": [
        "## Prompts"
      ]
    },
    {
      "cell_type": "code",
      "execution_count": null,
      "metadata": {
        "id": "Pr67sUm2TZmk"
      },
      "outputs": [],
      "source": [
        "DEEP_RESEARCH_AGENT_PROMPT = \"\"\"\n",
        "  You are a research assistant conducting research on the user's input topic. For context, today's date is {date}.                                                                                                        │\n",
        "\n",
        "  <Task>\n",
        "  Your job is to use tools to gather information about the user's input topic.\n",
        "  You can use any of the tools provided to you to find resources that can help answer the research question.\n",
        "  You can call these tools in series or in parallel, your research is conducted in a tool-calling loop.\n",
        "  Your response should be a thorough answer to the user's question, citing sources and reasoning, providing an overview of the facts or any gaps in the subject.\n",
        "  </Task>\n",
        "\n",
        "  <Available Tools>\n",
        "  You have access to the following tools:\n",
        "  1. **clarification_tool**: For asking user clarifying questions if needed. If you have clarifying questions start with this.\n",
        "  2. **planning_tool**: For planning the research.\n",
        "  2. **exa_search**: For conducting web searches to gather information\n",
        "  2. **think_tool**: For reflection and strategic planning during research\n",
        "\n",
        "  **CRITICAL: Use think_tool after each search to reflect on results and plan next steps**\n",
        "  </Available Tools>\n",
        "\n",
        "  <Instructions>\n",
        "  Think like a human researcher with limited time. Follow these steps:\n",
        "\n",
        "  1. **Read the question carefully** - What specific information does the user need?\n",
        "  2. **Start with broader searches** - Use broad, comprehensive queries first\n",
        "  3. **After each search, pause and assess** - Do I have enough to answer? What's still missing?\n",
        "  4. **Execute narrower searches as you gather information** - Fill in the gaps\n",
        "  5. **Stop when you can answer confidently** - Don't keep searching for perfection\n",
        "  6. **Provide an answer** - At the end, always provide the answer from your research.\n",
        "  </Instructions>\n",
        "\n",
        "  <Hard Limits>\n",
        "  **Tool Call Budgets** (Prevent excessive searching):\n",
        "  - **Simple queries**: Use 2-3 search tool calls maximum\n",
        "  - **Complex queries**: Use up to 5 search tool calls maximum\n",
        "  - **Always stop**: After 5 search tool calls if you cannot find the right sources\n",
        "\n",
        "  **Stop Immediately When**:\n",
        "  - You can answer the user's question comprehensively\n",
        "  - You have 3+ relevant examples/sources for the question\n",
        "  - Your last 2 searches returned similar information\n",
        "  </Hard Limits>\n",
        "\n",
        "  <Show Your Thinking>\n",
        "  After each search tool call, use think_tool to analyze the results:\n",
        "  - What key information did I find?\n",
        "  - What's missing?\n",
        "  - Do I have enough to answer the question comprehensively?\n",
        "  - Should I search more or provide my answer?\n",
        "  </Show Your Thinking>\n",
        "\"\"\""
      ]
    },
    {
      "cell_type": "markdown",
      "metadata": {
        "id": "m9fR1uLAPQER"
      },
      "source": [
        "## Tools\n",
        "\n",
        "Thomas already introduced our first tool the exa_search tool so we will import it from our tools.py instead of redefining it. \n",
        "\n",
        "Next we will add 3 new tools to make upgrade this agent from a simple search agent to a deep research one. "
      ]
    },
    {
      "cell_type": "code",
      "execution_count": 21,
      "metadata": {},
      "outputs": [],
      "source": [
        "# import the exa_search tool Thomas introduced in the previous notebook 01_simple_tool_calling_agent.ipynb\n",
        "from tools import exa_search_and_refine\n",
        "exa_search = exa_search_and_refine"
      ]
    },
    {
      "cell_type": "markdown",
      "metadata": {},
      "source": [
        "### clarification tool\n",
        "If you have used another deep research service, like ChatGPT Deep Research, you will be failiar with the first step which is the claryfication questions. Users oftentime submit a one sentance request which often lacks the necessary information to provide them a deep answer that will really answer what they were looking for. \n",
        "In the case of ChatGPT, these questions are mandatory and happen every time you create a new Deep Research request, in our case we actually give the agent the choice to call the tool if it thinks it needs more information to get started. "
      ]
    },
    {
      "cell_type": "code",
      "execution_count": null,
      "metadata": {},
      "outputs": [],
      "source": [
        "@weave.op\n",
        "@function_tool\n",
        "def clarification_tool(clarifying_questions):\n",
        "  \"\"\"                                                                                                                                                                                                               │                                                                                                                 │\n",
        "  Use this tool to ask clarifying questions to the user.\n",
        "  IMPORTANT: If you can see in the messages history that you have already asked a clarifying question, you almost always do not need to ask another one. Only ask another question if ABSOLUTELY NECESSARY.\n",
        "\n",
        "  If there are acronyms, abbreviations, or unknown terms, ask the user to clarify.\n",
        "  If you need to ask a question, follow these guidelines:\n",
        "  - Be concise while gathering all necessary information.\n",
        "  - Only ask max 3 questions.\n",
        "  - Make sure to gather all the information needed to carry out the research task in a concise, well-structured manner.\n",
        "  - Use bullet points or numbered lists if appropriate for clarity. Make sure that this uses markdown formatting and will be rendered correctly if the string output is passed to a markdown renderer.\n",
        "  - Don't ask for unnecessary information, or information that the user has already provided. If you can see that the user has already provided the information, do not ask for it again.\n",
        "\n",
        "  This tool will return the user clarifications.\n",
        "  \"\"\"\n",
        "  output = input(clarifying_questions)\n",
        "  return output\n"
      ]
    },
    {
      "cell_type": "markdown",
      "metadata": {},
      "source": [
        "### planning tool\n",
        "Another tool available for the agent is the planning tool. The agent should use this tool to analyze the users query and break it down into subqueries."
      ]
    },
    {
      "cell_type": "code",
      "execution_count": null,
      "metadata": {
        "id": "58zgUvgb9Qb0"
      },
      "outputs": [],
      "source": [
        "@weave.op\n",
        "@function_tool\n",
        "def planning_tool(plan: str) -> str:\n",
        "  \"\"\"Tool for planning the research.\n",
        "\n",
        "  If there are no clarifying questions, use this tool as the first step of the research.\n",
        "\n",
        "  Your plan should include:\n",
        "  1. Short analysis of user request.\n",
        "  2. Sub-queries broken down from users request, for example: if the query is 'what are 3 heaviest pokemons and their weight combined' the sub queries should be 'what are 3 heaviest pokemons' 'pokemon1 weight', 'pokemon2 weight', 'pokemon3 weight'.\n",
        "\n",
        "  Args:\n",
        "    plan: plan for the research.\n",
        "  \"\"\""
      ]
    },
    {
      "cell_type": "markdown",
      "metadata": {},
      "source": [
        "### think tool \n",
        "The agent should call this tool after each search. This tool will allow the agent to think about the current finidings, identify gaps in the research and decide if further research is neccessary. "
      ]
    },
    {
      "cell_type": "code",
      "execution_count": 14,
      "metadata": {
        "id": "la2QI_1VPzCG"
      },
      "outputs": [],
      "source": [
        "@weave.op\n",
        "@function_tool\n",
        "def think_tool(reflection: str) -> str:\n",
        "    \"\"\"Tool for strategic reflection on research progress and decision-making.\n",
        "\n",
        "    Use this tool after each search to analyze results and plan next steps systematically.\n",
        "    This creates a deliberate pause in the research workflow for quality decision-making.\n",
        "\n",
        "    When to use:\n",
        "    - After receiving search results: What key information did I find?\n",
        "    - Before deciding next steps: Do I have enough to answer comprehensively?\n",
        "    - When assessing research gaps: What specific information am I still missing?\n",
        "    - Before concluding research: Can I provide a complete answer now?\n",
        "\n",
        "    Reflection should address:\n",
        "    1. Analysis of current findings - What concrete information have I gathered?\n",
        "    2. Gap assessment - What crucial information is still missing?\n",
        "    3. Quality evaluation - Do I have sufficient evidence/examples for a good answer?\n",
        "    4. Strategic decision - Should I continue searching or provide my answer?\n",
        "\n",
        "    Args:\n",
        "        reflection: Your detailed reflection on research progress, findings, gaps, and next steps\n",
        "    \"\"\""
      ]
    },
    {
      "cell_type": "code",
      "execution_count": null,
      "metadata": {
        "id": "Hk8FWy25KxqV"
      },
      "outputs": [],
      "source": [
        "ToolCall = [clarification_tool, planning_tool, exa_search, think_tool]"
      ]
    },
    {
      "cell_type": "markdown",
      "metadata": {
        "id": "Si6BmYXWPs4d"
      },
      "source": [
        "## Agent"
      ]
    },
    {
      "cell_type": "code",
      "execution_count": 16,
      "metadata": {},
      "outputs": [],
      "source": [
        "class AgentState(BaseModel):\n",
        "    \"\"\"Manages the state of the agent.\"\"\"\n",
        "    messages: List[Dict[str, Any]] = Field(default_factory=list)\n",
        "    step: int = Field(default=0)\n",
        "    final_assistant_content: str | None = None # Populated at the end of a run"
      ]
    },
    {
      "cell_type": "code",
      "execution_count": null,
      "metadata": {
        "id": "QmTupblVPiWp"
      },
      "outputs": [],
      "source": [
        "class DeepResearchAgent:\n",
        "    \"\"\"A deep research agent class with tracing, state, and tool processing.\"\"\"\n",
        "    def __init__(self, model_name: str, system_message: str, tools: List[Callable]):\n",
        "        self.model_name = model_name\n",
        "        self.system_message = system_message\n",
        "        self.tools = [function_tool(t) for t in tools] # add schemas to the tools\n",
        "\n",
        "    @weave.op(name=\"DeepResearchAgent.step\") # Trace each step\n",
        "    def step(self, state: AgentState) -> AgentState:\n",
        "        step = state.step + 1\n",
        "        messages = state.messages\n",
        "        final_assistant_content = None\n",
        "        try:\n",
        "            # call model with tools\n",
        "            response = call_model(\n",
        "                model_name=self.model_name,\n",
        "                messages=messages,\n",
        "                tools=[t.tool_schema for t in self.tools])\n",
        "\n",
        "            # add the response to the messages\n",
        "            messages.append(response.model_dump())\n",
        "\n",
        "            # if the LLM requested tool calls, perform them\n",
        "            if response.tool_calls:\n",
        "                print(\"LLM requested tool calls:\")\n",
        "                # perform the tool calls\n",
        "                tool_outputs = perform_tool_calls(tools=[clarification_tool, planning_tool, think_tool, exa_search], tool_calls=response.tool_calls)\n",
        "                messages.extend(tool_outputs)\n",
        "\n",
        "            # LLM gave content response\n",
        "            else:\n",
        "                messages.append(response.model_dump())\n",
        "                final_assistant_content = response.content\n",
        "        except Exception as e:\n",
        "            print(f\"ERROR in Agent Step: {e}\")\n",
        "            # Add an error message to history to indicate failure\n",
        "            messages.append({\"role\": \"assistant\", \"content\": f\"Agent error in step: {str(e)}\"})\n",
        "            final_assistant_content = f\"Agent error in step {step}: {str(e)}\"\n",
        "        return AgentState(messages=messages, step=step, final_assistant_content=final_assistant_content)\n",
        "\n",
        "    @weave.op(name=\"DeepResearchAgent.run\")\n",
        "    def run(self, user_prompt: str, max_turns: int = 10) -> AgentState:\n",
        "        state = AgentState(messages=[\n",
        "            {\"role\": \"system\", \"content\": self.system_message},\n",
        "            {\"role\": \"user\", \"content\": user_prompt}])\n",
        "        for _ in range(max_turns):\n",
        "            print(f\"--- Agent Loop Turn {state.step}/{max_turns} ---\")\n",
        "            state = self.step(state)\n",
        "            if state.final_assistant_content:\n",
        "                return state\n",
        "        return state"
      ]
    },
    {
      "cell_type": "markdown",
      "metadata": {
        "id": "vd2u5T11PvOx"
      },
      "source": [
        "## Run"
      ]
    },
    {
      "cell_type": "code",
      "execution_count": null,
      "metadata": {
        "colab": {
          "base_uri": "https://localhost:8080/"
        },
        "collapsed": true,
        "id": "8oCz5d7fCMy8",
        "outputId": "2516646f-ac15-449e-f61d-bd2254d297a3"
      },
      "outputs": [
        {
          "name": "stderr",
          "output_type": "stream",
          "text": [
            "\u001b[36m\u001b[1mweave\u001b[0m: 🍩 https://wandb.ai/wandb-applied-ai-team/london-workshop-2025/r/call/0199f24a-286b-777f-b2e1-6caad2c339d2\n"
          ]
        },
        {
          "name": "stdout",
          "output_type": "stream",
          "text": [
            "--- Agent Loop Turn 0/10 ---\n",
            "LLM requested tool calls:\n"
          ]
        },
        {
          "data": {
            "text/html": [
              "<pre style=\"white-space:pre;overflow-x:auto;line-height:normal;font-family:Menlo,'DejaVu Sans Mono',consolas,'Courier New',monospace\"></pre>\n"
            ],
            "text/plain": []
          },
          "metadata": {},
          "output_type": "display_data"
        },
        {
          "data": {
            "text/html": [
              "<pre style=\"white-space:pre;overflow-x:auto;line-height:normal;font-family:Menlo,'DejaVu Sans Mono',consolas,'Courier New',monospace\"><span style=\"color: #008080; text-decoration-color: #008080\">╭─────────────────────────────────────────────────────────────────────────────────────────────────────────────────╮</span>\n",
              "<span style=\"color: #008080; text-decoration-color: #008080\">│</span> <span style=\"color: #008080; text-decoration-color: #008080; font-weight: bold\">🔧 Tool Call:</span> planning                                                                                          <span style=\"color: #008080; text-decoration-color: #008080\">│</span>\n",
              "<span style=\"color: #008080; text-decoration-color: #008080\">│</span>                                                                                                                 <span style=\"color: #008080; text-decoration-color: #008080\">│</span>\n",
              "<span style=\"color: #008080; text-decoration-color: #008080\">│</span> <span style=\"color: #7f7f7f; text-decoration-color: #7f7f7f\">Args: {\"plan\": \"Research plan for \\\"healthiest vegan milk alternative\\\":\\n\\n1. **Overall analysis**: The user </span>  <span style=\"color: #008080; text-decoration-color: #008080\">│</span>\n",
              "<span style=\"color: #008080; text-decoration-color: #008080\">│</span> <span style=\"color: #7f7f7f; text-decoration-color: #7f7f7f\">wants to know which single vegan milk is \\\"healthiest\\\" - this requires defining health criteria and comparing </span> <span style=\"color: #008080; text-decoration-color: #008080\">│</span>\n",
              "<span style=\"color: #008080; text-decoration-color: #008080\">│</span> <span style=\"color: #7f7f7f; text-decoration-color: #7f7f7f\">major types\\n\\n2. **Sub-queries needed**:\\n   - What are the main types of vegan milk alternatives? (soy, </span>      <span style=\"color: #008080; text-decoration-color: #008080\">│</span>\n",
              "<span style=\"color: #008080; text-decoration-color: #008080\">│</span> <span style=\"color: #7f7f7f; text-decoration-color: #7f7f7f\">almond, oat, coconut, rice, hemp, etc.)\\n   - What nutritional criteria define \\\"healthiest\\\"? (protein, </span>       <span style=\"color: #008080; text-decoration-color: #008080\">│</span>\n",
              "<span style=\"color: #008080; text-decoration-color: #008080\">│</span> <span style=\"color: #7f7f7f; text-decoration-color: #7f7f7f\">calcium, vitamins, sugar, additives, etc.)\\n   - Direct comparison of nutritional profiles across different </span>    <span style=\"color: #008080; text-decoration-color: #008080\">│</span>\n",
              "<span style=\"color: #008080; text-decoration-color: #008080\">│</span> <span style=\"color: #7f7f7f; text-decoration-color: #7f7f7f\">vegan milks\\n   - Expert recommendations and scientific studies on healthiest vegan milk\\n   - Considerations </span>  <span style=\"color: #008080; text-decoration-color: #008080\">│</span>\n",
              "<span style=\"color: #008080; text-decoration-color: #008080\">│</span> <span style=\"color: #7f7f7f; text-decoration-color: #7f7f7f\">for different health needs (bone health, heart health, etc.)\\n\\n3. **Research approach**: Start with </span>           <span style=\"color: #008080; text-decoration-color: #008080\">│</span>\n",
              "<span style=\"color: #008080; text-decoration-color: #008080\">│</span> <span style=\"color: #7f7f7f; text-decoration-color: #7f7f7f\">comprehensive comparisons, then narrow to expert consensus and specific nutritional analysis\"}</span>                  <span style=\"color: #008080; text-decoration-color: #008080\">│</span>\n",
              "<span style=\"color: #008080; text-decoration-color: #008080\">│</span>                                                                                                                 <span style=\"color: #008080; text-decoration-color: #008080\">│</span>\n",
              "<span style=\"color: #008080; text-decoration-color: #008080\">│</span> <span style=\"color: #008000; text-decoration-color: #008000\">✓</span> planning executed successfully                                                                                <span style=\"color: #008080; text-decoration-color: #008080\">│</span>\n",
              "<span style=\"color: #008080; text-decoration-color: #008080\">╰─────────────────────────────────────────────────────────────────────────────────────────────────────────────────╯</span>\n",
              "</pre>\n"
            ],
            "text/plain": [
              "\u001b[36m╭─────────────────────────────────────────────────────────────────────────────────────────────────────────────────╮\u001b[0m\n",
              "\u001b[36m│\u001b[0m \u001b[1;36m🔧 Tool Call:\u001b[0m planning                                                                                          \u001b[36m│\u001b[0m\n",
              "\u001b[36m│\u001b[0m                                                                                                                 \u001b[36m│\u001b[0m\n",
              "\u001b[36m│\u001b[0m \u001b[2mArgs: {\"plan\": \"Research plan for \\\"healthiest vegan milk alternative\\\":\\n\\n1. **Overall analysis**: The user \u001b[0m  \u001b[36m│\u001b[0m\n",
              "\u001b[36m│\u001b[0m \u001b[2mwants to know which single vegan milk is \\\"healthiest\\\" - this requires defining health criteria and comparing \u001b[0m \u001b[36m│\u001b[0m\n",
              "\u001b[36m│\u001b[0m \u001b[2mmajor types\\n\\n2. **Sub-queries needed**:\\n   - What are the main types of vegan milk alternatives? (soy, \u001b[0m      \u001b[36m│\u001b[0m\n",
              "\u001b[36m│\u001b[0m \u001b[2malmond, oat, coconut, rice, hemp, etc.)\\n   - What nutritional criteria define \\\"healthiest\\\"? (protein, \u001b[0m       \u001b[36m│\u001b[0m\n",
              "\u001b[36m│\u001b[0m \u001b[2mcalcium, vitamins, sugar, additives, etc.)\\n   - Direct comparison of nutritional profiles across different \u001b[0m    \u001b[36m│\u001b[0m\n",
              "\u001b[36m│\u001b[0m \u001b[2mvegan milks\\n   - Expert recommendations and scientific studies on healthiest vegan milk\\n   - Considerations \u001b[0m  \u001b[36m│\u001b[0m\n",
              "\u001b[36m│\u001b[0m \u001b[2mfor different health needs (bone health, heart health, etc.)\\n\\n3. **Research approach**: Start with \u001b[0m           \u001b[36m│\u001b[0m\n",
              "\u001b[36m│\u001b[0m \u001b[2mcomprehensive comparisons, then narrow to expert consensus and specific nutritional analysis\"}\u001b[0m                  \u001b[36m│\u001b[0m\n",
              "\u001b[36m│\u001b[0m                                                                                                                 \u001b[36m│\u001b[0m\n",
              "\u001b[36m│\u001b[0m \u001b[32m✓\u001b[0m planning executed successfully                                                                                \u001b[36m│\u001b[0m\n",
              "\u001b[36m╰─────────────────────────────────────────────────────────────────────────────────────────────────────────────────╯\u001b[0m\n"
            ]
          },
          "metadata": {},
          "output_type": "display_data"
        },
        {
          "name": "stdout",
          "output_type": "stream",
          "text": [
            "--- Agent Loop Turn 1/10 ---\n",
            "LLM requested tool calls:\n"
          ]
        },
        {
          "data": {
            "text/html": [
              "<pre style=\"white-space:pre;overflow-x:auto;line-height:normal;font-family:Menlo,'DejaVu Sans Mono',consolas,'Courier New',monospace\">Refining result <span style=\"color: #008080; text-decoration-color: #008080; font-weight: bold\">1</span>\n",
              "</pre>\n"
            ],
            "text/plain": [
              "Refining result \u001b[1;36m1\u001b[0m\n"
            ]
          },
          "metadata": {},
          "output_type": "display_data"
        },
        {
          "data": {
            "text/html": [
              "<pre style=\"white-space:pre;overflow-x:auto;line-height:normal;font-family:Menlo,'DejaVu Sans Mono',consolas,'Courier New',monospace\">Refining result <span style=\"color: #008080; text-decoration-color: #008080; font-weight: bold\">2</span>\n",
              "</pre>\n"
            ],
            "text/plain": [
              "Refining result \u001b[1;36m2\u001b[0m\n"
            ]
          },
          "metadata": {},
          "output_type": "display_data"
        },
        {
          "data": {
            "text/html": [
              "<pre style=\"white-space:pre;overflow-x:auto;line-height:normal;font-family:Menlo,'DejaVu Sans Mono',consolas,'Courier New',monospace\">Refining result <span style=\"color: #008080; text-decoration-color: #008080; font-weight: bold\">3</span>\n",
              "</pre>\n"
            ],
            "text/plain": [
              "Refining result \u001b[1;36m3\u001b[0m\n"
            ]
          },
          "metadata": {},
          "output_type": "display_data"
        },
        {
          "data": {
            "text/html": [
              "<pre style=\"white-space:pre;overflow-x:auto;line-height:normal;font-family:Menlo,'DejaVu Sans Mono',consolas,'Courier New',monospace\">Refining result <span style=\"color: #008080; text-decoration-color: #008080; font-weight: bold\">4</span>\n",
              "</pre>\n"
            ],
            "text/plain": [
              "Refining result \u001b[1;36m4\u001b[0m\n"
            ]
          },
          "metadata": {},
          "output_type": "display_data"
        },
        {
          "data": {
            "text/html": [
              "<pre style=\"white-space:pre;overflow-x:auto;line-height:normal;font-family:Menlo,'DejaVu Sans Mono',consolas,'Courier New',monospace\">Refining result <span style=\"color: #008080; text-decoration-color: #008080; font-weight: bold\">5</span>\n",
              "</pre>\n"
            ],
            "text/plain": [
              "Refining result \u001b[1;36m5\u001b[0m\n"
            ]
          },
          "metadata": {},
          "output_type": "display_data"
        },
        {
          "data": {
            "text/html": [
              "<pre style=\"white-space:pre;overflow-x:auto;line-height:normal;font-family:Menlo,'DejaVu Sans Mono',consolas,'Courier New',monospace\"></pre>\n"
            ],
            "text/plain": []
          },
          "metadata": {},
          "output_type": "display_data"
        },
        {
          "data": {
            "text/html": [
              "<pre style=\"white-space:pre;overflow-x:auto;line-height:normal;font-family:Menlo,'DejaVu Sans Mono',consolas,'Courier New',monospace\"><span style=\"color: #008080; text-decoration-color: #008080\">╭─────────────────────────────────────────────────────────────────────────────────────────────────────────────────╮</span>\n",
              "<span style=\"color: #008080; text-decoration-color: #008080\">│</span> <span style=\"color: #008080; text-decoration-color: #008080; font-weight: bold\">🔧 Tool Call:</span> exa_search_and_refine                                                                             <span style=\"color: #008080; text-decoration-color: #008080\">│</span>\n",
              "<span style=\"color: #008080; text-decoration-color: #008080\">│</span>                                                                                                                 <span style=\"color: #008080; text-decoration-color: #008080\">│</span>\n",
              "<span style=\"color: #008080; text-decoration-color: #008080\">│</span> <span style=\"color: #7f7f7f; text-decoration-color: #7f7f7f\">Args: {\"query\": \"healthiest vegan milk alternative comparison nutritional analysis soy almond oat coconut\", </span>    <span style=\"color: #008080; text-decoration-color: #008080\">│</span>\n",
              "<span style=\"color: #008080; text-decoration-color: #008080\">│</span> <span style=\"color: #7f7f7f; text-decoration-color: #7f7f7f\">\"num_results\": 5}</span>                                                                                               <span style=\"color: #008080; text-decoration-color: #008080\">│</span>\n",
              "<span style=\"color: #008080; text-decoration-color: #008080\">│</span>                                                                                                                 <span style=\"color: #008080; text-decoration-color: #008080\">│</span>\n",
              "<span style=\"color: #008080; text-decoration-color: #008080\">│</span> <span style=\"color: #008000; text-decoration-color: #008000\">✓</span> Found 5 results                                                                                               <span style=\"color: #008080; text-decoration-color: #008080\">│</span>\n",
              "<span style=\"color: #008080; text-decoration-color: #008080\">╰─────────────────────────────────────────────────────────────────────────────────────────────────────────────────╯</span>\n",
              "</pre>\n"
            ],
            "text/plain": [
              "\u001b[36m╭─────────────────────────────────────────────────────────────────────────────────────────────────────────────────╮\u001b[0m\n",
              "\u001b[36m│\u001b[0m \u001b[1;36m🔧 Tool Call:\u001b[0m exa_search_and_refine                                                                             \u001b[36m│\u001b[0m\n",
              "\u001b[36m│\u001b[0m                                                                                                                 \u001b[36m│\u001b[0m\n",
              "\u001b[36m│\u001b[0m \u001b[2mArgs: {\"query\": \"healthiest vegan milk alternative comparison nutritional analysis soy almond oat coconut\", \u001b[0m    \u001b[36m│\u001b[0m\n",
              "\u001b[36m│\u001b[0m \u001b[2m\"num_results\": 5}\u001b[0m                                                                                               \u001b[36m│\u001b[0m\n",
              "\u001b[36m│\u001b[0m                                                                                                                 \u001b[36m│\u001b[0m\n",
              "\u001b[36m│\u001b[0m \u001b[32m✓\u001b[0m Found 5 results                                                                                               \u001b[36m│\u001b[0m\n",
              "\u001b[36m╰─────────────────────────────────────────────────────────────────────────────────────────────────────────────────╯\u001b[0m\n"
            ]
          },
          "metadata": {},
          "output_type": "display_data"
        },
        {
          "name": "stdout",
          "output_type": "stream",
          "text": [
            "--- Agent Loop Turn 2/10 ---\n",
            "LLM requested tool calls:\n"
          ]
        },
        {
          "data": {
            "text/html": [
              "<pre style=\"white-space:pre;overflow-x:auto;line-height:normal;font-family:Menlo,'DejaVu Sans Mono',consolas,'Courier New',monospace\"></pre>\n"
            ],
            "text/plain": []
          },
          "metadata": {},
          "output_type": "display_data"
        },
        {
          "data": {
            "text/html": [
              "<pre style=\"white-space:pre;overflow-x:auto;line-height:normal;font-family:Menlo,'DejaVu Sans Mono',consolas,'Courier New',monospace\"><span style=\"color: #008080; text-decoration-color: #008080\">╭─────────────────────────────────────────────────────────────────────────────────────────────────────────────────╮</span>\n",
              "<span style=\"color: #008080; text-decoration-color: #008080\">│</span> <span style=\"color: #008080; text-decoration-color: #008080; font-weight: bold\">🔧 Tool Call:</span> think_tool                                                                                        <span style=\"color: #008080; text-decoration-color: #008080\">│</span>\n",
              "<span style=\"color: #008080; text-decoration-color: #008080\">│</span>                                                                                                                 <span style=\"color: #008080; text-decoration-color: #008080\">│</span>\n",
              "<span style=\"color: #008080; text-decoration-color: #008080\">│</span> <span style=\"color: #7f7f7f; text-decoration-color: #7f7f7f\">Args: {\"reflection\": \"Key findings from the search results:\\n\\n1. **Consensus on soy milk**: Multiple sources </span>  <span style=\"color: #008080; text-decoration-color: #008080\">│</span>\n",
              "<span style=\"color: #008080; text-decoration-color: #008080\">│</span> <span style=\"color: #7f7f7f; text-decoration-color: #7f7f7f\">(ConsumerLab, EatingWell, Plant Milk Guide) agree that soy milk is nutritionally superior due to its complete </span>  <span style=\"color: #008080; text-decoration-color: #008080\">│</span>\n",
              "<span style=\"color: #008080; text-decoration-color: #008080\">│</span> <span style=\"color: #7f7f7f; text-decoration-color: #7f7f7f\">protein profile (7g per cup), which is comparable to cow's milk.\\n\\n2. **Nutritional trade-offs identified**:\\n</span> <span style=\"color: #008080; text-decoration-color: #008080\">│</span>\n",
              "<span style=\"color: #008080; text-decoration-color: #008080\">│</span> <span style=\"color: #7f7f7f; text-decoration-color: #7f7f7f\">- **Soy**: Best protein, balanced nutrition, but contains phytoestrogens\\n   - **Almond**: Lowest calories, but</span> <span style=\"color: #008080; text-decoration-color: #008080\">│</span>\n",
              "<span style=\"color: #008080; text-decoration-color: #008080\">│</span> <span style=\"color: #7f7f7f; text-decoration-color: #7f7f7f\">extremely low in protein (1g)\\n   - **Oat**: Good fiber and moderate protein, but high in carbs/sugars\\n   - </span>   <span style=\"color: #008080; text-decoration-color: #008080\">│</span>\n",
              "<span style=\"color: #008080; text-decoration-color: #008080\">│</span> <span style=\"color: #7f7f7f; text-decoration-color: #7f7f7f\">**Coconut**: Low in calories but high in saturated fat and zero protein\\n\\n3. **Important caveats**:\\n   - </span>     <span style=\"color: #008080; text-decoration-color: #008080\">│</span>\n",
              "<span style=\"color: #008080; text-decoration-color: #008080\">│</span> <span style=\"color: #7f7f7f; text-decoration-color: #7f7f7f\">Fortification matters significantly (most are fortified but not equally)\\n   - Some contain heavy metals </span>       <span style=\"color: #008080; text-decoration-color: #008080\">│</span>\n",
              "<span style=\"color: #008080; text-decoration-color: #008080\">│</span> <span style=\"color: #7f7f7f; text-decoration-color: #7f7f7f\">(arsenic in rice milk, though not on my list)\\n   - Iodine deficiency risk with plant milks\\n   - Processing </span>   <span style=\"color: #008080; text-decoration-color: #008080\">│</span>\n",
              "<span style=\"color: #008080; text-decoration-color: #008080\">│</span> <span style=\"color: #7f7f7f; text-decoration-color: #7f7f7f\">and additives vary by brand\\n\\n4. **What I might be missing**:\\n   - More recent studies on health impacts\\n   </span> <span style=\"color: #008080; text-decoration-color: #008080\">│</span>\n",
              "<span style=\"color: #008080; text-decoration-color: #008080\">│</span> <span style=\"color: #7f7f7f; text-decoration-color: #7f7f7f\">- Comparison with other emerging milks (pea, etc.)\\n   - Specific health condition </span>                             <span style=\"color: #008080; text-decoration-color: #008080\">│</span>\n",
              "<span style=\"color: #008080; text-decoration-color: #008080\">│</span> <span style=\"color: #7f7f7f; text-decoration-color: #7f7f7f\">considerations\\n\\n**Assessment**: I have solid, consistent evidence from multiple expert sources identifying </span>   <span style=\"color: #008080; text-decoration-color: #008080\">│</span>\n",
              "<span style=\"color: #008080; text-decoration-color: #008080\">│</span> <span style=\"color: #7f7f7f; text-decoration-color: #7f7f7f\">soy milk as healthiest overall. The information appears comprehensive and authoritative. I have enough to </span>      <span style=\"color: #008080; text-decoration-color: #008080\">│</span>\n",
              "<span style=\"color: #008080; text-decoration-color: #008080\">│</span> <span style=\"color: #7f7f7f; text-decoration-color: #7f7f7f\">provide a thorough answer.\"}</span>                                                                                    <span style=\"color: #008080; text-decoration-color: #008080\">│</span>\n",
              "<span style=\"color: #008080; text-decoration-color: #008080\">│</span>                                                                                                                 <span style=\"color: #008080; text-decoration-color: #008080\">│</span>\n",
              "<span style=\"color: #008080; text-decoration-color: #008080\">│</span> <span style=\"color: #008000; text-decoration-color: #008000\">✓</span> think_tool executed successfully                                                                              <span style=\"color: #008080; text-decoration-color: #008080\">│</span>\n",
              "<span style=\"color: #008080; text-decoration-color: #008080\">╰─────────────────────────────────────────────────────────────────────────────────────────────────────────────────╯</span>\n",
              "</pre>\n"
            ],
            "text/plain": [
              "\u001b[36m╭─────────────────────────────────────────────────────────────────────────────────────────────────────────────────╮\u001b[0m\n",
              "\u001b[36m│\u001b[0m \u001b[1;36m🔧 Tool Call:\u001b[0m think_tool                                                                                        \u001b[36m│\u001b[0m\n",
              "\u001b[36m│\u001b[0m                                                                                                                 \u001b[36m│\u001b[0m\n",
              "\u001b[36m│\u001b[0m \u001b[2mArgs: {\"reflection\": \"Key findings from the search results:\\n\\n1. **Consensus on soy milk**: Multiple sources \u001b[0m  \u001b[36m│\u001b[0m\n",
              "\u001b[36m│\u001b[0m \u001b[2m(ConsumerLab, EatingWell, Plant Milk Guide) agree that soy milk is nutritionally superior due to its complete \u001b[0m  \u001b[36m│\u001b[0m\n",
              "\u001b[36m│\u001b[0m \u001b[2mprotein profile (7g per cup), which is comparable to cow's milk.\\n\\n2. **Nutritional trade-offs identified**:\\n\u001b[0m \u001b[36m│\u001b[0m\n",
              "\u001b[36m│\u001b[0m \u001b[2m- **Soy**: Best protein, balanced nutrition, but contains phytoestrogens\\n   - **Almond**: Lowest calories, but\u001b[0m \u001b[36m│\u001b[0m\n",
              "\u001b[36m│\u001b[0m \u001b[2mextremely low in protein (1g)\\n   - **Oat**: Good fiber and moderate protein, but high in carbs/sugars\\n   - \u001b[0m   \u001b[36m│\u001b[0m\n",
              "\u001b[36m│\u001b[0m \u001b[2m**Coconut**: Low in calories but high in saturated fat and zero protein\\n\\n3. **Important caveats**:\\n   - \u001b[0m     \u001b[36m│\u001b[0m\n",
              "\u001b[36m│\u001b[0m \u001b[2mFortification matters significantly (most are fortified but not equally)\\n   - Some contain heavy metals \u001b[0m       \u001b[36m│\u001b[0m\n",
              "\u001b[36m│\u001b[0m \u001b[2m(arsenic in rice milk, though not on my list)\\n   - Iodine deficiency risk with plant milks\\n   - Processing \u001b[0m   \u001b[36m│\u001b[0m\n",
              "\u001b[36m│\u001b[0m \u001b[2mand additives vary by brand\\n\\n4. **What I might be missing**:\\n   - More recent studies on health impacts\\n   \u001b[0m \u001b[36m│\u001b[0m\n",
              "\u001b[36m│\u001b[0m \u001b[2m- Comparison with other emerging milks (pea, etc.)\\n   - Specific health condition \u001b[0m                             \u001b[36m│\u001b[0m\n",
              "\u001b[36m│\u001b[0m \u001b[2mconsiderations\\n\\n**Assessment**: I have solid, consistent evidence from multiple expert sources identifying \u001b[0m   \u001b[36m│\u001b[0m\n",
              "\u001b[36m│\u001b[0m \u001b[2msoy milk as healthiest overall. The information appears comprehensive and authoritative. I have enough to \u001b[0m      \u001b[36m│\u001b[0m\n",
              "\u001b[36m│\u001b[0m \u001b[2mprovide a thorough answer.\"}\u001b[0m                                                                                    \u001b[36m│\u001b[0m\n",
              "\u001b[36m│\u001b[0m                                                                                                                 \u001b[36m│\u001b[0m\n",
              "\u001b[36m│\u001b[0m \u001b[32m✓\u001b[0m think_tool executed successfully                                                                              \u001b[36m│\u001b[0m\n",
              "\u001b[36m╰─────────────────────────────────────────────────────────────────────────────────────────────────────────────────╯\u001b[0m\n"
            ]
          },
          "metadata": {},
          "output_type": "display_data"
        },
        {
          "name": "stdout",
          "output_type": "stream",
          "text": [
            "--- Agent Loop Turn 3/10 ---\n",
            "Final response: Based on comprehensive nutritional analysis from dietitians and consumer research organizations, **soy milk** emerges as the healthiest vegan milk alternative overall.\n",
            "\n",
            "## Why Soy Milk Ranks #1\n",
            "\n",
            "**Complete Protein**: With 7g of complete protein per cup, soy milk is the only plant milk that provides all essential amino acids in amounts comparable to dairy milk - significantly higher than almond (1g), oat (3g), or coconut (0g).\n",
            "\n",
            "**Balanced Nutrition Profile**:\n",
            "- **Calories**: 80 per cup (moderate, not too high or low)\n",
            "- **Fat**: 4g, mostly heart-healthy unsaturated fats\n",
            "- **Carbohydrates**: 4g (low, suitable for blood sugar management)\n",
            "- **Sugars**: 1g (minimal)\n",
            "- **Saturated Fat**: Very low vs. coconut milk's 4.5g saturated fat\n",
            "\n",
            "## How Other Milks Compare\n",
            "\n",
            "| Milk Alternative | Protein (g) | Calories | Key Limitations |\n",
            "|------------------|-------------|----------|-----------------|\n",
            "| **Almond Milk**  | 1g | 30-60 | Extremely low protein, mostly water |\n",
            "| **Oat Milk**     | 3g | 120 | High in carbs (16g) and natural sugars (7g) |\n",
            "| **Coconut Milk** | 0g | 45 | Zero protein, high saturated fat |\n",
            "| **Soy Milk**     | 7g | 80 | Contains phytoestrogens (generally safe for most people) |\n",
            "\n",
            "## Critical Considerations\n",
            "\n",
            "**Fortification Matters**: Choose **unsweetened, fortified varieties** as these contain added calcium, vitamin B12, and vitamin D that match or exceed dairy milk levels.\n",
            "\n",
            "**Health Concerns**: While some worry about soy's phytoestrogens affecting hormones, most research shows these compounds are actually beneficial, supporting heart and brain health when consumed in typical amounts.\n",
            "\n",
            "**Special Needs**:\n",
            "- **Low-calorie dieters**: Almond milk might be preferred\n",
            "- **Higher energy needs**: Oat milk provides more calories\n",
            "- **Nut allergies**: Soy or oat milk are suitable alternatives\n",
            "\n",
            "The evidence from ConsumerLab, EatingWell's dietitians, and comparative nutrition studies consistently concludes that soy milk offers the most complete, balanced nutritional profile among plant-based alternatives.\n"
          ]
        }
      ],
      "source": [
        "if __name__ == \"__main__\":\n",
        "\n",
        "\tagent = DeepResearchAgent(\n",
        "\t\tmodel_name=MODEL_LARGE,\n",
        "\t\tsystem_message=DEEP_RESEARCH_AGENT_PROMPT.format(date=get_today_str()),\n",
        "\t\ttools=[clarification_tool, planning_tool, think_tool, exa_search]\n",
        "\t)\n",
        "\tstate = agent.run(user_prompt=\"What type of vegan milk alternative is the healthiest?\")\n",
        "\tprint(f\"Final response: {state.final_assistant_content}\")"
      ]
    },
    {
      "cell_type": "markdown",
      "metadata": {
        "id": "6_5IL_dXexSz"
      },
      "source": []
    }
  ],
  "metadata": {
    "colab": {
      "provenance": []
    },
    "kernelspec": {
      "display_name": ".venv",
      "language": "python",
      "name": "python3"
    },
    "language_info": {
      "codemirror_mode": {
        "name": "ipython",
        "version": 3
      },
      "file_extension": ".py",
      "mimetype": "text/x-python",
      "name": "python",
      "nbconvert_exporter": "python",
      "pygments_lexer": "ipython3",
      "version": "3.12.7"
    },
    "widgets": {
      "application/vnd.jupyter.widget-state+json": {
        "2979e24129fb43f2b26af01503c7dadb": {
          "model_module": "@jupyter-widgets/base",
          "model_module_version": "1.2.0",
          "model_name": "LayoutModel",
          "state": {
            "_model_module": "@jupyter-widgets/base",
            "_model_module_version": "1.2.0",
            "_model_name": "LayoutModel",
            "_view_count": null,
            "_view_module": "@jupyter-widgets/base",
            "_view_module_version": "1.2.0",
            "_view_name": "LayoutView",
            "align_content": null,
            "align_items": null,
            "align_self": null,
            "border": null,
            "bottom": null,
            "display": null,
            "flex": null,
            "flex_flow": null,
            "grid_area": null,
            "grid_auto_columns": null,
            "grid_auto_flow": null,
            "grid_auto_rows": null,
            "grid_column": null,
            "grid_gap": null,
            "grid_row": null,
            "grid_template_areas": null,
            "grid_template_columns": null,
            "grid_template_rows": null,
            "height": null,
            "justify_content": null,
            "justify_items": null,
            "left": null,
            "margin": null,
            "max_height": null,
            "max_width": null,
            "min_height": null,
            "min_width": null,
            "object_fit": null,
            "object_position": null,
            "order": null,
            "overflow": null,
            "overflow_x": null,
            "overflow_y": null,
            "padding": null,
            "right": null,
            "top": null,
            "visibility": null,
            "width": null
          }
        },
        "8e94c428730841c3bdaeaf82eb73381b": {
          "model_module": "@jupyter-widgets/output",
          "model_module_version": "1.0.0",
          "model_name": "OutputModel",
          "state": {
            "_dom_classes": [],
            "_model_module": "@jupyter-widgets/output",
            "_model_module_version": "1.0.0",
            "_model_name": "OutputModel",
            "_view_count": null,
            "_view_module": "@jupyter-widgets/output",
            "_view_module_version": "1.0.0",
            "_view_name": "OutputView",
            "layout": "IPY_MODEL_2979e24129fb43f2b26af01503c7dadb",
            "msg_id": "",
            "outputs": [
              {
                "data": {
                  "text/html": "<pre style=\"white-space:pre;overflow-x:auto;line-height:normal;font-family:Menlo,'DejaVu Sans Mono',consolas,'Courier New',monospace\"></pre>\n",
                  "text/plain": ""
                },
                "metadata": {},
                "output_type": "display_data"
              }
            ]
          }
        }
      }
    }
  },
  "nbformat": 4,
  "nbformat_minor": 0
}
