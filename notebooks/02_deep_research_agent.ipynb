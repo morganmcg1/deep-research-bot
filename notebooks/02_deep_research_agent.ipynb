{
  "cells": [
    {
      "cell_type": "markdown",
      "metadata": {
        "id": "lc7GKwVJ23R6"
      },
      "source": [
        "# Building Deep Research Agent \n",
        "\n",
        "This script will walk you through building on top of our simple tool calling agent to evolve it to a full Deep Research Agent. \n",
        "We will cover: \n",
        "1. Prompting strategies \n",
        "2. Multi-tool agents designg\n",
        "3. Compacting conversations \n",
        "\n",
        "Docs: \n",
        "Weights & Biases Inference [docs](https://docs.wandb.ai/guides/inference/)"
      ]
    },
    {
      "cell_type": "markdown",
      "metadata": {
        "id": "g1huUI69O3bx"
      },
      "source": [
        "## Imports + API keys\n",
        "\n",
        "Our Deep Research Agent will actually still only use 2 services: \n",
        "1. W&B for inference and tracking \n",
        "2. Exa for web search "
      ]
    },
    {
      "cell_type": "code",
      "execution_count": 1,
      "metadata": {
        "colab": {
          "base_uri": "https://localhost:8080/"
        },
        "collapsed": true,
        "id": "9hK_PEje-0S-",
        "outputId": "62505f66-0072-40e2-e24e-601778a14d60"
      },
      "outputs": [],
      "source": [
        "#if you are running this on colab, uncomment the following line and run it\n",
        "#!uv pip install exa-py weave openai"
      ]
    },
    {
      "cell_type": "code",
      "execution_count": 2,
      "metadata": {},
      "outputs": [],
      "source": [
        "# auto reload and reload ext\n",
        "%load_ext autoreload\n",
        "%autoreload 2"
      ]
    },
    {
      "cell_type": "code",
      "execution_count": 3,
      "metadata": {
        "id": "BEiKMVKS8slD"
      },
      "outputs": [],
      "source": [
        "# Global Configuration & Setup\n",
        "import inspect\n",
        "import json\n",
        "import os\n",
        "import requests\n",
        "import weave\n",
        "import openai\n",
        "from enum import Enum\n",
        "from pydantic import BaseModel, Field\n",
        "from rich.pretty import pprint\n",
        "from typing import Any, Callable, Dict, List, get_type_hints\n",
        "from exa_py import Exa\n",
        "from datetime import datetime\n"
      ]
    },
    {
      "cell_type": "code",
      "execution_count": 4,
      "metadata": {
        "id": "Hslss_PdY992"
      },
      "outputs": [],
      "source": [
        "#if you are running this on colab, uncomment the following lines and run it\n",
        "#from google.colab import userdata\n",
        "#EXA_API_KEY=userdata.get('EXA_API_KEY')\n",
        "#OPENAI_API_KEY=userdata.get('OPENAI_API_KEY')\n",
        "#WANDB_API_KEY=userdata.get('WANDB_API_KEY')\n",
        "\n",
        "# if you use .env file, uncomment the following lines and run it\n",
        "from dotenv import load_dotenv\n",
        "load_dotenv()\n",
        "EXA_API_KEY=os.getenv('EXA_API_KEY')\n",
        "OPENAI_API_KEY=os.getenv('OPENAI_API_KEY')\n",
        "WANDB_API_KEY=os.getenv('WANDB_API_KEY')\n"
      ]
    },
    {
      "cell_type": "code",
      "execution_count": 5,
      "metadata": {
        "id": "29IL8eNR73wn"
      },
      "outputs": [
        {
          "name": "stderr",
          "output_type": "stream",
          "text": [
            "\u001b[36m\u001b[1mweave\u001b[0m: weave version 0.52.10 is available!  To upgrade, please run:\n",
            "\u001b[36m\u001b[1mweave\u001b[0m:  $ pip install weave --upgrade\n",
            "\u001b[36m\u001b[1mweave\u001b[0m: Logged in as Weights & Biases user: agatamlyn.\n",
            "\u001b[36m\u001b[1mweave\u001b[0m: View Weave data at https://wandb.ai/wandb-applied-ai-team/london-workshop-2025/weave\n"
          ]
        },
        {
          "data": {
            "text/plain": [
              "<weave.trace.weave_client.WeaveClient at 0x11097bfe0>"
            ]
          },
          "execution_count": 5,
          "metadata": {},
          "output_type": "execute_result"
        }
      ],
      "source": [
        "MODEL_SMALL = \"Qwen/Qwen3-235B-A22B-Instruct-2507\"\n",
        "MODEL_MEDIUM = \"zai-org/GLM-4.5\"\n",
        "MODEL_LARGE = \"moonshotai/Kimi-K2-Instruct\"\n",
        "\n",
        "WANDB_ENTITY = \"wandb-applied-ai-team\"\n",
        "WANDB_PROJECT = \"london-workshop-2025\"\n",
        "\n",
        "oai_client = openai.OpenAI(\n",
        "    base_url='https://api.inference.wandb.ai/v1',\n",
        "    api_key=os.getenv(\"WANDB_API_KEY\"),\n",
        "    project=f\"{WANDB_ENTITY}/{WANDB_PROJECT}\")\n",
        "\n",
        "exa_client = Exa(api_key=os.getenv(\"EXA_API_KEY\"))\n",
        "\n",
        "weave.init(\"wandb-applied-ai-team/london-workshop-2025\")"
      ]
    },
    {
      "cell_type": "markdown",
      "metadata": {
        "id": "DcFtYhvCO9Bw"
      },
      "source": [
        "## Helper functions"
      ]
    },
    {
      "cell_type": "code",
      "execution_count": 6,
      "metadata": {},
      "outputs": [],
      "source": [
        "#these are the same functions we have covered in the notebook 01_simple_tool_calling_agent.ipynb so lets just import them here\n",
        "from utils import function_tool, perform_tool_calls"
      ]
    },
    {
      "cell_type": "code",
      "execution_count": 7,
      "metadata": {},
      "outputs": [],
      "source": [
        "@weave.op\n",
        "def call_model(model_name: str, messages: List[Dict[str, Any]], **kwargs) -> str:\n",
        "    \"Call a model with the given messages and kwargs.\"\n",
        "    response = oai_client.chat.completions.create(\n",
        "        model=model_name,\n",
        "        messages=messages,\n",
        "        **kwargs\n",
        "    )\n",
        "\n",
        "    return response.choices[0].message"
      ]
    },
    {
      "cell_type": "code",
      "execution_count": 8,
      "metadata": {
        "id": "l7Pc1RavUyx0"
      },
      "outputs": [],
      "source": [
        "def get_today_str() -> str:\n",
        "    \"\"\"Get current date in a human-readable format.\"\"\"\n",
        "    return datetime.now().strftime(\"%a %b %-d, %Y\")"
      ]
    },
    {
      "cell_type": "markdown",
      "metadata": {
        "id": "nH2oK-UlTaOp"
      },
      "source": [
        "## Prompts"
      ]
    },
    {
      "cell_type": "code",
      "execution_count": 9,
      "metadata": {
        "id": "Pr67sUm2TZmk"
      },
      "outputs": [],
      "source": [
        "DEEP_RESEARCH_AGENT_PROMPT = \"\"\"\n",
        "  You are a research assistant conducting research on the user's input topic. For context, today's date is {date}.                                                                                                        │\n",
        "\n",
        "  <Task>\n",
        "  Your job is to use tools to gather information about the user's input topic.\n",
        "  You can use any of the tools provided to you to find resources that can help answer the research question.\n",
        "  You can call these tools in series or in parallel, your research is conducted in a tool-calling loop.\n",
        "  Your response should be a thorough answer to the user's question, citing sources and reasoning, providing an overview of the facts or any gaps in the subject.\n",
        "  </Task>\n",
        "\n",
        "  <Available Tools>\n",
        "  You have access to the following tools:\n",
        "  1. **clarification_tool**: For asking user clarifying questions if needed. If you have clarifying questions start with this.\n",
        "  2. **planning_tool**: For planning the research.\n",
        "  2. **exa_search**: For conducting web searches to gather information\n",
        "  2. **think_tool**: For reflection and strategic planning during research\n",
        "\n",
        "  **CRITICAL: Use think_tool after each search to reflect on results and plan next steps**\n",
        "  </Available Tools>\n",
        "\n",
        "  <Instructions>\n",
        "  Think like a human researcher with limited time. Follow these steps:\n",
        "\n",
        "  1. **Read the question carefully** - What specific information does the user need?\n",
        "  2. **Start with broader searches** - Use broad, comprehensive queries first\n",
        "  3. **After each search, pause and assess** - Do I have enough to answer? What's still missing?\n",
        "  4. **Execute narrower searches as you gather information** - Fill in the gaps\n",
        "  5. **Stop when you can answer confidently** - Don't keep searching for perfection\n",
        "  6. **Provide an answer** - At the end, always provide the answer from your research.\n",
        "  </Instructions>\n",
        "\n",
        "  <Hard Limits>\n",
        "  **Tool Call Budgets** (Prevent excessive searching):\n",
        "  - **Simple queries**: Use 2-3 search tool calls maximum\n",
        "  - **Complex queries**: Use up to 5 search tool calls maximum\n",
        "  - **Always stop**: After 5 search tool calls if you cannot find the right sources\n",
        "\n",
        "  **Stop Immediately When**:\n",
        "  - You can answer the user's question comprehensively\n",
        "  - You have 3+ relevant examples/sources for the question\n",
        "  - Your last 2 searches returned similar information\n",
        "  </Hard Limits>\n",
        "\n",
        "  <Show Your Thinking>\n",
        "  After each search tool call, use think_tool to analyze the results:\n",
        "  - What key information did I find?\n",
        "  - What's missing?\n",
        "  - Do I have enough to answer the question comprehensively?\n",
        "  - Should I search more or provide my answer?\n",
        "  </Show Your Thinking>\n",
        "\"\"\""
      ]
    },
    {
      "cell_type": "markdown",
      "metadata": {
        "id": "m9fR1uLAPQER"
      },
      "source": [
        "## Tools\n",
        "\n",
        "Thomas already introduced our first tool the exa_search tool so we will import it from our tools.py instead of redefining it. \n",
        "\n",
        "Next we will add 3 new tools to make upgrade this agent from a simple search agent to a deep research one. "
      ]
    },
    {
      "cell_type": "code",
      "execution_count": 10,
      "metadata": {},
      "outputs": [],
      "source": [
        "# import the exa_search tool Thomas introduced in the previous notebook 01_simple_tool_calling_agent.ipynb\n",
        "from tools import exa_search_and_refine\n",
        "exa_search = exa_search_and_refine"
      ]
    },
    {
      "cell_type": "markdown",
      "metadata": {},
      "source": [
        "### clarification tool\n",
        "If you have used another deep research service, like ChatGPT Deep Research, you will be failiar with the first step which is the claryfication questions. Users oftentime submit a one sentance request which often lacks the necessary information to provide them a deep answer that will really answer what they were looking for. \n",
        "In the case of ChatGPT, these questions are mandatory and happen every time you create a new Deep Research request, in our case we actually give the agent the choice to call the tool if it thinks it needs more information to get started. "
      ]
    },
    {
      "cell_type": "code",
      "execution_count": 11,
      "metadata": {},
      "outputs": [],
      "source": [
        "@weave.op\n",
        "@function_tool\n",
        "def clarification_tool(clarifying_questions):\n",
        "  \"\"\"                                                                                                                                                                                                               │                                                                                                                 │\n",
        "  Use this tool to ask clarifying questions to the user.\n",
        "  IMPORTANT: If you can see in the messages history that you have already asked a clarifying question, you almost always do not need to ask another one. Only ask another question if ABSOLUTELY NECESSARY.\n",
        "\n",
        "  If there are acronyms, abbreviations, or unknown terms, ask the user to clarify.\n",
        "  If you need to ask a question, follow these guidelines:\n",
        "  - Be concise while gathering all necessary information.\n",
        "  - Only ask max 3 questions.\n",
        "  - Make sure to gather all the information needed to carry out the research task in a concise, well-structured manner.\n",
        "  - Use bullet points or numbered lists if appropriate for clarity. Make sure that this uses markdown formatting and will be rendered correctly if the string output is passed to a markdown renderer.\n",
        "  - Don't ask for unnecessary information, or information that the user has already provided. If you can see that the user has already provided the information, do not ask for it again.\n",
        "\n",
        "  This tool will return the user clarifications.\n",
        "  \"\"\"\n",
        "  output = input(clarifying_questions)\n",
        "  return output\n"
      ]
    },
    {
      "cell_type": "markdown",
      "metadata": {},
      "source": [
        "### planning tool\n",
        "Another tool available for the agent is the planning tool. The agent should use this tool to analyze the users query and break it down into subqueries."
      ]
    },
    {
      "cell_type": "code",
      "execution_count": 12,
      "metadata": {
        "id": "58zgUvgb9Qb0"
      },
      "outputs": [],
      "source": [
        "@weave.op\n",
        "@function_tool\n",
        "def planning_tool(plan: str) -> str:\n",
        "  \"\"\"Tool for planning the research.\n",
        "\n",
        "  If there are no clarifying questions, use this tool as the first step of the research.\n",
        "\n",
        "  Your plan should include:\n",
        "  1. Short analysis of user request.\n",
        "  2. Sub-queries broken down from users request, for example: if the query is 'what are 3 heaviest pokemons and their weight combined' the sub queries should be 'what are 3 heaviest pokemons' 'pokemon1 weight', 'pokemon2 weight', 'pokemon3 weight'.\n",
        "\n",
        "  Args:\n",
        "    plan: plan for the research.\n",
        "  \"\"\""
      ]
    },
    {
      "cell_type": "markdown",
      "metadata": {},
      "source": [
        "### think tool \n",
        "The agent should call this tool after each search. This tool will allow the agent to think about the current finidings, identify gaps in the research and decide if further research is neccessary. "
      ]
    },
    {
      "cell_type": "code",
      "execution_count": 13,
      "metadata": {
        "id": "la2QI_1VPzCG"
      },
      "outputs": [],
      "source": [
        "@weave.op\n",
        "@function_tool\n",
        "def think_tool(reflection: str) -> str:\n",
        "    \"\"\"Tool for strategic reflection on research progress and decision-making.\n",
        "\n",
        "    Use this tool after each search to analyze results and plan next steps systematically.\n",
        "    This creates a deliberate pause in the research workflow for quality decision-making.\n",
        "\n",
        "    When to use:\n",
        "    - After receiving search results: What key information did I find?\n",
        "    - Before deciding next steps: Do I have enough to answer comprehensively?\n",
        "    - When assessing research gaps: What specific information am I still missing?\n",
        "    - Before concluding research: Can I provide a complete answer now?\n",
        "\n",
        "    Reflection should address:\n",
        "    1. Analysis of current findings - What concrete information have I gathered?\n",
        "    2. Gap assessment - What crucial information is still missing?\n",
        "    3. Quality evaluation - Do I have sufficient evidence/examples for a good answer?\n",
        "    4. Strategic decision - Should I continue searching or provide my answer?\n",
        "\n",
        "    Args:\n",
        "        reflection: Your detailed reflection on research progress, findings, gaps, and next steps\n",
        "    \"\"\""
      ]
    },
    {
      "cell_type": "code",
      "execution_count": 14,
      "metadata": {
        "id": "Hk8FWy25KxqV"
      },
      "outputs": [],
      "source": [
        "ToolCall = [clarification_tool, planning_tool, exa_search, think_tool]"
      ]
    },
    {
      "cell_type": "markdown",
      "metadata": {
        "id": "Si6BmYXWPs4d"
      },
      "source": [
        "## Agent"
      ]
    },
    {
      "cell_type": "code",
      "execution_count": 15,
      "metadata": {},
      "outputs": [],
      "source": [
        "class AgentState(BaseModel):\n",
        "    \"\"\"Manages the state of the agent.\"\"\"\n",
        "    messages: List[Dict[str, Any]] = Field(default_factory=list)\n",
        "    step: int = Field(default=0)\n",
        "    final_assistant_content: str | None = None # Populated at the end of a run"
      ]
    },
    {
      "cell_type": "code",
      "execution_count": 16,
      "metadata": {
        "id": "QmTupblVPiWp"
      },
      "outputs": [],
      "source": [
        "class DeepResearchAgent:\n",
        "    \"\"\"A deep research agent class with tracing, state, and tool processing.\"\"\"\n",
        "    def __init__(self, model_name: str, system_message: str, tools: List[Callable]):\n",
        "        self.model_name = model_name\n",
        "        self.system_message = system_message\n",
        "        self.tools = [function_tool(t) for t in tools] # add schemas to the tools\n",
        "\n",
        "    @weave.op(name=\"DeepResearchAgent.step\") # Trace each step\n",
        "    def step(self, state: AgentState) -> AgentState:\n",
        "        step = state.step + 1\n",
        "        messages = state.messages\n",
        "        final_assistant_content = None\n",
        "        try:\n",
        "            # call model with tools\n",
        "            response = call_model(\n",
        "                model_name=self.model_name,\n",
        "                messages=messages,\n",
        "                tools=[t.tool_schema for t in self.tools])\n",
        "\n",
        "            # add the response to the messages\n",
        "            messages.append(response.model_dump())\n",
        "\n",
        "            # if the LLM requested tool calls, perform them\n",
        "            if response.tool_calls:\n",
        "                print(\"LLM requested tool calls:\")\n",
        "                # perform the tool calls\n",
        "                tool_outputs = perform_tool_calls(tools=[clarification_tool, planning_tool, think_tool, exa_search], tool_calls=response.tool_calls)\n",
        "                messages.extend(tool_outputs)\n",
        "\n",
        "            # LLM gave content response\n",
        "            else:\n",
        "                messages.append(response.model_dump())\n",
        "                final_assistant_content = response.content\n",
        "        except Exception as e:\n",
        "            print(f\"ERROR in Agent Step: {e}\")\n",
        "            # Add an error message to history to indicate failure\n",
        "            messages.append({\"role\": \"assistant\", \"content\": f\"Agent error in step: {str(e)}\"})\n",
        "            final_assistant_content = f\"Agent error in step {step}: {str(e)}\"\n",
        "        return AgentState(messages=messages, step=step, final_assistant_content=final_assistant_content)\n",
        "\n",
        "    @weave.op(name=\"DeepResearchAgent.run\")\n",
        "    def run(self, user_prompt: str, max_turns: int = 10) -> AgentState:\n",
        "        state = AgentState(messages=[\n",
        "            {\"role\": \"system\", \"content\": self.system_message},\n",
        "            {\"role\": \"user\", \"content\": user_prompt}])\n",
        "        for _ in range(max_turns):\n",
        "            print(f\"--- Agent Loop Turn {state.step}/{max_turns} ---\")\n",
        "            state = self.step(state)\n",
        "            if state.final_assistant_content:\n",
        "                return state\n",
        "        return state"
      ]
    },
    {
      "cell_type": "markdown",
      "metadata": {
        "id": "vd2u5T11PvOx"
      },
      "source": [
        "## Run"
      ]
    },
    {
      "cell_type": "code",
      "execution_count": 17,
      "metadata": {
        "colab": {
          "base_uri": "https://localhost:8080/"
        },
        "collapsed": true,
        "id": "8oCz5d7fCMy8",
        "outputId": "2516646f-ac15-449e-f61d-bd2254d297a3"
      },
      "outputs": [
        {
          "name": "stderr",
          "output_type": "stream",
          "text": [
            "\u001b[36m\u001b[1mweave\u001b[0m: 🍩 https://wandb.ai/wandb-applied-ai-team/london-workshop-2025/r/call/0199f25e-8b65-7675-9b08-5b9222d949e8\n"
          ]
        },
        {
          "name": "stdout",
          "output_type": "stream",
          "text": [
            "--- Agent Loop Turn 0/10 ---\n",
            "LLM requested tool calls:\n"
          ]
        },
        {
          "data": {
            "text/html": [
              "<pre style=\"white-space:pre;overflow-x:auto;line-height:normal;font-family:Menlo,'DejaVu Sans Mono',consolas,'Courier New',monospace\"></pre>\n"
            ],
            "text/plain": []
          },
          "metadata": {},
          "output_type": "display_data"
        },
        {
          "data": {
            "text/html": [
              "<pre style=\"white-space:pre;overflow-x:auto;line-height:normal;font-family:Menlo,'DejaVu Sans Mono',consolas,'Courier New',monospace\"><span style=\"color: #008080; text-decoration-color: #008080\">╭─────────────────────────────────────────────────────────────────────────────────────────────────────────────────╮</span>\n",
              "<span style=\"color: #008080; text-decoration-color: #008080\">│</span> <span style=\"color: #008080; text-decoration-color: #008080; font-weight: bold\">🔧 Tool Call:</span> planning_tool                                                                                     <span style=\"color: #008080; text-decoration-color: #008080\">│</span>\n",
              "<span style=\"color: #008080; text-decoration-color: #008080\">│</span>                                                                                                                 <span style=\"color: #008080; text-decoration-color: #008080\">│</span>\n",
              "<span style=\"color: #008080; text-decoration-color: #008080\">│</span> <span style=\"color: #7f7f7f; text-decoration-color: #7f7f7f\">Args: {\"plan\": \"Research plan for healthiest vegan milk alternative:\\n\\n1. **Analysis of request**: Looking for</span> <span style=\"color: #008080; text-decoration-color: #008080\">│</span>\n",
              "<span style=\"color: #008080; text-decoration-color: #008080\">│</span> <span style=\"color: #7f7f7f; text-decoration-color: #7f7f7f\">the single healthiest vegan milk option based on nutritional profile, not personal taste/availability </span>          <span style=\"color: #008080; text-decoration-color: #008080\">│</span>\n",
              "<span style=\"color: #008080; text-decoration-color: #008080\">│</span> <span style=\"color: #7f7f7f; text-decoration-color: #7f7f7f\">preferences.\\n\\n2. **Sub-queries to research**:\\n   - Comprehensive nutritional comparison of major vegan milk </span> <span style=\"color: #008080; text-decoration-color: #008080\">│</span>\n",
              "<span style=\"color: #008080; text-decoration-color: #008080\">│</span> <span style=\"color: #7f7f7f; text-decoration-color: #7f7f7f\">types (soy, oat, almond, coconut, cashew, pea, rice)\\n   - Comparison of protein content across different plant</span> <span style=\"color: #008080; text-decoration-color: #008080\">│</span>\n",
              "<span style=\"color: #008080; text-decoration-color: #008080\">│</span> <span style=\"color: #7f7f7f; text-decoration-color: #7f7f7f\">milks\\n   - Added sugars and fortification levels in different types\\n   - Expert recommendations from </span>         <span style=\"color: #008080; text-decoration-color: #008080\">│</span>\n",
              "<span style=\"color: #008080; text-decoration-color: #008080\">│</span> <span style=\"color: #7f7f7f; text-decoration-color: #7f7f7f\">nutritionists/dietitians\\n   - Any health concerns or recent research findings about specific types\"}</span>           <span style=\"color: #008080; text-decoration-color: #008080\">│</span>\n",
              "<span style=\"color: #008080; text-decoration-color: #008080\">│</span>                                                                                                                 <span style=\"color: #008080; text-decoration-color: #008080\">│</span>\n",
              "<span style=\"color: #008080; text-decoration-color: #008080\">│</span> <span style=\"color: #008000; text-decoration-color: #008000\">✓</span> planning_tool executed successfully                                                                           <span style=\"color: #008080; text-decoration-color: #008080\">│</span>\n",
              "<span style=\"color: #008080; text-decoration-color: #008080\">╰─────────────────────────────────────────────────────────────────────────────────────────────────────────────────╯</span>\n",
              "</pre>\n"
            ],
            "text/plain": [
              "\u001b[36m╭─────────────────────────────────────────────────────────────────────────────────────────────────────────────────╮\u001b[0m\n",
              "\u001b[36m│\u001b[0m \u001b[1;36m🔧 Tool Call:\u001b[0m planning_tool                                                                                     \u001b[36m│\u001b[0m\n",
              "\u001b[36m│\u001b[0m                                                                                                                 \u001b[36m│\u001b[0m\n",
              "\u001b[36m│\u001b[0m \u001b[2mArgs: {\"plan\": \"Research plan for healthiest vegan milk alternative:\\n\\n1. **Analysis of request**: Looking for\u001b[0m \u001b[36m│\u001b[0m\n",
              "\u001b[36m│\u001b[0m \u001b[2mthe single healthiest vegan milk option based on nutritional profile, not personal taste/availability \u001b[0m          \u001b[36m│\u001b[0m\n",
              "\u001b[36m│\u001b[0m \u001b[2mpreferences.\\n\\n2. **Sub-queries to research**:\\n   - Comprehensive nutritional comparison of major vegan milk \u001b[0m \u001b[36m│\u001b[0m\n",
              "\u001b[36m│\u001b[0m \u001b[2mtypes (soy, oat, almond, coconut, cashew, pea, rice)\\n   - Comparison of protein content across different plant\u001b[0m \u001b[36m│\u001b[0m\n",
              "\u001b[36m│\u001b[0m \u001b[2mmilks\\n   - Added sugars and fortification levels in different types\\n   - Expert recommendations from \u001b[0m         \u001b[36m│\u001b[0m\n",
              "\u001b[36m│\u001b[0m \u001b[2mnutritionists/dietitians\\n   - Any health concerns or recent research findings about specific types\"}\u001b[0m           \u001b[36m│\u001b[0m\n",
              "\u001b[36m│\u001b[0m                                                                                                                 \u001b[36m│\u001b[0m\n",
              "\u001b[36m│\u001b[0m \u001b[32m✓\u001b[0m planning_tool executed successfully                                                                           \u001b[36m│\u001b[0m\n",
              "\u001b[36m╰─────────────────────────────────────────────────────────────────────────────────────────────────────────────────╯\u001b[0m\n"
            ]
          },
          "metadata": {},
          "output_type": "display_data"
        },
        {
          "name": "stdout",
          "output_type": "stream",
          "text": [
            "--- Agent Loop Turn 1/10 ---\n",
            "LLM requested tool calls:\n"
          ]
        },
        {
          "data": {
            "text/html": [
              "<pre style=\"white-space:pre;overflow-x:auto;line-height:normal;font-family:Menlo,'DejaVu Sans Mono',consolas,'Courier New',monospace\">Refining result <span style=\"color: #008080; text-decoration-color: #008080; font-weight: bold\">1</span>\n",
              "</pre>\n"
            ],
            "text/plain": [
              "Refining result \u001b[1;36m1\u001b[0m\n"
            ]
          },
          "metadata": {},
          "output_type": "display_data"
        },
        {
          "data": {
            "text/html": [
              "<pre style=\"white-space:pre;overflow-x:auto;line-height:normal;font-family:Menlo,'DejaVu Sans Mono',consolas,'Courier New',monospace\">Refining result <span style=\"color: #008080; text-decoration-color: #008080; font-weight: bold\">2</span>\n",
              "</pre>\n"
            ],
            "text/plain": [
              "Refining result \u001b[1;36m2\u001b[0m\n"
            ]
          },
          "metadata": {},
          "output_type": "display_data"
        },
        {
          "data": {
            "text/html": [
              "<pre style=\"white-space:pre;overflow-x:auto;line-height:normal;font-family:Menlo,'DejaVu Sans Mono',consolas,'Courier New',monospace\">Refining result <span style=\"color: #008080; text-decoration-color: #008080; font-weight: bold\">3</span>\n",
              "</pre>\n"
            ],
            "text/plain": [
              "Refining result \u001b[1;36m3\u001b[0m\n"
            ]
          },
          "metadata": {},
          "output_type": "display_data"
        },
        {
          "data": {
            "text/html": [
              "<pre style=\"white-space:pre;overflow-x:auto;line-height:normal;font-family:Menlo,'DejaVu Sans Mono',consolas,'Courier New',monospace\">Refining result <span style=\"color: #008080; text-decoration-color: #008080; font-weight: bold\">4</span>\n",
              "</pre>\n"
            ],
            "text/plain": [
              "Refining result \u001b[1;36m4\u001b[0m\n"
            ]
          },
          "metadata": {},
          "output_type": "display_data"
        },
        {
          "data": {
            "text/html": [
              "<pre style=\"white-space:pre;overflow-x:auto;line-height:normal;font-family:Menlo,'DejaVu Sans Mono',consolas,'Courier New',monospace\">Refining result <span style=\"color: #008080; text-decoration-color: #008080; font-weight: bold\">5</span>\n",
              "</pre>\n"
            ],
            "text/plain": [
              "Refining result \u001b[1;36m5\u001b[0m\n"
            ]
          },
          "metadata": {},
          "output_type": "display_data"
        },
        {
          "data": {
            "text/html": [
              "<pre style=\"white-space:pre;overflow-x:auto;line-height:normal;font-family:Menlo,'DejaVu Sans Mono',consolas,'Courier New',monospace\">Refining result <span style=\"color: #008080; text-decoration-color: #008080; font-weight: bold\">6</span>\n",
              "</pre>\n"
            ],
            "text/plain": [
              "Refining result \u001b[1;36m6\u001b[0m\n"
            ]
          },
          "metadata": {},
          "output_type": "display_data"
        },
        {
          "data": {
            "text/html": [
              "<pre style=\"white-space:pre;overflow-x:auto;line-height:normal;font-family:Menlo,'DejaVu Sans Mono',consolas,'Courier New',monospace\"></pre>\n"
            ],
            "text/plain": []
          },
          "metadata": {},
          "output_type": "display_data"
        },
        {
          "data": {
            "text/html": [
              "<pre style=\"white-space:pre;overflow-x:auto;line-height:normal;font-family:Menlo,'DejaVu Sans Mono',consolas,'Courier New',monospace\"><span style=\"color: #008080; text-decoration-color: #008080\">╭─────────────────────────────────────────────────────────────────────────────────────────────────────────────────╮</span>\n",
              "<span style=\"color: #008080; text-decoration-color: #008080\">│</span> <span style=\"color: #008080; text-decoration-color: #008080; font-weight: bold\">🔧 Tool Call:</span> exa_search_and_refine                                                                             <span style=\"color: #008080; text-decoration-color: #008080\">│</span>\n",
              "<span style=\"color: #008080; text-decoration-color: #008080\">│</span>                                                                                                                 <span style=\"color: #008080; text-decoration-color: #008080\">│</span>\n",
              "<span style=\"color: #008080; text-decoration-color: #008080\">│</span> <span style=\"color: #7f7f7f; text-decoration-color: #7f7f7f\">Args: {\"query\": \"healthiest vegan milk alternative nutrition comparison soy oat almond pea coconut protein </span>     <span style=\"color: #008080; text-decoration-color: #008080\">│</span>\n",
              "<span style=\"color: #008080; text-decoration-color: #008080\">│</span> <span style=\"color: #7f7f7f; text-decoration-color: #7f7f7f\">calcium vitamins\", \"num_results\": 6}</span>                                                                            <span style=\"color: #008080; text-decoration-color: #008080\">│</span>\n",
              "<span style=\"color: #008080; text-decoration-color: #008080\">│</span>                                                                                                                 <span style=\"color: #008080; text-decoration-color: #008080\">│</span>\n",
              "<span style=\"color: #008080; text-decoration-color: #008080\">│</span> <span style=\"color: #008000; text-decoration-color: #008000\">✓</span> Found 6 results                                                                                               <span style=\"color: #008080; text-decoration-color: #008080\">│</span>\n",
              "<span style=\"color: #008080; text-decoration-color: #008080\">╰─────────────────────────────────────────────────────────────────────────────────────────────────────────────────╯</span>\n",
              "</pre>\n"
            ],
            "text/plain": [
              "\u001b[36m╭─────────────────────────────────────────────────────────────────────────────────────────────────────────────────╮\u001b[0m\n",
              "\u001b[36m│\u001b[0m \u001b[1;36m🔧 Tool Call:\u001b[0m exa_search_and_refine                                                                             \u001b[36m│\u001b[0m\n",
              "\u001b[36m│\u001b[0m                                                                                                                 \u001b[36m│\u001b[0m\n",
              "\u001b[36m│\u001b[0m \u001b[2mArgs: {\"query\": \"healthiest vegan milk alternative nutrition comparison soy oat almond pea coconut protein \u001b[0m     \u001b[36m│\u001b[0m\n",
              "\u001b[36m│\u001b[0m \u001b[2mcalcium vitamins\", \"num_results\": 6}\u001b[0m                                                                            \u001b[36m│\u001b[0m\n",
              "\u001b[36m│\u001b[0m                                                                                                                 \u001b[36m│\u001b[0m\n",
              "\u001b[36m│\u001b[0m \u001b[32m✓\u001b[0m Found 6 results                                                                                               \u001b[36m│\u001b[0m\n",
              "\u001b[36m╰─────────────────────────────────────────────────────────────────────────────────────────────────────────────────╯\u001b[0m\n"
            ]
          },
          "metadata": {},
          "output_type": "display_data"
        },
        {
          "name": "stdout",
          "output_type": "stream",
          "text": [
            "--- Agent Loop Turn 2/10 ---\n",
            "LLM requested tool calls:\n"
          ]
        },
        {
          "data": {
            "text/html": [
              "<pre style=\"white-space:pre;overflow-x:auto;line-height:normal;font-family:Menlo,'DejaVu Sans Mono',consolas,'Courier New',monospace\"></pre>\n"
            ],
            "text/plain": []
          },
          "metadata": {},
          "output_type": "display_data"
        },
        {
          "data": {
            "text/html": [
              "<pre style=\"white-space:pre;overflow-x:auto;line-height:normal;font-family:Menlo,'DejaVu Sans Mono',consolas,'Courier New',monospace\"><span style=\"color: #008080; text-decoration-color: #008080\">╭─────────────────────────────────────────────────────────────────────────────────────────────────────────────────╮</span>\n",
              "<span style=\"color: #008080; text-decoration-color: #008080\">│</span> <span style=\"color: #008080; text-decoration-color: #008080; font-weight: bold\">🔧 Tool Call:</span> think_tool                                                                                        <span style=\"color: #008080; text-decoration-color: #008080\">│</span>\n",
              "<span style=\"color: #008080; text-decoration-color: #008080\">│</span>                                                                                                                 <span style=\"color: #008080; text-decoration-color: #008080\">│</span>\n",
              "<span style=\"color: #008080; text-decoration-color: #008080\">│</span> <span style=\"color: #7f7f7f; text-decoration-color: #7f7f7f\">Args: {\"reflection\": \"I've gathered comprehensive information from 5 expert sources including dietitians, </span>      <span style=\"color: #008080; text-decoration-color: #008080\">│</span>\n",
              "<span style=\"color: #008080; text-decoration-color: #008080\">│</span> <span style=\"color: #7f7f7f; text-decoration-color: #7f7f7f\">scientific studies, and health organizations. The evidence is remarkably consistent:\\n\\n**Key findings so </span>      <span style=\"color: #008080; text-decoration-color: #008080\">│</span>\n",
              "<span style=\"color: #008080; text-decoration-color: #008080\">│</span> <span style=\"color: #7f7f7f; text-decoration-color: #7f7f7f\">far:**\\n- **Soy milk** is consistently ranked as the healthiest option across multiple sources\\n- **Pea milk** </span> <span style=\"color: #008080; text-decoration-color: #008080\">│</span>\n",
              "<span style=\"color: #008080; text-decoration-color: #008080\">│</span> <span style=\"color: #7f7f7f; text-decoration-color: #7f7f7f\">is mentioned as comparable to soy, particularly for protein content\\n- All other types (almond, oat, coconut, </span>  <span style=\"color: #008080; text-decoration-color: #008080\">│</span>\n",
              "<span style=\"color: #008080; text-decoration-color: #008080\">│</span> <span style=\"color: #7f7f7f; text-decoration-color: #7f7f7f\">hemp, rice) are significantly lower in protein and overall nutrition\\n- Multiple authoritative sources (FDA, </span>   <span style=\"color: #008080; text-decoration-color: #008080\">│</span>\n",
              "<span style=\"color: #008080; text-decoration-color: #008080\">│</span> <span style=\"color: #7f7f7f; text-decoration-color: #7f7f7f\">dietitians, scientific studies) recommend soy milk specifically\\n- FDA recognizes soy milk as the only </span>         <span style=\"color: #008080; text-decoration-color: #008080\">│</span>\n",
              "<span style=\"color: #008080; text-decoration-color: #008080\">│</span> <span style=\"color: #7f7f7f; text-decoration-color: #7f7f7f\">plant-based milk that nutritionally approximates dairy milk\\n\\n**What's missing:**\\n- A few sources mention pea</span> <span style=\"color: #008080; text-decoration-color: #008080\">│</span>\n",
              "<span style=\"color: #008080; text-decoration-color: #008080\">│</span> <span style=\"color: #7f7f7f; text-decoration-color: #7f7f7f\">milk but I need more specific comparative data between soy and pea\\n- Any potential downsides or </span>               <span style=\"color: #008080; text-decoration-color: #008080\">│</span>\n",
              "<span style=\"color: #008080; text-decoration-color: #008080\">│</span> <span style=\"color: #7f7f7f; text-decoration-color: #7f7f7f\">contraindications I should highlight beyond the general glyphosate/organic considerations\\n\\n**Current </span>         <span style=\"color: #008080; text-decoration-color: #008080\">│</span>\n",
              "<span style=\"color: #008080; text-decoration-color: #008080\">│</span> <span style=\"color: #7f7f7f; text-decoration-color: #7f7f7f\">assessment:** I have more than enough evidence to provide a comprehensive answer. The consensus across </span>         <span style=\"color: #008080; text-decoration-color: #008080\">│</span>\n",
              "<span style=\"color: #008080; text-decoration-color: #008080\">│</span> <span style=\"color: #7f7f7f; text-decoration-color: #7f7f7f\">dietitians, FDA guidelines, and scientific literature clearly points to soy milk as the healthiest option, with</span> <span style=\"color: #008080; text-decoration-color: #008080\">│</span>\n",
              "<span style=\"color: #008080; text-decoration-color: #008080\">│</span> <span style=\"color: #7f7f7f; text-decoration-color: #7f7f7f\">pea milk as a close second. I should provide the answer now rather than searching further to avoid </span>             <span style=\"color: #008080; text-decoration-color: #008080\">│</span>\n",
              "<span style=\"color: #008080; text-decoration-color: #008080\">│</span> <span style=\"color: #7f7f7f; text-decoration-color: #7f7f7f\">redundancy.\"}</span>                                                                                                   <span style=\"color: #008080; text-decoration-color: #008080\">│</span>\n",
              "<span style=\"color: #008080; text-decoration-color: #008080\">│</span>                                                                                                                 <span style=\"color: #008080; text-decoration-color: #008080\">│</span>\n",
              "<span style=\"color: #008080; text-decoration-color: #008080\">│</span> <span style=\"color: #008000; text-decoration-color: #008000\">✓</span> think_tool executed successfully                                                                              <span style=\"color: #008080; text-decoration-color: #008080\">│</span>\n",
              "<span style=\"color: #008080; text-decoration-color: #008080\">╰─────────────────────────────────────────────────────────────────────────────────────────────────────────────────╯</span>\n",
              "</pre>\n"
            ],
            "text/plain": [
              "\u001b[36m╭─────────────────────────────────────────────────────────────────────────────────────────────────────────────────╮\u001b[0m\n",
              "\u001b[36m│\u001b[0m \u001b[1;36m🔧 Tool Call:\u001b[0m think_tool                                                                                        \u001b[36m│\u001b[0m\n",
              "\u001b[36m│\u001b[0m                                                                                                                 \u001b[36m│\u001b[0m\n",
              "\u001b[36m│\u001b[0m \u001b[2mArgs: {\"reflection\": \"I've gathered comprehensive information from 5 expert sources including dietitians, \u001b[0m      \u001b[36m│\u001b[0m\n",
              "\u001b[36m│\u001b[0m \u001b[2mscientific studies, and health organizations. The evidence is remarkably consistent:\\n\\n**Key findings so \u001b[0m      \u001b[36m│\u001b[0m\n",
              "\u001b[36m│\u001b[0m \u001b[2mfar:**\\n- **Soy milk** is consistently ranked as the healthiest option across multiple sources\\n- **Pea milk** \u001b[0m \u001b[36m│\u001b[0m\n",
              "\u001b[36m│\u001b[0m \u001b[2mis mentioned as comparable to soy, particularly for protein content\\n- All other types (almond, oat, coconut, \u001b[0m  \u001b[36m│\u001b[0m\n",
              "\u001b[36m│\u001b[0m \u001b[2mhemp, rice) are significantly lower in protein and overall nutrition\\n- Multiple authoritative sources (FDA, \u001b[0m   \u001b[36m│\u001b[0m\n",
              "\u001b[36m│\u001b[0m \u001b[2mdietitians, scientific studies) recommend soy milk specifically\\n- FDA recognizes soy milk as the only \u001b[0m         \u001b[36m│\u001b[0m\n",
              "\u001b[36m│\u001b[0m \u001b[2mplant-based milk that nutritionally approximates dairy milk\\n\\n**What's missing:**\\n- A few sources mention pea\u001b[0m \u001b[36m│\u001b[0m\n",
              "\u001b[36m│\u001b[0m \u001b[2mmilk but I need more specific comparative data between soy and pea\\n- Any potential downsides or \u001b[0m               \u001b[36m│\u001b[0m\n",
              "\u001b[36m│\u001b[0m \u001b[2mcontraindications I should highlight beyond the general glyphosate/organic considerations\\n\\n**Current \u001b[0m         \u001b[36m│\u001b[0m\n",
              "\u001b[36m│\u001b[0m \u001b[2massessment:** I have more than enough evidence to provide a comprehensive answer. The consensus across \u001b[0m         \u001b[36m│\u001b[0m\n",
              "\u001b[36m│\u001b[0m \u001b[2mdietitians, FDA guidelines, and scientific literature clearly points to soy milk as the healthiest option, with\u001b[0m \u001b[36m│\u001b[0m\n",
              "\u001b[36m│\u001b[0m \u001b[2mpea milk as a close second. I should provide the answer now rather than searching further to avoid \u001b[0m             \u001b[36m│\u001b[0m\n",
              "\u001b[36m│\u001b[0m \u001b[2mredundancy.\"}\u001b[0m                                                                                                   \u001b[36m│\u001b[0m\n",
              "\u001b[36m│\u001b[0m                                                                                                                 \u001b[36m│\u001b[0m\n",
              "\u001b[36m│\u001b[0m \u001b[32m✓\u001b[0m think_tool executed successfully                                                                              \u001b[36m│\u001b[0m\n",
              "\u001b[36m╰─────────────────────────────────────────────────────────────────────────────────────────────────────────────────╯\u001b[0m\n"
            ]
          },
          "metadata": {},
          "output_type": "display_data"
        },
        {
          "name": "stdout",
          "output_type": "stream",
          "text": [
            "--- Agent Loop Turn 3/10 ---\n",
            "Final response: Based on comprehensive research from nutritionists, scientific studies, and health authorities, **unsweetened, fortified soy milk is consistently recognized as the healthiest vegan milk alternative**.\n",
            "\n",
            "## Why Soy Milk Ranks #1\n",
            "\n",
            "**Nutritional Superiority:**\n",
            "- **Highest protein content** among plant milks: 7-8g per cup (closest to cow's milk)\n",
            "- **Complete protein** profile with all essential amino acids\n",
            "- **Comprehensive fortification**: Rich in calcium (300mg+), vitamin D (100+ IU), and B12\n",
            "- **FDA recognition**: Only plant-based milk officially grouped with dairy in U.S. Dietary Guidelines due to similar nutritional profile\n",
            "\n",
            "**Scientific Backing:**\n",
            "- Peer-reviewed studies published in PubMed show soy milk provides the greatest total nutrient contribution compared to other plant milks\n",
            "- Research on safety and benefits shows potential cancer risk reduction\n",
            "- Superior protein quality (DIAAS score) compared to other plant options\n",
            "\n",
            "## Other Strong Options\n",
            "\n",
            "**Pea milk** emerges as a close second, providing:\n",
            "- Similar protein to soy: ~8g per cup\n",
            "- Excellent fortification levels\n",
            "- Hypoallergenic benefits for those avoiding soy\n",
            "\n",
            "## When to Choose Alternatives\n",
            "\n",
            "**Soy milk is ideal unless you have:**\n",
            "- Soy allergies → Choose pea milk\n",
            "- Hypothyroid conditions → Consult your doctor, but moderate amounts are generally safe\n",
            "- GMO concerns → Always choose **organic** soy milk\n",
            "\n",
            "## What to Avoid\n",
            "- **Sweetened versions** with added sugars\n",
            "- **Almond, coconut, oat, and rice milks** have significantly lower protein (0-3g) and overall nutritional value\n",
            "- Contaminants like **glyphosate** can be avoided by choosing organic options\n",
            "\n",
            "**Bottom line**: For optimal nutrition, choose **unsweetened, organic, fortified soy milk**. This provides the closest nutritional match to dairy milk while offering complete plant-based nutrition.\n"
          ]
        }
      ],
      "source": [
        "if __name__ == \"__main__\":\n",
        "\n",
        "\tagent = DeepResearchAgent(\n",
        "\t\tmodel_name=MODEL_LARGE,\n",
        "\t\tsystem_message=DEEP_RESEARCH_AGENT_PROMPT.format(date=get_today_str()),\n",
        "\t\ttools=[clarification_tool, planning_tool, think_tool, exa_search]\n",
        "\t)\n",
        "\tstate = agent.run(user_prompt=\"What type of vegan milk alternative is the healthiest?\")\n",
        "\tprint(f\"Final response: {state.final_assistant_content}\")"
      ]
    },
    {
      "cell_type": "markdown",
      "metadata": {
        "id": "6_5IL_dXexSz"
      },
      "source": []
    }
  ],
  "metadata": {
    "colab": {
      "provenance": []
    },
    "kernelspec": {
      "display_name": ".venv",
      "language": "python",
      "name": "python3"
    },
    "language_info": {
      "codemirror_mode": {
        "name": "ipython",
        "version": 3
      },
      "file_extension": ".py",
      "mimetype": "text/x-python",
      "name": "python",
      "nbconvert_exporter": "python",
      "pygments_lexer": "ipython3",
      "version": "3.12.7"
    },
    "widgets": {
      "application/vnd.jupyter.widget-state+json": {
        "2979e24129fb43f2b26af01503c7dadb": {
          "model_module": "@jupyter-widgets/base",
          "model_module_version": "1.2.0",
          "model_name": "LayoutModel",
          "state": {
            "_model_module": "@jupyter-widgets/base",
            "_model_module_version": "1.2.0",
            "_model_name": "LayoutModel",
            "_view_count": null,
            "_view_module": "@jupyter-widgets/base",
            "_view_module_version": "1.2.0",
            "_view_name": "LayoutView",
            "align_content": null,
            "align_items": null,
            "align_self": null,
            "border": null,
            "bottom": null,
            "display": null,
            "flex": null,
            "flex_flow": null,
            "grid_area": null,
            "grid_auto_columns": null,
            "grid_auto_flow": null,
            "grid_auto_rows": null,
            "grid_column": null,
            "grid_gap": null,
            "grid_row": null,
            "grid_template_areas": null,
            "grid_template_columns": null,
            "grid_template_rows": null,
            "height": null,
            "justify_content": null,
            "justify_items": null,
            "left": null,
            "margin": null,
            "max_height": null,
            "max_width": null,
            "min_height": null,
            "min_width": null,
            "object_fit": null,
            "object_position": null,
            "order": null,
            "overflow": null,
            "overflow_x": null,
            "overflow_y": null,
            "padding": null,
            "right": null,
            "top": null,
            "visibility": null,
            "width": null
          }
        },
        "8e94c428730841c3bdaeaf82eb73381b": {
          "model_module": "@jupyter-widgets/output",
          "model_module_version": "1.0.0",
          "model_name": "OutputModel",
          "state": {
            "_dom_classes": [],
            "_model_module": "@jupyter-widgets/output",
            "_model_module_version": "1.0.0",
            "_model_name": "OutputModel",
            "_view_count": null,
            "_view_module": "@jupyter-widgets/output",
            "_view_module_version": "1.0.0",
            "_view_name": "OutputView",
            "layout": "IPY_MODEL_2979e24129fb43f2b26af01503c7dadb",
            "msg_id": "",
            "outputs": [
              {
                "data": {
                  "text/html": "<pre style=\"white-space:pre;overflow-x:auto;line-height:normal;font-family:Menlo,'DejaVu Sans Mono',consolas,'Courier New',monospace\"></pre>\n",
                  "text/plain": ""
                },
                "metadata": {},
                "output_type": "display_data"
              }
            ]
          }
        }
      }
    }
  },
  "nbformat": 4,
  "nbformat_minor": 0
}
