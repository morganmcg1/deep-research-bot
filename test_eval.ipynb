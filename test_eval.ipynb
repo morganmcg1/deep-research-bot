{
 "cells": [
  {
   "cell_type": "code",
   "execution_count": null,
   "id": "08955a10",
   "metadata": {},
   "outputs": [],
   "source": [
    "from evaluation.eval import run_evaluation\n",
    "from evaluation.eval_config import EvalConfig\n",
    "import weave\n",
    "\n",
    "# Define a function that takes a string and returns a string, or a dict with a 'text' key, an \"article\" key or a \"output\" key\n",
    "@weave.op\n",
    "def my_agent(query: str) -> str:\n",
    "    return \"Space is cool\""
   ]
  },
  {
   "cell_type": "markdown",
   "id": "77378c9a",
   "metadata": {},
   "source": [
    "# Debug Run"
   ]
  },
  {
   "cell_type": "code",
   "execution_count": null,
   "id": "dd9f71d4",
   "metadata": {},
   "outputs": [],
   "source": [
    "eval_config = EvalConfig(debug=True)\n",
    "\n",
    "results = await run_evaluation(\n",
    "    eval_config=eval_config,\n",
    "    agent_callable=my_agent,\n",
    ")\n",
    "results"
   ]
  },
  {
   "cell_type": "markdown",
   "id": "f3063735",
   "metadata": {},
   "source": [
    "# Full Eval"
   ]
  },
  {
   "cell_type": "code",
   "execution_count": null,
   "id": "bfb28710",
   "metadata": {},
   "outputs": [],
   "source": [
    "eval_config = EvalConfig(\n",
    "    evaluation_name=\"test_dummy_agent\",\n",
    "    trials=3,\n",
    "    weave_parallelism=40,\n",
    ")\n",
    "\n",
    "results = await run_evaluation(\n",
    "    eval_config=eval_config,\n",
    "    agent_callable=my_agent,\n",
    ")\n",
    "results"
   ]
  },
  {
   "cell_type": "markdown",
   "id": "dc4b4049",
   "metadata": {},
   "source": []
  }
 ],
 "metadata": {
  "kernelspec": {
   "display_name": ".venv",
   "language": "python",
   "name": "python3"
  },
  "language_info": {
   "codemirror_mode": {
    "name": "ipython",
    "version": 3
   },
   "file_extension": ".py",
   "mimetype": "text/x-python",
   "name": "python",
   "nbconvert_exporter": "python",
   "pygments_lexer": "ipython3",
   "version": "3.12.11"
  }
 },
 "nbformat": 4,
 "nbformat_minor": 5
}
